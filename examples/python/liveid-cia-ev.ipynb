{
 "cells": [
  {
   "cell_type": "code",
   "execution_count": 2,
   "metadata": {
    "scrolled": true
   },
   "outputs": [
    {
     "data": {
      "application/javascript": [
       "\n",
       "            setTimeout(function() {\n",
       "                var nbb_cell_id = 2;\n",
       "                var nbb_unformatted_code = \"%load_ext nb_black\\n%load_ext Cython\";\n",
       "                var nbb_formatted_code = \"%load_ext nb_black\\n%load_ext Cython\";\n",
       "                var nbb_cells = Jupyter.notebook.get_cells();\n",
       "                for (var i = 0; i < nbb_cells.length; ++i) {\n",
       "                    if (nbb_cells[i].input_prompt_number == nbb_cell_id) {\n",
       "                        if (nbb_cells[i].get_text() == nbb_unformatted_code) {\n",
       "                             nbb_cells[i].set_text(nbb_formatted_code);\n",
       "                        }\n",
       "                        break;\n",
       "                    }\n",
       "                }\n",
       "            }, 500);\n",
       "            "
      ],
      "text/plain": [
       "<IPython.core.display.Javascript object>"
      ]
     },
     "metadata": {},
     "output_type": "display_data"
    }
   ],
   "source": [
    "%load_ext nb_black\n",
    "%load_ext Cython"
   ]
  },
  {
   "cell_type": "code",
   "execution_count": 3,
   "metadata": {},
   "outputs": [
    {
     "data": {
      "application/javascript": [
       "\n",
       "            setTimeout(function() {\n",
       "                var nbb_cell_id = 3;\n",
       "                var nbb_unformatted_code = \"%%cython\\n\\nfrom pyhpfw import ParallelCollector\\nimport glob\\nimport pickle\\nimport numpy as np\\nimport os\\nimport librosa\\ncimport numpy as np\\ncimport cython\\nfrom libc.stdint cimport uint64_t\\n\\ncdef extern int __builtin_popcountll(unsigned long long) nogil\\n        \\n@cython.boundscheck(False)\\n@cython.wraparound(False)\\ncdef unsigned long long _xor(uint64_t[:] array1, uint64_t[:] array2) nogil:\\n    cdef int i\\n    cdef unsigned long long cnt = 0\\n    for i in xrange(len(array1)):\\n        cnt += __builtin_popcountll(array1[i] ^ array2[i])\\n    return cnt\\n\\n@cython.boundscheck(False)\\n@cython.wraparound(False)\\ncdef unsigned long long _match_to_ref(uint64_t[:] query, uint64_t[:] ref) nogil:\\n    cdef unsigned long long bestDistance = 4294967294\\n    cdef int bestIndex = 0\\n    cdef int k = len(query)\\n    cdef int n = len(ref)\\n    \\n    cdef int startCol\\n    cdef int endCol\\n    cdef unsigned long long distance\\n    for i in range(n - k + 1):\\n        startCol = i\\n        endCol = startCol + k - 1\\n        distance = _xor(query, ref[startCol : endCol + 1])\\n\\n        if distance < bestDistance:\\n            bestDistance = distance\\n            bestIndex = i\\n\\n    return bestDistance\\n\\ndef match_to_ref(query, ref):\\n    return _match_to_ref(query, ref)\\n\\ndef fast_xor(array1, array2):\\n    return _xor(array1, array2)\";\n",
       "                var nbb_formatted_code = \"%%cython\\n\\nfrom pyhpfw import ParallelCollector\\nimport glob\\nimport pickle\\nimport numpy as np\\nimport os\\nimport librosa\\ncimport numpy as np\\ncimport cython\\nfrom libc.stdint cimport uint64_t\\n\\ncdef extern int __builtin_popcountll(unsigned long long) nogil\\n        \\n@cython.boundscheck(False)\\n@cython.wraparound(False)\\ncdef unsigned long long _xor(uint64_t[:] array1, uint64_t[:] array2) nogil:\\n    cdef int i\\n    cdef unsigned long long cnt = 0\\n    for i in xrange(len(array1)):\\n        cnt += __builtin_popcountll(array1[i] ^ array2[i])\\n    return cnt\\n\\n@cython.boundscheck(False)\\n@cython.wraparound(False)\\ncdef unsigned long long _match_to_ref(uint64_t[:] query, uint64_t[:] ref) nogil:\\n    cdef unsigned long long bestDistance = 4294967294\\n    cdef int bestIndex = 0\\n    cdef int k = len(query)\\n    cdef int n = len(ref)\\n    \\n    cdef int startCol\\n    cdef int endCol\\n    cdef unsigned long long distance\\n    for i in range(n - k + 1):\\n        startCol = i\\n        endCol = startCol + k - 1\\n        distance = _xor(query, ref[startCol : endCol + 1])\\n\\n        if distance < bestDistance:\\n            bestDistance = distance\\n            bestIndex = i\\n\\n    return bestDistance\\n\\ndef match_to_ref(query, ref):\\n    return _match_to_ref(query, ref)\\n\\ndef fast_xor(array1, array2):\\n    return _xor(array1, array2)\";\n",
       "                var nbb_cells = Jupyter.notebook.get_cells();\n",
       "                for (var i = 0; i < nbb_cells.length; ++i) {\n",
       "                    if (nbb_cells[i].input_prompt_number == nbb_cell_id) {\n",
       "                        if (nbb_cells[i].get_text() == nbb_unformatted_code) {\n",
       "                             nbb_cells[i].set_text(nbb_formatted_code);\n",
       "                        }\n",
       "                        break;\n",
       "                    }\n",
       "                }\n",
       "            }, 500);\n",
       "            "
      ],
      "text/plain": [
       "<IPython.core.display.Javascript object>"
      ]
     },
     "metadata": {},
     "output_type": "display_data"
    }
   ],
   "source": [
    "%%cython\n",
    "\n",
    "from pyhpfw import ParallelCollector\n",
    "import glob\n",
    "import pickle\n",
    "import numpy as np\n",
    "import os\n",
    "import librosa\n",
    "import soundfile as sf\n",
    "cimport numpy as np\n",
    "cimport cython\n",
    "from libc.stdint cimport uint64_t\n",
    "\n",
    "cdef extern int __builtin_popcountll(unsigned long long) nogil\n",
    "        \n",
    "@cython.boundscheck(False)\n",
    "@cython.wraparound(False)\n",
    "cdef unsigned long long _xor(uint64_t[:] array1, uint64_t[:] array2) nogil:\n",
    "    cdef int i\n",
    "    cdef unsigned long long cnt = 0\n",
    "    for i in xrange(len(array1)):\n",
    "        cnt += __builtin_popcountll(array1[i] ^ array2[i])\n",
    "    return cnt\n",
    "\n",
    "@cython.boundscheck(False)\n",
    "@cython.wraparound(False)\n",
    "cdef unsigned long long _match_to_ref(uint64_t[:] query, uint64_t[:] ref) nogil:\n",
    "    cdef unsigned long long bestDistance = 4294967294\n",
    "    cdef int bestIndex = 0\n",
    "    cdef int k = len(query)\n",
    "    cdef int n = len(ref)\n",
    "    \n",
    "    cdef int startCol\n",
    "    cdef int endCol\n",
    "    cdef unsigned long long distance\n",
    "    for i in range(n - k + 1):\n",
    "        startCol = i\n",
    "        endCol = startCol + k - 1\n",
    "        distance = _xor(query, ref[startCol : endCol + 1])\n",
    "\n",
    "        if distance < bestDistance:\n",
    "            bestDistance = distance\n",
    "            bestIndex = i\n",
    "\n",
    "    return bestDistance\n",
    "\n",
    "def match_to_ref(query, ref):\n",
    "    return _match_to_ref(query, ref)\n",
    "\n",
    "def fast_xor(array1, array2):\n",
    "    return _xor(array1, array2)"
   ]
  },
  {
   "cell_type": "code",
   "execution_count": 4,
   "metadata": {},
   "outputs": [
    {
     "data": {
      "application/javascript": [
       "\n",
       "            setTimeout(function() {\n",
       "                var nbb_cell_id = 4;\n",
       "                var nbb_unformatted_code = \"collector = ParallelCollector()\";\n",
       "                var nbb_formatted_code = \"collector = ParallelCollector()\";\n",
       "                var nbb_cells = Jupyter.notebook.get_cells();\n",
       "                for (var i = 0; i < nbb_cells.length; ++i) {\n",
       "                    if (nbb_cells[i].input_prompt_number == nbb_cell_id) {\n",
       "                        if (nbb_cells[i].get_text() == nbb_unformatted_code) {\n",
       "                             nbb_cells[i].set_text(nbb_formatted_code);\n",
       "                        }\n",
       "                        break;\n",
       "                    }\n",
       "                }\n",
       "            }, 500);\n",
       "            "
      ],
      "text/plain": [
       "<IPython.core.display.Javascript object>"
      ]
     },
     "metadata": {},
     "output_type": "display_data"
    }
   ],
   "source": [
    "collector = ParallelCollector()"
   ]
  },
  {
   "cell_type": "code",
   "execution_count": 5,
   "metadata": {},
   "outputs": [
    {
     "data": {
      "application/javascript": [
       "\n",
       "            setTimeout(function() {\n",
       "                var nbb_cell_id = 5;\n",
       "                var nbb_unformatted_code = \"list_1_path = \\\"/Users/dirceusilva/Documentos/BaseDados/covers32k/list1.list\\\"\\nlist_2_path = \\\"/Users/dirceusilva/Documentos/BaseDados/covers32k/list2.list\\\"\\nroot = \\\"/Users/dirceusilva/Documentos/BaseDados/covers32k\\\"\\nsaved_hashfile = (\\n    \\\"/Users/dirceusilva/Documentos/development/src/ECAD/sber-hp/results/dump\\\"\\n)\\nslices_dir = \\\"/Users/dirceusilva/Documentos/BaseDados/covers32k_slices_ref\\\"\\n\\n\\ndef read_list(path, root=None, ext=\\\"wav\\\"):\\n    lista = list(np.loadtxt(path, dtype=str))\\n    files = []\\n    if root is not None:\\n        for file in lista:\\n            files.append(os.path.join(root, file + \\\".\\\" + ext))\\n    else:\\n        files = lista\\n\\n    return files\";\n",
       "                var nbb_formatted_code = \"list_1_path = \\\"/Users/dirceusilva/Documentos/BaseDados/covers32k/list1.list\\\"\\nlist_2_path = \\\"/Users/dirceusilva/Documentos/BaseDados/covers32k/list2.list\\\"\\nroot = \\\"/Users/dirceusilva/Documentos/BaseDados/covers32k\\\"\\nsaved_hashfile = (\\n    \\\"/Users/dirceusilva/Documentos/development/src/ECAD/sber-hp/results/dump\\\"\\n)\\nslices_dir = \\\"/Users/dirceusilva/Documentos/BaseDados/covers32k_slices_ref\\\"\\n\\n\\ndef read_list(path, root=None, ext=\\\"wav\\\"):\\n    lista = list(np.loadtxt(path, dtype=str))\\n    files = []\\n    if root is not None:\\n        for file in lista:\\n            files.append(os.path.join(root, file + \\\".\\\" + ext))\\n    else:\\n        files = lista\\n\\n    return files\";\n",
       "                var nbb_cells = Jupyter.notebook.get_cells();\n",
       "                for (var i = 0; i < nbb_cells.length; ++i) {\n",
       "                    if (nbb_cells[i].input_prompt_number == nbb_cell_id) {\n",
       "                        if (nbb_cells[i].get_text() == nbb_unformatted_code) {\n",
       "                             nbb_cells[i].set_text(nbb_formatted_code);\n",
       "                        }\n",
       "                        break;\n",
       "                    }\n",
       "                }\n",
       "            }, 500);\n",
       "            "
      ],
      "text/plain": [
       "<IPython.core.display.Javascript object>"
      ]
     },
     "metadata": {},
     "output_type": "display_data"
    }
   ],
   "source": [
    "list_1_path = \"/Users/dirceusilva/Documentos/BaseDados/covers32k/list1.list\"\n",
    "list_2_path = \"/Users/dirceusilva/Documentos/BaseDados/covers32k/list2.list\"\n",
    "\n",
    "root = \"/Users/dirceusilva/Documentos/BaseDados/covers32k\"\n",
    "saved_hashfile = (\n",
    "    \"/Users/dirceusilva/Documentos/development/src/ECAD/sber-hp/results/dump\"\n",
    ")\n",
    "\n",
    "slices_dir = \"/Users/dirceusilva/Documentos/BaseDados/covers32k_slices\"\n",
    "ref_dir = \"/Users/dirceusilva/Documentos/BaseDados/covers32k_ref\"\n",
    "\n",
    "def read_list(path, root=None, ext=\"wav\"):\n",
    "    lista = list(np.loadtxt(path, dtype=str))\n",
    "    files = []\n",
    "    if root is not None:\n",
    "        for file in lista:\n",
    "            files.append(os.path.join(root, file + \".\" + ext))\n",
    "    else:\n",
    "        files = lista\n",
    "\n",
    "    return files"
   ]
  },
  {
   "cell_type": "code",
   "execution_count": 6,
   "metadata": {},
   "outputs": [
    {
     "data": {
      "application/javascript": [
       "\n",
       "            setTimeout(function() {\n",
       "                var nbb_cell_id = 6;\n",
       "                var nbb_unformatted_code = \"filenames_list1 = read_list(list_1_path, root=root)\\nfilenames_list2 = read_list(list_1_path, root=root)\\nslice_list = list_1_path\\n\\nfilenames_ref = filenames_list1\\nfilenames_tst = filenames_list1\\n\\nfilenames_slices = read_list(slice_list, root=slices_dir, ext=\\\"wav\\\")\";\n",
       "                var nbb_formatted_code = \"filenames_list1 = read_list(list_1_path, root=root)\\nfilenames_list2 = read_list(list_1_path, root=root)\\nslice_list = list_1_path\\n\\nfilenames_ref = filenames_list1\\nfilenames_tst = filenames_list1\\n\\nfilenames_slices = read_list(slice_list, root=slices_dir, ext=\\\"wav\\\")\";\n",
       "                var nbb_cells = Jupyter.notebook.get_cells();\n",
       "                for (var i = 0; i < nbb_cells.length; ++i) {\n",
       "                    if (nbb_cells[i].input_prompt_number == nbb_cell_id) {\n",
       "                        if (nbb_cells[i].get_text() == nbb_unformatted_code) {\n",
       "                             nbb_cells[i].set_text(nbb_formatted_code);\n",
       "                        }\n",
       "                        break;\n",
       "                    }\n",
       "                }\n",
       "            }, 500);\n",
       "            "
      ],
      "text/plain": [
       "<IPython.core.display.Javascript object>"
      ]
     },
     "metadata": {},
     "output_type": "display_data"
    }
   ],
   "source": [
    "ref_list = read_list(list_1_path, root=root)\n",
    "tst_list = read_list(list_2_path, root=root)\n"
   ]
  },
  {
   "cell_type": "code",
   "execution_count": null,
   "metadata": {},
   "outputs": [],
   "source": [
    "def create_ref_files(inpath, outpath):\n",
    "    \n",
    "    "
   ]
  },
  {
   "cell_type": "code",
   "execution_count": null,
   "metadata": {},
   "outputs": [],
   "source": [
    "slice_list = list_1_path\n",
    "ref_list = list_1_path\n",
    "filenames_ref = ref_list\n",
    "filenames_tst = tst_list\n",
    "\n",
    "filenames_slices = read_list(slice_list, root=slices_dir, ext=\"wav\")\n",
    "filenames_ref = read_list(slice_list, root=slices_dir, ext=\"wav\")"
   ]
  },
  {
   "cell_type": "code",
   "execution_count": null,
   "metadata": {},
   "outputs": [],
   "source": [
    "\n",
    "# create slices\n",
    "win = 10.0 # sec\n",
    "\n",
    "for file_in, file_out in zip(filenames_tst, filenames_slices):\n",
    "    print(file_in, file_out)\n",
    "    y,fs = librosa.load(file_in, mono=True)\n",
    "    winsize = int(fs*win)\n",
    "    \n",
    "    start = np.random.randint(0,high=len(y)-winsize)\n",
    "    end = start + winsize\n",
    "    \n",
    "    signal = y[start:end]\n",
    "    head, tail = os.path.split(file_out)\n",
    "    if not os.path.exists(head):\n",
    "        os.makedirs(head)\n",
    "        \n",
    "    sf.write(file_out, signal, fs, 'PCM_16')"
   ]
  },
  {
   "cell_type": "code",
   "execution_count": 7,
   "metadata": {},
   "outputs": [
    {
     "name": "stdout",
     "output_type": "stream",
     "text": [
      "CPU times: user 55min 28s, sys: 2min 13s, total: 57min 41s\n",
      "Wall time: 4min 28s\n"
     ]
    },
    {
     "data": {
      "application/javascript": [
       "\n",
       "            setTimeout(function() {\n",
       "                var nbb_cell_id = 7;\n",
       "                var nbb_unformatted_code = \"%%time\\n\\nhashprints = collector.prepare(filenames_ref)\";\n",
       "                var nbb_formatted_code = \"%%time\\n\\nhashprints = collector.prepare(filenames_ref)\";\n",
       "                var nbb_cells = Jupyter.notebook.get_cells();\n",
       "                for (var i = 0; i < nbb_cells.length; ++i) {\n",
       "                    if (nbb_cells[i].input_prompt_number == nbb_cell_id) {\n",
       "                        if (nbb_cells[i].get_text() == nbb_unformatted_code) {\n",
       "                             nbb_cells[i].set_text(nbb_formatted_code);\n",
       "                        }\n",
       "                        break;\n",
       "                    }\n",
       "                }\n",
       "            }, 500);\n",
       "            "
      ],
      "text/plain": [
       "<IPython.core.display.Javascript object>"
      ]
     },
     "metadata": {},
     "output_type": "display_data"
    }
   ],
   "source": [
    "%%time\n",
    "\n",
    "hashprints = collector.prepare(filenames_ref)"
   ]
  },
  {
   "cell_type": "code",
   "execution_count": 8,
   "metadata": {
    "scrolled": true
   },
   "outputs": [
    {
     "data": {
      "application/javascript": [
       "\n",
       "            setTimeout(function() {\n",
       "                var nbb_cell_id = 8;\n",
       "                var nbb_unformatted_code = \"with open(saved_hashfile, \\\"wb\\\") as fp:\\n    pickle.dump(hashprints, fp)\";\n",
       "                var nbb_formatted_code = \"with open(saved_hashfile, \\\"wb\\\") as fp:\\n    pickle.dump(hashprints, fp)\";\n",
       "                var nbb_cells = Jupyter.notebook.get_cells();\n",
       "                for (var i = 0; i < nbb_cells.length; ++i) {\n",
       "                    if (nbb_cells[i].input_prompt_number == nbb_cell_id) {\n",
       "                        if (nbb_cells[i].get_text() == nbb_unformatted_code) {\n",
       "                             nbb_cells[i].set_text(nbb_formatted_code);\n",
       "                        }\n",
       "                        break;\n",
       "                    }\n",
       "                }\n",
       "            }, 500);\n",
       "            "
      ],
      "text/plain": [
       "<IPython.core.display.Javascript object>"
      ]
     },
     "metadata": {},
     "output_type": "display_data"
    }
   ],
   "source": [
    "with open(saved_hashfile, \"wb\") as fp:\n",
    "    pickle.dump(hashprints, fp)"
   ]
  },
  {
   "cell_type": "code",
   "execution_count": 9,
   "metadata": {},
   "outputs": [
    {
     "data": {
      "application/javascript": [
       "\n",
       "            setTimeout(function() {\n",
       "                var nbb_cell_id = 9;\n",
       "                var nbb_unformatted_code = \"hashprints = []\\nwith open(saved_hashfile, \\\"rb\\\") as fp:\\n    hashprints = pickle.load(fp)\";\n",
       "                var nbb_formatted_code = \"hashprints = []\\nwith open(saved_hashfile, \\\"rb\\\") as fp:\\n    hashprints = pickle.load(fp)\";\n",
       "                var nbb_cells = Jupyter.notebook.get_cells();\n",
       "                for (var i = 0; i < nbb_cells.length; ++i) {\n",
       "                    if (nbb_cells[i].input_prompt_number == nbb_cell_id) {\n",
       "                        if (nbb_cells[i].get_text() == nbb_unformatted_code) {\n",
       "                             nbb_cells[i].set_text(nbb_formatted_code);\n",
       "                        }\n",
       "                        break;\n",
       "                    }\n",
       "                }\n",
       "            }, 500);\n",
       "            "
      ],
      "text/plain": [
       "<IPython.core.display.Javascript object>"
      ]
     },
     "metadata": {},
     "output_type": "display_data"
    }
   ],
   "source": [
    "hashprints = []\n",
    "with open(saved_hashfile, \"rb\") as fp:\n",
    "    hashprints = pickle.load(fp)"
   ]
  },
  {
   "cell_type": "code",
   "execution_count": 7,
   "metadata": {},
   "outputs": [
    {
     "data": {
      "text/plain": [
       "['/Users/dirceusilva/Documentos/BaseDados/covers32k/A_Whiter_Shade_Of_Pale/procol_harum+Greatest_Hits+2-A_Whiter_Shade_Of_Pale.wav',\n",
       " '/Users/dirceusilva/Documentos/BaseDados/covers32k/Abracadabra/sugar_ray+14_59+11-Abracadabra.wav',\n",
       " '/Users/dirceusilva/Documentos/BaseDados/covers32k/Addicted_To_Love/tina_turner+Tina_Live_In_Europe_CD_1_+09-Addicted_To_Love.wav',\n",
       " '/Users/dirceusilva/Documentos/BaseDados/covers32k/All_Along_The_Watchtower/jimi_hendrix_experience+Electric_Ladyland+15-All_Along_The_Watchtower.wav',\n",
       " '/Users/dirceusilva/Documentos/BaseDados/covers32k/All_Tomorrow_s_Parties/velvet_underground+Andy_Warhol_with_Nico_+06-All_Tomorrow_s_Parties.wav',\n",
       " '/Users/dirceusilva/Documentos/BaseDados/covers32k/America/simon_and_garfunkel+Bookends+03-America.wav',\n",
       " '/Users/dirceusilva/Documentos/BaseDados/covers32k/Before_You_Accuse_Me/eric_clapton+Unplugged+02-Before_You_Accuse_Me.wav',\n",
       " '/Users/dirceusilva/Documentos/BaseDados/covers32k/Between_The_Bars/glen_phillips+Capitol_Garage+35-Between_The_Bars.wav',\n",
       " '/Users/dirceusilva/Documentos/BaseDados/covers32k/Blue_Collar_Man/styx+Caught_In_The_Act_Disc_2_of_2_+02-Blue_Collar_Man_Long_Nights_.wav',\n",
       " '/Users/dirceusilva/Documentos/BaseDados/covers32k/Caroline_No/brian_wilson+Brian_Wilson_Live_at_the_Roxy_Theater_Disc_2_+11-Caroline_No.wav',\n",
       " '/Users/dirceusilva/Documentos/BaseDados/covers32k/Cecilia/simon_and_garfunkel+Collected_Works_-_Disc_3+03-Cecilia.wav',\n",
       " '/Users/dirceusilva/Documentos/BaseDados/covers32k/Claudette/roy_orbison+Black_and_White_Night+15-Claudette.wav',\n",
       " '/Users/dirceusilva/Documentos/BaseDados/covers32k/Cocaine/nazareth+_Snaz+08-Cocaine.wav',\n",
       " '/Users/dirceusilva/Documentos/BaseDados/covers32k/Come_Together/beatles+1+25-Come_Together.wav',\n",
       " '/Users/dirceusilva/Documentos/BaseDados/covers32k/Day_Tripper/cheap_trick+Silver+13-Day_Tripper.wav',\n",
       " '/Users/dirceusilva/Documentos/BaseDados/covers32k/Don_t_Let_It_Bring_You_Down/neil_young+After_the_Goldrush+07-Don_t_Let_It_Bring_You_Down.wav',\n",
       " '/Users/dirceusilva/Documentos/BaseDados/covers32k/Downtown_Lights/blue_nile+Hats+02-Downtown_Lights.wav',\n",
       " '/Users/dirceusilva/Documentos/BaseDados/covers32k/Enjoy_The_Silence/tori_amos+Strange_Little_Girls+04-Enjoy_the_Silence.wav',\n",
       " '/Users/dirceusilva/Documentos/BaseDados/covers32k/Faith/limp_bizkit+Three_Dollar_Bill_Yall+09-Faith.wav',\n",
       " '/Users/dirceusilva/Documentos/BaseDados/covers32k/God_Only_Knows/brian_wilson+Brian_Wilson_Live_at_the_Roxy_Theater_Disc_2_+07-God_Only_Knows.wav',\n",
       " '/Users/dirceusilva/Documentos/BaseDados/covers32k/Gold_Dust_Woman/sheryl_crow+Live_from_Central_Park+07-Gold_Dust_Woman.wav',\n",
       " '/Users/dirceusilva/Documentos/BaseDados/covers32k/Grand_Illusion/styx+Return_To_Paradise_Disc_2+01-Grand_Illusion.wav',\n",
       " '/Users/dirceusilva/Documentos/BaseDados/covers32k/Happiness_is_a_Warm_Gun/tori_amos+Strange_Little_Girls+10-Happiness_is_a_Warm_Gun.wav',\n",
       " '/Users/dirceusilva/Documentos/BaseDados/covers32k/Heart_Of_Gold/tori_amos+Strange_Little_Girls+08-Heart_Of_Gold.wav',\n",
       " '/Users/dirceusilva/Documentos/BaseDados/covers32k/Hush/milli_vanilli+All_Or_Nothing+12-Hush.wav',\n",
       " '/Users/dirceusilva/Documentos/BaseDados/covers32k/I_Can_t_Get_Next_To_You/temptations+The_Temptations_The_Ultimate_Collection+14-I_Can_t_Get_Next_To_You.wav',\n",
       " '/Users/dirceusilva/Documentos/BaseDados/covers32k/I_Can_t_Get_No_Satisfaction/rolling_stones+Big_Hits+01-_I_Can_t_Get_No_Satisfaction.wav',\n",
       " '/Users/dirceusilva/Documentos/BaseDados/covers32k/I_Don_t_Like_Mondays/tori_amos+Strange_Little_Girls+09-I_Don_t_Like_Mondays.wav',\n",
       " '/Users/dirceusilva/Documentos/BaseDados/covers32k/I_Don_t_Want_To_Miss_A_Thing/new_found_glory+From_the_Screen_to_Your_Stereo+03-I_Don_t_Want_To_Miss_A_Thing.wav',\n",
       " '/Users/dirceusilva/Documentos/BaseDados/covers32k/I_Love_You/faith_hill+Faith+10-I_Love_You.wav',\n",
       " '/Users/dirceusilva/Documentos/BaseDados/covers32k/I_m_Losing_You/john_lennon+Double_Fantasy+05-I_m_Losing_You.wav',\n",
       " '/Users/dirceusilva/Documentos/BaseDados/covers32k/I_m_Not_In_Love/tori_amos+Strange_Little_Girls+05-I_m_Not_In_Love.wav',\n",
       " '/Users/dirceusilva/Documentos/BaseDados/covers32k/It_s_Tricky/run_dmc+Raising_Hell+02-It_s_Tricky.wav',\n",
       " '/Users/dirceusilva/Documentos/BaseDados/covers32k/Lady/styx+Return_To_Paradise_Disc_1_+05-Lady.wav',\n",
       " '/Users/dirceusilva/Documentos/BaseDados/covers32k/Let_It_Be/nick_cave+I_am_Sam+20-Let_It_Be.wav',\n",
       " '/Users/dirceusilva/Documentos/BaseDados/covers32k/Little_Wing/eric_clapton+Crossroads_2_Disc_1+08-Little_Wing.wav',\n",
       " '/Users/dirceusilva/Documentos/BaseDados/covers32k/Lodi/tesla+Five_Man_Acoustic_Jam+09-Lodi.wav',\n",
       " '/Users/dirceusilva/Documentos/BaseDados/covers32k/Love_Hurts/nazareth+_Snaz+15-Love_Hurts.wav',\n",
       " '/Users/dirceusilva/Documentos/BaseDados/covers32k/Maggie_s_Farm/rage_against_the_machine+Renegades+12-Maggie_s_Farm.wav',\n",
       " '/Users/dirceusilva/Documentos/BaseDados/covers32k/More_Than_Words/westlife+Westlife+13-More_Than_Words.wav',\n",
       " '/Users/dirceusilva/Documentos/BaseDados/covers32k/My_Generation/who+Who_s_Better_Who_s_Best+01-My_Generation.wav',\n",
       " '/Users/dirceusilva/Documentos/BaseDados/covers32k/My_Heart_Will_Go_On/new_found_glory+From_the_Screen_to_Your_Stereo+07-My_Heart_Will_Go_On.wav',\n",
       " '/Users/dirceusilva/Documentos/BaseDados/covers32k/Never_Let_Me_Down_Again/smashing_pumpkins+For_The_Masses_A_Tribute_To_Depeche_Mode+01-Never_Let_Me_Down_Again.wav',\n",
       " '/Users/dirceusilva/Documentos/BaseDados/covers32k/New_Age/velvet_underground+Loaded+05-New_Age.wav',\n",
       " '/Users/dirceusilva/Documentos/BaseDados/covers32k/Night_Time_Is_The_Right_Time/creedence_clearwater_revival+The_Concert+12-Night_Time_Is_The_Right_Time.wav',\n",
       " '/Users/dirceusilva/Documentos/BaseDados/covers32k/No_Woman_No_Cry/fugees+The_Score+05-No_Woman_No_Cry.wav',\n",
       " '/Users/dirceusilva/Documentos/BaseDados/covers32k/Oh_Pretty_Woman/roy_orbison+Black_and_White_Night+17-Oh_Pretty_Woman.wav',\n",
       " '/Users/dirceusilva/Documentos/BaseDados/covers32k/Ooby_Dooby/roy_orbison+Black_and_White_Night+05-Ooby_Dooby.wav',\n",
       " '/Users/dirceusilva/Documentos/BaseDados/covers32k/Proud_Mary/tina_turner+Tina_Live_In_Europe_CD_2_+07-Proud_Mary.wav',\n",
       " '/Users/dirceusilva/Documentos/BaseDados/covers32k/Purple_Rain/prince+Purple_Rain+09-Purple_Rain.wav',\n",
       " '/Users/dirceusilva/Documentos/BaseDados/covers32k/Rattlesnakes/tori_amos+Strange_Little_Girls+06-Rattlesnakes.wav',\n",
       " '/Users/dirceusilva/Documentos/BaseDados/covers32k/Real_Men/tori_amos+Strange_Little_Girls+12-Real_Men.wav',\n",
       " '/Users/dirceusilva/Documentos/BaseDados/covers32k/Red_Red_Wine/ub40+Labour_of_Love+06-Red_Red_Wine.wav',\n",
       " '/Users/dirceusilva/Documentos/BaseDados/covers32k/River_Deep_Mountain_High/tina_turner+Tina_Live_In_Europe_CD_2_+05-River_Deep_Mountain_High.wav',\n",
       " '/Users/dirceusilva/Documentos/BaseDados/covers32k/September_Gurls/big_star+Radio_City+10-September_Gurls.wav',\n",
       " '/Users/dirceusilva/Documentos/BaseDados/covers32k/She_Came_In_Through_The_Bathroom_Window/joe_cocker+Joe_Cocker_Live+12-She_Came_In_Through_The_Bathroom_Window.wav',\n",
       " '/Users/dirceusilva/Documentos/BaseDados/covers32k/Something_So_Right/paul_simon+There_Goes_Rhymin_Simon+04-Something_So_Right.wav',\n",
       " '/Users/dirceusilva/Documentos/BaseDados/covers32k/Stone_Cold_Crazy/queen+Sheer_Heart_Attack+08-Stone_Cold_Crazy.wav',\n",
       " '/Users/dirceusilva/Documentos/BaseDados/covers32k/Straight_From_The_Heart/bryan_adams+So_Far_So_Good+02-Straight_From_The_Heart.wav',\n",
       " '/Users/dirceusilva/Documentos/BaseDados/covers32k/Strange_Little_Girl/tori_amos+Strange_Little_Girls+03-Strange_Little_Girl.wav',\n",
       " '/Users/dirceusilva/Documentos/BaseDados/covers32k/Street_Fighting_Man/rolling_stones+Get_Yer_Ya-Ya_s_Out_+10-Street_Fighting_Man.wav',\n",
       " '/Users/dirceusilva/Documentos/BaseDados/covers32k/Summer_of_69/mxpx+On_The_Cover+01-Summer_of_69.wav',\n",
       " '/Users/dirceusilva/Documentos/BaseDados/covers32k/Summertime_Blues/beach_boys+Surfin_USA_Surfin_Safari+09-Summertime_Blues.wav',\n",
       " '/Users/dirceusilva/Documentos/BaseDados/covers32k/Take_Me_To_The_River/talking_heads+Stop_Making_Sense+09-Take_Me_To_The_River.wav',\n",
       " '/Users/dirceusilva/Documentos/BaseDados/covers32k/Take_On_Me/mxpx+On_The_Cover+05-Take_On_Me.wav',\n",
       " '/Users/dirceusilva/Documentos/BaseDados/covers32k/The_Boxer/simon_and_garfunkel+Collected_Works_Disc_3+06-The_Boxer.wav',\n",
       " '/Users/dirceusilva/Documentos/BaseDados/covers32k/Thin_Line_Between_Love_And_Hate/persuaders+Thin_Line_Between_Love_Hate_Golden_Classics+01-Thin_Line_Between_Love_And_Hate.wav',\n",
       " '/Users/dirceusilva/Documentos/BaseDados/covers32k/Time/tori_amos+Strange_Little_Girls+07-Time.wav',\n",
       " '/Users/dirceusilva/Documentos/BaseDados/covers32k/Tomorrow_Never_Knows/phil_collins+Face_Value_+12-Tomorrow_Never_Knows.wav',\n",
       " '/Users/dirceusilva/Documentos/BaseDados/covers32k/Toys_In_The_Attic/rem+Dead_Letter_Office+07-Toys_In_The_Attic.wav',\n",
       " '/Users/dirceusilva/Documentos/BaseDados/covers32k/Train_In_Vain/clash+London_Calling+19-Train_In_Vain.wav',\n",
       " '/Users/dirceusilva/Documentos/BaseDados/covers32k/Tush/zz_top+Fandango+09-Tush.wav',\n",
       " '/Users/dirceusilva/Documentos/BaseDados/covers32k/Waiting_In_Vain/bob_marley_the_wailers+Legend+10-Waiting_in_Vain.wav',\n",
       " '/Users/dirceusilva/Documentos/BaseDados/covers32k/Walk_This_Way/run_dmc+Raising_Hell+04-Walk_This_Way.wav',\n",
       " '/Users/dirceusilva/Documentos/BaseDados/covers32k/Walking_After_Midnight/garth_brooks+The_Chase+05-Walking_After_Midnight.wav',\n",
       " '/Users/dirceusilva/Documentos/BaseDados/covers32k/We_Can_Work_It_Out/tesla+Five_Man_Acoustical_Jam+04-We_Can_Work_It_Out.wav',\n",
       " '/Users/dirceusilva/Documentos/BaseDados/covers32k/What_s_Going_On/marvin_gaye+Live+12-What_s_Going_On.wav',\n",
       " '/Users/dirceusilva/Documentos/BaseDados/covers32k/White_Room/sheryl_crow_+Live_from_Central_Park+12-White_Room.wav',\n",
       " '/Users/dirceusilva/Documentos/BaseDados/covers32k/Wish_You_Were_Here/wyclef_jean+The_Ecleftic_2_Sides_II_A_Book+19-Wish_You_Were_Here.wav',\n",
       " '/Users/dirceusilva/Documentos/BaseDados/covers32k/Yesterday/en_vogue+Funky_Divas+09-Yesterday.wav']"
      ]
     },
     "execution_count": 7,
     "metadata": {},
     "output_type": "execute_result"
    },
    {
     "data": {
      "application/javascript": [
       "\n",
       "            setTimeout(function() {\n",
       "                var nbb_cell_id = 7;\n",
       "                var nbb_unformatted_code = \"filenames_tst\";\n",
       "                var nbb_formatted_code = \"filenames_tst\";\n",
       "                var nbb_cells = Jupyter.notebook.get_cells();\n",
       "                for (var i = 0; i < nbb_cells.length; ++i) {\n",
       "                    if (nbb_cells[i].input_prompt_number == nbb_cell_id) {\n",
       "                        if (nbb_cells[i].get_text() == nbb_unformatted_code) {\n",
       "                             nbb_cells[i].set_text(nbb_formatted_code);\n",
       "                        }\n",
       "                        break;\n",
       "                    }\n",
       "                }\n",
       "            }, 500);\n",
       "            "
      ],
      "text/plain": [
       "<IPython.core.display.Javascript object>"
      ]
     },
     "metadata": {},
     "output_type": "display_data"
    }
   ],
   "source": [
    "filenames_tst"
   ]
  },
  {
   "cell_type": "code",
   "execution_count": 10,
   "metadata": {
    "scrolled": false
   },
   "outputs": [
    {
     "name": "stdout",
     "output_type": "stream",
     "text": [
      "/Users/dirceusilva/Documentos/BaseDados/covers32k/A_Whiter_Shade_Of_Pale/annie_lennox+Medusa+03-A_Whiter_Shade_Of_Pale.wav /Users/dirceusilva/Documentos/BaseDados/covers32k_slices_ref/A_Whiter_Shade_Of_Pale/annie_lennox+Medusa+03-A_Whiter_Shade_Of_Pale.wav\n",
      "/Users/dirceusilva/Documentos/BaseDados/covers32k/Abracadabra/steve_miller_band+Steve_Miller_Band_Live_+09-Abracadabra.wav /Users/dirceusilva/Documentos/BaseDados/covers32k_slices_ref/Abracadabra/steve_miller_band+Steve_Miller_Band_Live_+09-Abracadabra.wav\n",
      "/Users/dirceusilva/Documentos/BaseDados/covers32k/Addicted_To_Love/robert_palmer+Riptide+03-Addicted_To_Love.wav /Users/dirceusilva/Documentos/BaseDados/covers32k_slices_ref/Addicted_To_Love/robert_palmer+Riptide+03-Addicted_To_Love.wav\n",
      "/Users/dirceusilva/Documentos/BaseDados/covers32k/All_Along_The_Watchtower/bob_dylan+Before_The_Flood_Disc_Two_+07-All_Along_the_Watchtower.wav /Users/dirceusilva/Documentos/BaseDados/covers32k_slices_ref/All_Along_The_Watchtower/bob_dylan+Before_The_Flood_Disc_Two_+07-All_Along_the_Watchtower.wav\n",
      "/Users/dirceusilva/Documentos/BaseDados/covers32k/All_Tomorrow_s_Parties/japan+Quiet_Life+06-All_Tomorrow_s_Parties.wav /Users/dirceusilva/Documentos/BaseDados/covers32k_slices_ref/All_Tomorrow_s_Parties/japan+Quiet_Life+06-All_Tomorrow_s_Parties.wav\n",
      "/Users/dirceusilva/Documentos/BaseDados/covers32k/America/paul_simon+Concert_in_the_Park_Disc_2+09-America.wav /Users/dirceusilva/Documentos/BaseDados/covers32k_slices_ref/America/paul_simon+Concert_in_the_Park_Disc_2+09-America.wav\n",
      "/Users/dirceusilva/Documentos/BaseDados/covers32k/Before_You_Accuse_Me/creedence_clearwater_revival+Cosmo_s_Factory+02-Before_You_Accuse_Me.wav /Users/dirceusilva/Documentos/BaseDados/covers32k_slices_ref/Before_You_Accuse_Me/creedence_clearwater_revival+Cosmo_s_Factory+02-Before_You_Accuse_Me.wav\n",
      "/Users/dirceusilva/Documentos/BaseDados/covers32k/Between_The_Bars/elliott_smith+Either_Or+04-Between_The_Bars.wav /Users/dirceusilva/Documentos/BaseDados/covers32k_slices_ref/Between_The_Bars/elliott_smith+Either_Or+04-Between_The_Bars.wav\n",
      "/Users/dirceusilva/Documentos/BaseDados/covers32k/Blue_Collar_Man/reo_speedwagon+Arch_Allies_Disc_1+01-Blue_Collar_Man.wav /Users/dirceusilva/Documentos/BaseDados/covers32k_slices_ref/Blue_Collar_Man/reo_speedwagon+Arch_Allies_Disc_1+01-Blue_Collar_Man.wav\n",
      "/Users/dirceusilva/Documentos/BaseDados/covers32k/Caroline_No/beach_boys+Pet_Sounds+13-Caroline_No.wav /Users/dirceusilva/Documentos/BaseDados/covers32k_slices_ref/Caroline_No/beach_boys+Pet_Sounds+13-Caroline_No.wav\n",
      "/Users/dirceusilva/Documentos/BaseDados/covers32k/Cecilia/paul_simon+Concert_in_the_Park_Disc_2+11-Cecilia.wav /Users/dirceusilva/Documentos/BaseDados/covers32k_slices_ref/Cecilia/paul_simon+Concert_in_the_Park_Disc_2+11-Cecilia.wav\n",
      "/Users/dirceusilva/Documentos/BaseDados/covers32k/Claudette/everly_brothers+The_Fabulous_Style_of+01-Claudette.wav /Users/dirceusilva/Documentos/BaseDados/covers32k_slices_ref/Claudette/everly_brothers+The_Fabulous_Style_of+01-Claudette.wav\n",
      "/Users/dirceusilva/Documentos/BaseDados/covers32k/Cocaine/eric_clapton+Crossroads_2_Disc_3+07-Cocaine.wav /Users/dirceusilva/Documentos/BaseDados/covers32k_slices_ref/Cocaine/eric_clapton+Crossroads_2_Disc_3+07-Cocaine.wav\n",
      "/Users/dirceusilva/Documentos/BaseDados/covers32k/Come_Together/aerosmith+Live_Bootleg+06-Come_Together.wav /Users/dirceusilva/Documentos/BaseDados/covers32k_slices_ref/Come_Together/aerosmith+Live_Bootleg+06-Come_Together.wav\n",
      "/Users/dirceusilva/Documentos/BaseDados/covers32k/Day_Tripper/beatles+1+12-Day_Tripper.wav /Users/dirceusilva/Documentos/BaseDados/covers32k_slices_ref/Day_Tripper/beatles+1+12-Day_Tripper.wav\n",
      "/Users/dirceusilva/Documentos/BaseDados/covers32k/Don_t_Let_It_Bring_You_Down/annie_lennox+Medusa+04-Don_t_Let_It_Bring_You_Down.wav /Users/dirceusilva/Documentos/BaseDados/covers32k_slices_ref/Don_t_Let_It_Bring_You_Down/annie_lennox+Medusa+04-Don_t_Let_It_Bring_You_Down.wav\n",
      "/Users/dirceusilva/Documentos/BaseDados/covers32k/Downtown_Lights/annie_lennox+Medusa+07-Downtown_Lights.wav /Users/dirceusilva/Documentos/BaseDados/covers32k_slices_ref/Downtown_Lights/annie_lennox+Medusa+07-Downtown_Lights.wav\n",
      "/Users/dirceusilva/Documentos/BaseDados/covers32k/Enjoy_The_Silence/depeche_mode+Violator+06-Enjoy_The_Silence.wav /Users/dirceusilva/Documentos/BaseDados/covers32k_slices_ref/Enjoy_The_Silence/depeche_mode+Violator+06-Enjoy_The_Silence.wav\n",
      "/Users/dirceusilva/Documentos/BaseDados/covers32k/Faith/george_michael+Faith+01-Faith.wav /Users/dirceusilva/Documentos/BaseDados/covers32k_slices_ref/Faith/george_michael+Faith+01-Faith.wav\n",
      "/Users/dirceusilva/Documentos/BaseDados/covers32k/God_Only_Knows/beach_boys+Pet_Sounds+08-God_Only_Knows.wav /Users/dirceusilva/Documentos/BaseDados/covers32k_slices_ref/God_Only_Knows/beach_boys+Pet_Sounds+08-God_Only_Knows.wav\n",
      "/Users/dirceusilva/Documentos/BaseDados/covers32k/Gold_Dust_Woman/fleetwood_mac+Rumours+11-Gold_Dust_Woman.wav /Users/dirceusilva/Documentos/BaseDados/covers32k_slices_ref/Gold_Dust_Woman/fleetwood_mac+Rumours+11-Gold_Dust_Woman.wav\n",
      "/Users/dirceusilva/Documentos/BaseDados/covers32k/Grand_Illusion/reo_speedwagon+Arch_Allies_Disc_1+02-Grand_Illusion.wav /Users/dirceusilva/Documentos/BaseDados/covers32k_slices_ref/Grand_Illusion/reo_speedwagon+Arch_Allies_Disc_1+02-Grand_Illusion.wav\n",
      "/Users/dirceusilva/Documentos/BaseDados/covers32k/Happiness_is_a_Warm_Gun/beatles+White_Album_Disc_1+08-Happiness_is_a_Warm_Gun.wav /Users/dirceusilva/Documentos/BaseDados/covers32k_slices_ref/Happiness_is_a_Warm_Gun/beatles+White_Album_Disc_1+08-Happiness_is_a_Warm_Gun.wav\n",
      "/Users/dirceusilva/Documentos/BaseDados/covers32k/Heart_Of_Gold/neil_young+Harvest+04-Heart_Of_Gold.wav /Users/dirceusilva/Documentos/BaseDados/covers32k_slices_ref/Heart_Of_Gold/neil_young+Harvest+04-Heart_Of_Gold.wav\n",
      "/Users/dirceusilva/Documentos/BaseDados/covers32k/Hush/deep_purple+Nobody_s_Perfect_Disc_2_2_+07-Hush.wav /Users/dirceusilva/Documentos/BaseDados/covers32k_slices_ref/Hush/deep_purple+Nobody_s_Perfect_Disc_2_2_+07-Hush.wav\n",
      "/Users/dirceusilva/Documentos/BaseDados/covers32k/I_Can_t_Get_Next_To_You/annie_lennox+Medusa+06-I_Can_t_Get_Next_To_You.wav /Users/dirceusilva/Documentos/BaseDados/covers32k_slices_ref/I_Can_t_Get_Next_To_You/annie_lennox+Medusa+06-I_Can_t_Get_Next_To_You.wav\n",
      "/Users/dirceusilva/Documentos/BaseDados/covers32k/I_Can_t_Get_No_Satisfaction/britney_spears+Oops_I_Did_It_Again+04-_I_Can_t_Get_No_Satisfaction.wav /Users/dirceusilva/Documentos/BaseDados/covers32k_slices_ref/I_Can_t_Get_No_Satisfaction/britney_spears+Oops_I_Did_It_Again+04-_I_Can_t_Get_No_Satisfaction.wav\n",
      "/Users/dirceusilva/Documentos/BaseDados/covers32k/I_Don_t_Like_Mondays/boomtown_rats+Best_of_the_Boomtown_Rats+10-I_Don_t_Like_Mondays.wav /Users/dirceusilva/Documentos/BaseDados/covers32k_slices_ref/I_Don_t_Like_Mondays/boomtown_rats+Best_of_the_Boomtown_Rats+10-I_Don_t_Like_Mondays.wav\n",
      "/Users/dirceusilva/Documentos/BaseDados/covers32k/I_Don_t_Want_To_Miss_A_Thing/aerosmith+Armageddon_Original_Soundtrack_+01-I_Don_t_Want_To_Miss_A_Thing.wav /Users/dirceusilva/Documentos/BaseDados/covers32k_slices_ref/I_Don_t_Want_To_Miss_A_Thing/aerosmith+Armageddon_Original_Soundtrack_+01-I_Don_t_Want_To_Miss_A_Thing.wav\n",
      "/Users/dirceusilva/Documentos/BaseDados/covers32k/I_Love_You/celine_dion+Falling_Into_You+09-I_Love_You.wav /Users/dirceusilva/Documentos/BaseDados/covers32k_slices_ref/I_Love_You/celine_dion+Falling_Into_You+09-I_Love_You.wav\n",
      "/Users/dirceusilva/Documentos/BaseDados/covers32k/I_m_Losing_You/cheap_trick+Silver+08-I_m_Losing_You.wav /Users/dirceusilva/Documentos/BaseDados/covers32k_slices_ref/I_m_Losing_You/cheap_trick+Silver+08-I_m_Losing_You.wav\n",
      "/Users/dirceusilva/Documentos/BaseDados/covers32k/I_m_Not_In_Love/10cc+The_Very_Best_of_10cc+07-I_m_Not_In_Love.wav /Users/dirceusilva/Documentos/BaseDados/covers32k_slices_ref/I_m_Not_In_Love/10cc+The_Very_Best_of_10cc+07-I_m_Not_In_Love.wav\n",
      "/Users/dirceusilva/Documentos/BaseDados/covers32k/It_s_Tricky/bloodhound_gang+One_Fierce_Beer_Coaster+06-It_s_Tricky.wav /Users/dirceusilva/Documentos/BaseDados/covers32k_slices_ref/It_s_Tricky/bloodhound_gang+One_Fierce_Beer_Coaster+06-It_s_Tricky.wav\n",
      "/Users/dirceusilva/Documentos/BaseDados/covers32k/Lady/reo_speedwagon+Arch_Allies_Disc_1+04-Lady.wav /Users/dirceusilva/Documentos/BaseDados/covers32k_slices_ref/Lady/reo_speedwagon+Arch_Allies_Disc_1+04-Lady.wav\n"
     ]
    },
    {
     "name": "stdout",
     "output_type": "stream",
     "text": [
      "/Users/dirceusilva/Documentos/BaseDados/covers32k/Let_It_Be/beatles+Let_It_Be+06-Let_It_Be.wav /Users/dirceusilva/Documentos/BaseDados/covers32k_slices_ref/Let_It_Be/beatles+Let_It_Be+06-Let_It_Be.wav\n",
      "/Users/dirceusilva/Documentos/BaseDados/covers32k/Little_Wing/corrs+Talk_on_Corners_Special_Edition+12-Little_Wing.wav /Users/dirceusilva/Documentos/BaseDados/covers32k_slices_ref/Little_Wing/corrs+Talk_on_Corners_Special_Edition+12-Little_Wing.wav\n",
      "/Users/dirceusilva/Documentos/BaseDados/covers32k/Lodi/creedence_clearwater_revival+Live_in_Europe+08-Lodi.wav /Users/dirceusilva/Documentos/BaseDados/covers32k_slices_ref/Lodi/creedence_clearwater_revival+Live_in_Europe+08-Lodi.wav\n",
      "/Users/dirceusilva/Documentos/BaseDados/covers32k/Love_Hurts/heart+The_Road_Home+07-Love_Hurts.wav /Users/dirceusilva/Documentos/BaseDados/covers32k_slices_ref/Love_Hurts/heart+The_Road_Home+07-Love_Hurts.wav\n",
      "/Users/dirceusilva/Documentos/BaseDados/covers32k/Maggie_s_Farm/bob_dylan+Live_at_Budokan_Disc_1+06-Maggie_s_Farm.wav /Users/dirceusilva/Documentos/BaseDados/covers32k_slices_ref/Maggie_s_Farm/bob_dylan+Live_at_Budokan_Disc_1+06-Maggie_s_Farm.wav\n",
      "/Users/dirceusilva/Documentos/BaseDados/covers32k/More_Than_Words/extreme+The_Best_Of_Extreme+08-More_Than_Words.wav /Users/dirceusilva/Documentos/BaseDados/covers32k_slices_ref/More_Than_Words/extreme+The_Best_Of_Extreme+08-More_Than_Words.wav\n",
      "/Users/dirceusilva/Documentos/BaseDados/covers32k/My_Generation/green_day+Kerplunk+16-My_Generation.wav /Users/dirceusilva/Documentos/BaseDados/covers32k_slices_ref/My_Generation/green_day+Kerplunk+16-My_Generation.wav\n",
      "/Users/dirceusilva/Documentos/BaseDados/covers32k/My_Heart_Will_Go_On/celine_dion+Au_Coer_Du_Stade+11-My_Heart_Will_Go_On.wav /Users/dirceusilva/Documentos/BaseDados/covers32k_slices_ref/My_Heart_Will_Go_On/celine_dion+Au_Coer_Du_Stade+11-My_Heart_Will_Go_On.wav\n",
      "/Users/dirceusilva/Documentos/BaseDados/covers32k/Never_Let_Me_Down_Again/depeche_mode+Music_For_The_Masses+01-Never_Let_Me_Down_Again.wav /Users/dirceusilva/Documentos/BaseDados/covers32k_slices_ref/Never_Let_Me_Down_Again/depeche_mode+Music_For_The_Masses+01-Never_Let_Me_Down_Again.wav\n",
      "/Users/dirceusilva/Documentos/BaseDados/covers32k/New_Age/tori_amos+Strange_Little_Girls+01-New_Age.wav /Users/dirceusilva/Documentos/BaseDados/covers32k_slices_ref/New_Age/tori_amos+Strange_Little_Girls+01-New_Age.wav\n",
      "/Users/dirceusilva/Documentos/BaseDados/covers32k/Night_Time_Is_The_Right_Time/aretha_franklin+Aretha_Now+04-Night_Time_Is_The_Right_Time.wav /Users/dirceusilva/Documentos/BaseDados/covers32k_slices_ref/Night_Time_Is_The_Right_Time/aretha_franklin+Aretha_Now+04-Night_Time_Is_The_Right_Time.wav\n",
      "/Users/dirceusilva/Documentos/BaseDados/covers32k/No_Woman_No_Cry/bob_marley+Live_+05-No_Woman_No_Cry.wav /Users/dirceusilva/Documentos/BaseDados/covers32k_slices_ref/No_Woman_No_Cry/bob_marley+Live_+05-No_Woman_No_Cry.wav\n",
      "/Users/dirceusilva/Documentos/BaseDados/covers32k/Oh_Pretty_Woman/al_green+I_m_Still_In_Love_With_You+06-Oh_Pretty_Woman.wav /Users/dirceusilva/Documentos/BaseDados/covers32k_slices_ref/Oh_Pretty_Woman/al_green+I_m_Still_In_Love_With_You+06-Oh_Pretty_Woman.wav\n",
      "/Users/dirceusilva/Documentos/BaseDados/covers32k/Ooby_Dooby/creedence_clearwater_revival+Cosmo_s_Factory+04-Ooby_Dooby.wav /Users/dirceusilva/Documentos/BaseDados/covers32k_slices_ref/Ooby_Dooby/creedence_clearwater_revival+Cosmo_s_Factory+04-Ooby_Dooby.wav\n",
      "/Users/dirceusilva/Documentos/BaseDados/covers32k/Proud_Mary/creedence_clearwater_revival+Live_in_Europe+10-Proud_Mary.wav /Users/dirceusilva/Documentos/BaseDados/covers32k_slices_ref/Proud_Mary/creedence_clearwater_revival+Live_in_Europe+10-Proud_Mary.wav\n",
      "/Users/dirceusilva/Documentos/BaseDados/covers32k/Purple_Rain/leann_rimes+Sittin_On_Top_Of_The_World+15-Purple_Rain.wav /Users/dirceusilva/Documentos/BaseDados/covers32k_slices_ref/Purple_Rain/leann_rimes+Sittin_On_Top_Of_The_World+15-Purple_Rain.wav\n",
      "/Users/dirceusilva/Documentos/BaseDados/covers32k/Rattlesnakes/lloyd_cole_and_the_commotions+Rattlesnakes+03-Rattlesnakes.wav /Users/dirceusilva/Documentos/BaseDados/covers32k_slices_ref/Rattlesnakes/lloyd_cole_and_the_commotions+Rattlesnakes+03-Rattlesnakes.wav\n",
      "/Users/dirceusilva/Documentos/BaseDados/covers32k/Real_Men/joe_jackson+Night_and_Day+08-Real_Men.wav /Users/dirceusilva/Documentos/BaseDados/covers32k_slices_ref/Real_Men/joe_jackson+Night_and_Day+08-Real_Men.wav\n",
      "/Users/dirceusilva/Documentos/BaseDados/covers32k/Red_Red_Wine/neil_diamond+Hot_August_Night_Disc_1+10-Red_Red_Wine.wav /Users/dirceusilva/Documentos/BaseDados/covers32k_slices_ref/Red_Red_Wine/neil_diamond+Hot_August_Night_Disc_1+10-Red_Red_Wine.wav\n",
      "/Users/dirceusilva/Documentos/BaseDados/covers32k/River_Deep_Mountain_High/celine_dion+Falling_Into_You+12-River_Deep_Mountain_High.wav /Users/dirceusilva/Documentos/BaseDados/covers32k_slices_ref/River_Deep_Mountain_High/celine_dion+Falling_Into_You+12-River_Deep_Mountain_High.wav\n",
      "/Users/dirceusilva/Documentos/BaseDados/covers32k/September_Gurls/bangles+Different_Light+09-September_Gurls.wav /Users/dirceusilva/Documentos/BaseDados/covers32k_slices_ref/September_Gurls/bangles+Different_Light+09-September_Gurls.wav\n",
      "/Users/dirceusilva/Documentos/BaseDados/covers32k/She_Came_In_Through_The_Bathroom_Window/beatles+Abbey_Road+13-She_Came_In_Through_The_Bathroom_Window.wav /Users/dirceusilva/Documentos/BaseDados/covers32k_slices_ref/She_Came_In_Through_The_Bathroom_Window/beatles+Abbey_Road+13-She_Came_In_Through_The_Bathroom_Window.wav\n",
      "/Users/dirceusilva/Documentos/BaseDados/covers32k/Something_So_Right/annie_lennox+Medusa+10-Something_So_Right.wav /Users/dirceusilva/Documentos/BaseDados/covers32k_slices_ref/Something_So_Right/annie_lennox+Medusa+10-Something_So_Right.wav\n",
      "/Users/dirceusilva/Documentos/BaseDados/covers32k/Stone_Cold_Crazy/metallica+Live_Shit_Binge_And_Purge_Disc_3_+09-Stone_Cold_Crazy.wav /Users/dirceusilva/Documentos/BaseDados/covers32k_slices_ref/Stone_Cold_Crazy/metallica+Live_Shit_Binge_And_Purge_Disc_3_+09-Stone_Cold_Crazy.wav\n",
      "/Users/dirceusilva/Documentos/BaseDados/covers32k/Straight_From_The_Heart/bonnie_tyler+Faster_Than_The_Speed_Of_Night+09-Straight_From_The_Heart.wav /Users/dirceusilva/Documentos/BaseDados/covers32k_slices_ref/Straight_From_The_Heart/bonnie_tyler+Faster_Than_The_Speed_Of_Night+09-Straight_From_The_Heart.wav\n",
      "/Users/dirceusilva/Documentos/BaseDados/covers32k/Strange_Little_Girl/stranglers+The_UA_Singles_79-82+24-Strange_Little_Girl.wav /Users/dirceusilva/Documentos/BaseDados/covers32k_slices_ref/Strange_Little_Girl/stranglers+The_UA_Singles_79-82+24-Strange_Little_Girl.wav\n",
      "/Users/dirceusilva/Documentos/BaseDados/covers32k/Street_Fighting_Man/rage_against_the_machine+Renegades+11-Street_Fighting_Man.wav /Users/dirceusilva/Documentos/BaseDados/covers32k_slices_ref/Street_Fighting_Man/rage_against_the_machine+Renegades+11-Street_Fighting_Man.wav\n",
      "/Users/dirceusilva/Documentos/BaseDados/covers32k/Summer_of_69/bryan_adams+Live_Live_Live_+13-Summer_of_69.wav /Users/dirceusilva/Documentos/BaseDados/covers32k_slices_ref/Summer_of_69/bryan_adams+Live_Live_Live_+13-Summer_of_69.wav\n",
      "/Users/dirceusilva/Documentos/BaseDados/covers32k/Summertime_Blues/alan_jackson+Who_I_Am+01-Summertime_Blues.wav /Users/dirceusilva/Documentos/BaseDados/covers32k_slices_ref/Summertime_Blues/alan_jackson+Who_I_Am+01-Summertime_Blues.wav\n",
      "/Users/dirceusilva/Documentos/BaseDados/covers32k/Take_Me_To_The_River/al_green+Anthology+39-Take_Me_To_The_River.wav /Users/dirceusilva/Documentos/BaseDados/covers32k_slices_ref/Take_Me_To_The_River/al_green+Anthology+39-Take_Me_To_The_River.wav\n",
      "/Users/dirceusilva/Documentos/BaseDados/covers32k/Take_On_Me/a_ha+Hunting_High_and_Low+01-Take_On_Me.wav /Users/dirceusilva/Documentos/BaseDados/covers32k_slices_ref/Take_On_Me/a_ha+Hunting_High_and_Low+01-Take_On_Me.wav\n",
      "/Users/dirceusilva/Documentos/BaseDados/covers32k/The_Boxer/paul_simon+Concert_in_the_Park_Disc_2+10-The_Boxer.wav /Users/dirceusilva/Documentos/BaseDados/covers32k_slices_ref/The_Boxer/paul_simon+Concert_in_the_Park_Disc_2+10-The_Boxer.wav\n",
      "/Users/dirceusilva/Documentos/BaseDados/covers32k/Thin_Line_Between_Love_And_Hate/annie_lennox+Medusa+08-Thin_Line_Between_Love_And_Hate.wav /Users/dirceusilva/Documentos/BaseDados/covers32k_slices_ref/Thin_Line_Between_Love_And_Hate/annie_lennox+Medusa+08-Thin_Line_Between_Love_And_Hate.wav\n"
     ]
    },
    {
     "name": "stdout",
     "output_type": "stream",
     "text": [
      "/Users/dirceusilva/Documentos/BaseDados/covers32k/Time/tom_waits+Rain_Dogs+09-Time.wav /Users/dirceusilva/Documentos/BaseDados/covers32k_slices_ref/Time/tom_waits+Rain_Dogs+09-Time.wav\n",
      "/Users/dirceusilva/Documentos/BaseDados/covers32k/Tomorrow_Never_Knows/beatles+Revolver+14-Tomorrow_Never_Knows.wav /Users/dirceusilva/Documentos/BaseDados/covers32k_slices_ref/Tomorrow_Never_Knows/beatles+Revolver+14-Tomorrow_Never_Knows.wav\n",
      "/Users/dirceusilva/Documentos/BaseDados/covers32k/Toys_In_The_Attic/aerosmith+Toys_In_The_Attic+01-Toys_In_The_Attic.wav /Users/dirceusilva/Documentos/BaseDados/covers32k_slices_ref/Toys_In_The_Attic/aerosmith+Toys_In_The_Attic+01-Toys_In_The_Attic.wav\n",
      "/Users/dirceusilva/Documentos/BaseDados/covers32k/Train_In_Vain/annie_lennox+Medusa+05-Train_In_Vain.wav /Users/dirceusilva/Documentos/BaseDados/covers32k_slices_ref/Train_In_Vain/annie_lennox+Medusa+05-Train_In_Vain.wav\n",
      "/Users/dirceusilva/Documentos/BaseDados/covers32k/Tush/nazareth+_Snaz+16-Tush.wav /Users/dirceusilva/Documentos/BaseDados/covers32k_slices_ref/Tush/nazareth+_Snaz+16-Tush.wav\n",
      "/Users/dirceusilva/Documentos/BaseDados/covers32k/Waiting_In_Vain/annie_lennox+Medusa+09-Waiting_In_Vain.wav /Users/dirceusilva/Documentos/BaseDados/covers32k_slices_ref/Waiting_In_Vain/annie_lennox+Medusa+09-Waiting_In_Vain.wav\n",
      "/Users/dirceusilva/Documentos/BaseDados/covers32k/Walk_This_Way/aerosmith+A_Little_South_Of_Sanity_Disc_2_+08-Walk_This_Way.wav /Users/dirceusilva/Documentos/BaseDados/covers32k_slices_ref/Walk_This_Way/aerosmith+A_Little_South_Of_Sanity_Disc_2_+08-Walk_This_Way.wav\n",
      "/Users/dirceusilva/Documentos/BaseDados/covers32k/Walking_After_Midnight/bryan_adams+Live_Live_Live_+15-Walking_After_Midnight.wav /Users/dirceusilva/Documentos/BaseDados/covers32k_slices_ref/Walking_After_Midnight/bryan_adams+Live_Live_Live_+15-Walking_After_Midnight.wav\n",
      "/Users/dirceusilva/Documentos/BaseDados/covers32k/We_Can_Work_It_Out/beatles+1+13-We_Can_Work_It_Out.wav /Users/dirceusilva/Documentos/BaseDados/covers32k_slices_ref/We_Can_Work_It_Out/beatles+1+13-We_Can_Work_It_Out.wav\n",
      "/Users/dirceusilva/Documentos/BaseDados/covers32k/What_s_Going_On/cyndi_lauper+Twelve_Deadly_Cyns+09-What_s_Going_On.wav /Users/dirceusilva/Documentos/BaseDados/covers32k_slices_ref/What_s_Going_On/cyndi_lauper+Twelve_Deadly_Cyns+09-What_s_Going_On.wav\n",
      "/Users/dirceusilva/Documentos/BaseDados/covers32k/White_Room/cream+Live_Cream_Volume_II+02-White_Room.wav /Users/dirceusilva/Documentos/BaseDados/covers32k_slices_ref/White_Room/cream+Live_Cream_Volume_II+02-White_Room.wav\n",
      "/Users/dirceusilva/Documentos/BaseDados/covers32k/Wish_You_Were_Here/pink_floyd+Wish_You_Were_Here+04-Wish_You_Were_Here.wav /Users/dirceusilva/Documentos/BaseDados/covers32k_slices_ref/Wish_You_Were_Here/pink_floyd+Wish_You_Were_Here+04-Wish_You_Were_Here.wav\n",
      "/Users/dirceusilva/Documentos/BaseDados/covers32k/Yesterday/beatles+1+11-Yesterday.wav /Users/dirceusilva/Documentos/BaseDados/covers32k_slices_ref/Yesterday/beatles+1+11-Yesterday.wav\n"
     ]
    },
    {
     "data": {
      "application/javascript": [
       "\n",
       "            setTimeout(function() {\n",
       "                var nbb_cell_id = 10;\n",
       "                var nbb_unformatted_code = \"import soundfile as sf\\n# create slices\\nwin = 10.0 # sec\\n\\nfor file_in, file_out in zip(filenames_tst, filenames_slices):\\n    print(file_in, file_out)\\n    y,fs = librosa.load(file_in, mono=True)\\n    winsize = int(fs*win)\\n    \\n    start = np.random.randint(0,high=len(y)-winsize)\\n    end = start + winsize\\n    \\n    signal = y[start:end]\\n    head, tail = os.path.split(file_out)\\n    if not os.path.exists(head):\\n        os.makedirs(head)\\n        \\n    sf.write(file_out, signal, fs, 'PCM_16')\";\n",
       "                var nbb_formatted_code = \"import soundfile as sf\\n\\n# create slices\\nwin = 10.0  # sec\\n\\nfor file_in, file_out in zip(filenames_tst, filenames_slices):\\n    print(file_in, file_out)\\n    y, fs = librosa.load(file_in, mono=True)\\n    winsize = int(fs * win)\\n\\n    start = np.random.randint(0, high=len(y) - winsize)\\n    end = start + winsize\\n\\n    signal = y[start:end]\\n    head, tail = os.path.split(file_out)\\n    if not os.path.exists(head):\\n        os.makedirs(head)\\n\\n    sf.write(file_out, signal, fs, \\\"PCM_16\\\")\";\n",
       "                var nbb_cells = Jupyter.notebook.get_cells();\n",
       "                for (var i = 0; i < nbb_cells.length; ++i) {\n",
       "                    if (nbb_cells[i].input_prompt_number == nbb_cell_id) {\n",
       "                        if (nbb_cells[i].get_text() == nbb_unformatted_code) {\n",
       "                             nbb_cells[i].set_text(nbb_formatted_code);\n",
       "                        }\n",
       "                        break;\n",
       "                    }\n",
       "                }\n",
       "            }, 500);\n",
       "            "
      ],
      "text/plain": [
       "<IPython.core.display.Javascript object>"
      ]
     },
     "metadata": {},
     "output_type": "display_data"
    }
   ],
   "source": [
    "import soundfile as sf\n",
    "# create slices\n",
    "win = 10.0 # sec\n",
    "\n",
    "for file_in, file_out in zip(filenames_tst, filenames_slices):\n",
    "    print(file_in, file_out)\n",
    "    y,fs = librosa.load(file_in, mono=True)\n",
    "    winsize = int(fs*win)\n",
    "    \n",
    "    start = np.random.randint(0,high=len(y)-winsize)\n",
    "    end = start + winsize\n",
    "    \n",
    "    signal = y[start:end]\n",
    "    head, tail = os.path.split(file_out)\n",
    "    if not os.path.exists(head):\n",
    "        os.makedirs(head)\n",
    "        \n",
    "    sf.write(file_out, signal, fs, 'PCM_16')\n"
   ]
  },
  {
   "cell_type": "code",
   "execution_count": 11,
   "metadata": {},
   "outputs": [
    {
     "data": {
      "text/plain": [
       "['/Users/dirceusilva/Documentos/BaseDados/covers32k_slices_ref/Claudette/everly_brothers+The_Fabulous_Style_of+01-Claudette.wav',\n",
       " '/Users/dirceusilva/Documentos/BaseDados/covers32k_slices_ref/I_Don_t_Want_To_Miss_A_Thing/aerosmith+Armageddon_Original_Soundtrack_+01-I_Don_t_Want_To_Miss_A_Thing.wav',\n",
       " '/Users/dirceusilva/Documentos/BaseDados/covers32k_slices_ref/Happiness_is_a_Warm_Gun/beatles+White_Album_Disc_1+08-Happiness_is_a_Warm_Gun.wav',\n",
       " '/Users/dirceusilva/Documentos/BaseDados/covers32k_slices_ref/Lady/reo_speedwagon+Arch_Allies_Disc_1+04-Lady.wav',\n",
       " '/Users/dirceusilva/Documentos/BaseDados/covers32k_slices_ref/Tomorrow_Never_Knows/beatles+Revolver+14-Tomorrow_Never_Knows.wav',\n",
       " '/Users/dirceusilva/Documentos/BaseDados/covers32k_slices_ref/Night_Time_Is_The_Right_Time/aretha_franklin+Aretha_Now+04-Night_Time_Is_The_Right_Time.wav',\n",
       " '/Users/dirceusilva/Documentos/BaseDados/covers32k_slices_ref/Ooby_Dooby/creedence_clearwater_revival+Cosmo_s_Factory+04-Ooby_Dooby.wav',\n",
       " '/Users/dirceusilva/Documentos/BaseDados/covers32k_slices_ref/Maggie_s_Farm/bob_dylan+Live_at_Budokan_Disc_1+06-Maggie_s_Farm.wav',\n",
       " '/Users/dirceusilva/Documentos/BaseDados/covers32k_slices_ref/We_Can_Work_It_Out/beatles+1+13-We_Can_Work_It_Out.wav',\n",
       " '/Users/dirceusilva/Documentos/BaseDados/covers32k_slices_ref/Stone_Cold_Crazy/metallica+Live_Shit_Binge_And_Purge_Disc_3_+09-Stone_Cold_Crazy.wav',\n",
       " '/Users/dirceusilva/Documentos/BaseDados/covers32k_slices_ref/Blue_Collar_Man/reo_speedwagon+Arch_Allies_Disc_1+01-Blue_Collar_Man.wav',\n",
       " '/Users/dirceusilva/Documentos/BaseDados/covers32k_slices_ref/Straight_From_The_Heart/bonnie_tyler+Faster_Than_The_Speed_Of_Night+09-Straight_From_The_Heart.wav',\n",
       " '/Users/dirceusilva/Documentos/BaseDados/covers32k_slices_ref/God_Only_Knows/beach_boys+Pet_Sounds+08-God_Only_Knows.wav',\n",
       " '/Users/dirceusilva/Documentos/BaseDados/covers32k_slices_ref/I_m_Losing_You/cheap_trick+Silver+08-I_m_Losing_You.wav',\n",
       " '/Users/dirceusilva/Documentos/BaseDados/covers32k_slices_ref/Addicted_To_Love/robert_palmer+Riptide+03-Addicted_To_Love.wav',\n",
       " '/Users/dirceusilva/Documentos/BaseDados/covers32k_slices_ref/Rattlesnakes/lloyd_cole_and_the_commotions+Rattlesnakes+03-Rattlesnakes.wav',\n",
       " '/Users/dirceusilva/Documentos/BaseDados/covers32k_slices_ref/My_Generation/green_day+Kerplunk+16-My_Generation.wav',\n",
       " '/Users/dirceusilva/Documentos/BaseDados/covers32k_slices_ref/Cocaine/eric_clapton+Crossroads_2_Disc_3+07-Cocaine.wav',\n",
       " '/Users/dirceusilva/Documentos/BaseDados/covers32k_slices_ref/River_Deep_Mountain_High/celine_dion+Falling_Into_You+12-River_Deep_Mountain_High.wav',\n",
       " '/Users/dirceusilva/Documentos/BaseDados/covers32k_slices_ref/White_Room/cream+Live_Cream_Volume_II+02-White_Room.wav',\n",
       " '/Users/dirceusilva/Documentos/BaseDados/covers32k_slices_ref/She_Came_In_Through_The_Bathroom_Window/beatles+Abbey_Road+13-She_Came_In_Through_The_Bathroom_Window.wav',\n",
       " '/Users/dirceusilva/Documentos/BaseDados/covers32k_slices_ref/Summer_of_69/bryan_adams+Live_Live_Live_+13-Summer_of_69.wav',\n",
       " '/Users/dirceusilva/Documentos/BaseDados/covers32k_slices_ref/Walking_After_Midnight/bryan_adams+Live_Live_Live_+15-Walking_After_Midnight.wav',\n",
       " '/Users/dirceusilva/Documentos/BaseDados/covers32k_slices_ref/America/paul_simon+Concert_in_the_Park_Disc_2+09-America.wav',\n",
       " '/Users/dirceusilva/Documentos/BaseDados/covers32k_slices_ref/Waiting_In_Vain/annie_lennox+Medusa+09-Waiting_In_Vain.wav',\n",
       " '/Users/dirceusilva/Documentos/BaseDados/covers32k_slices_ref/Street_Fighting_Man/rage_against_the_machine+Renegades+11-Street_Fighting_Man.wav',\n",
       " '/Users/dirceusilva/Documentos/BaseDados/covers32k_slices_ref/Oh_Pretty_Woman/al_green+I_m_Still_In_Love_With_You+06-Oh_Pretty_Woman.wav',\n",
       " '/Users/dirceusilva/Documentos/BaseDados/covers32k_slices_ref/Take_Me_To_The_River/al_green+Anthology+39-Take_Me_To_The_River.wav',\n",
       " '/Users/dirceusilva/Documentos/BaseDados/covers32k_slices_ref/Take_On_Me/a_ha+Hunting_High_and_Low+01-Take_On_Me.wav',\n",
       " '/Users/dirceusilva/Documentos/BaseDados/covers32k_slices_ref/Grand_Illusion/reo_speedwagon+Arch_Allies_Disc_1+02-Grand_Illusion.wav',\n",
       " '/Users/dirceusilva/Documentos/BaseDados/covers32k_slices_ref/Yesterday/beatles+1+11-Yesterday.wav',\n",
       " '/Users/dirceusilva/Documentos/BaseDados/covers32k_slices_ref/Train_In_Vain/annie_lennox+Medusa+05-Train_In_Vain.wav',\n",
       " '/Users/dirceusilva/Documentos/BaseDados/covers32k_slices_ref/Walk_This_Way/aerosmith+A_Little_South_Of_Sanity_Disc_2_+08-Walk_This_Way.wav',\n",
       " '/Users/dirceusilva/Documentos/BaseDados/covers32k_slices_ref/What_s_Going_On/cyndi_lauper+Twelve_Deadly_Cyns+09-What_s_Going_On.wav',\n",
       " '/Users/dirceusilva/Documentos/BaseDados/covers32k_slices_ref/A_Whiter_Shade_Of_Pale/annie_lennox+Medusa+03-A_Whiter_Shade_Of_Pale.wav',\n",
       " '/Users/dirceusilva/Documentos/BaseDados/covers32k_slices_ref/Hush/deep_purple+Nobody_s_Perfect_Disc_2_2_+07-Hush.wav',\n",
       " '/Users/dirceusilva/Documentos/BaseDados/covers32k_slices_ref/Time/tom_waits+Rain_Dogs+09-Time.wav',\n",
       " '/Users/dirceusilva/Documentos/BaseDados/covers32k_slices_ref/Never_Let_Me_Down_Again/depeche_mode+Music_For_The_Masses+01-Never_Let_Me_Down_Again.wav',\n",
       " '/Users/dirceusilva/Documentos/BaseDados/covers32k_slices_ref/Abracadabra/steve_miller_band+Steve_Miller_Band_Live_+09-Abracadabra.wav',\n",
       " '/Users/dirceusilva/Documentos/BaseDados/covers32k_slices_ref/Caroline_No/beach_boys+Pet_Sounds+13-Caroline_No.wav',\n",
       " '/Users/dirceusilva/Documentos/BaseDados/covers32k_slices_ref/Between_The_Bars/elliott_smith+Either_Or+04-Between_The_Bars.wav',\n",
       " '/Users/dirceusilva/Documentos/BaseDados/covers32k_slices_ref/Thin_Line_Between_Love_And_Hate/annie_lennox+Medusa+08-Thin_Line_Between_Love_And_Hate.wav',\n",
       " '/Users/dirceusilva/Documentos/BaseDados/covers32k_slices_ref/Let_It_Be/beatles+Let_It_Be+06-Let_It_Be.wav',\n",
       " '/Users/dirceusilva/Documentos/BaseDados/covers32k_slices_ref/Lodi/creedence_clearwater_revival+Live_in_Europe+08-Lodi.wav',\n",
       " '/Users/dirceusilva/Documentos/BaseDados/covers32k_slices_ref/I_m_Not_In_Love/10cc+The_Very_Best_of_10cc+07-I_m_Not_In_Love.wav',\n",
       " '/Users/dirceusilva/Documentos/BaseDados/covers32k_slices_ref/Tush/nazareth+_Snaz+16-Tush.wav',\n",
       " '/Users/dirceusilva/Documentos/BaseDados/covers32k_slices_ref/Don_t_Let_It_Bring_You_Down/annie_lennox+Medusa+04-Don_t_Let_It_Bring_You_Down.wav',\n",
       " '/Users/dirceusilva/Documentos/BaseDados/covers32k_slices_ref/Red_Red_Wine/neil_diamond+Hot_August_Night_Disc_1+10-Red_Red_Wine.wav',\n",
       " '/Users/dirceusilva/Documentos/BaseDados/covers32k_slices_ref/Real_Men/joe_jackson+Night_and_Day+08-Real_Men.wav',\n",
       " '/Users/dirceusilva/Documentos/BaseDados/covers32k_slices_ref/Come_Together/aerosmith+Live_Bootleg+06-Come_Together.wav',\n",
       " '/Users/dirceusilva/Documentos/BaseDados/covers32k_slices_ref/New_Age/tori_amos+Strange_Little_Girls+01-New_Age.wav',\n",
       " '/Users/dirceusilva/Documentos/BaseDados/covers32k_slices_ref/I_Don_t_Like_Mondays/boomtown_rats+Best_of_the_Boomtown_Rats+10-I_Don_t_Like_Mondays.wav',\n",
       " '/Users/dirceusilva/Documentos/BaseDados/covers32k_slices_ref/Strange_Little_Girl/stranglers+The_UA_Singles_79-82+24-Strange_Little_Girl.wav',\n",
       " '/Users/dirceusilva/Documentos/BaseDados/covers32k_slices_ref/My_Heart_Will_Go_On/celine_dion+Au_Coer_Du_Stade+11-My_Heart_Will_Go_On.wav',\n",
       " '/Users/dirceusilva/Documentos/BaseDados/covers32k_slices_ref/Gold_Dust_Woman/fleetwood_mac+Rumours+11-Gold_Dust_Woman.wav',\n",
       " '/Users/dirceusilva/Documentos/BaseDados/covers32k_slices_ref/All_Tomorrow_s_Parties/japan+Quiet_Life+06-All_Tomorrow_s_Parties.wav',\n",
       " '/Users/dirceusilva/Documentos/BaseDados/covers32k_slices_ref/Toys_In_The_Attic/aerosmith+Toys_In_The_Attic+01-Toys_In_The_Attic.wav',\n",
       " '/Users/dirceusilva/Documentos/BaseDados/covers32k_slices_ref/Heart_Of_Gold/neil_young+Harvest+04-Heart_Of_Gold.wav',\n",
       " '/Users/dirceusilva/Documentos/BaseDados/covers32k_slices_ref/Love_Hurts/heart+The_Road_Home+07-Love_Hurts.wav',\n",
       " '/Users/dirceusilva/Documentos/BaseDados/covers32k_slices_ref/All_Along_The_Watchtower/bob_dylan+Before_The_Flood_Disc_Two_+07-All_Along_the_Watchtower.wav',\n",
       " '/Users/dirceusilva/Documentos/BaseDados/covers32k_slices_ref/Summertime_Blues/alan_jackson+Who_I_Am+01-Summertime_Blues.wav',\n",
       " '/Users/dirceusilva/Documentos/BaseDados/covers32k_slices_ref/Before_You_Accuse_Me/creedence_clearwater_revival+Cosmo_s_Factory+02-Before_You_Accuse_Me.wav',\n",
       " '/Users/dirceusilva/Documentos/BaseDados/covers32k_slices_ref/Wish_You_Were_Here/pink_floyd+Wish_You_Were_Here+04-Wish_You_Were_Here.wav',\n",
       " '/Users/dirceusilva/Documentos/BaseDados/covers32k_slices_ref/Purple_Rain/leann_rimes+Sittin_On_Top_Of_The_World+15-Purple_Rain.wav',\n",
       " '/Users/dirceusilva/Documentos/BaseDados/covers32k_slices_ref/I_Love_You/celine_dion+Falling_Into_You+09-I_Love_You.wav',\n",
       " '/Users/dirceusilva/Documentos/BaseDados/covers32k_slices_ref/September_Gurls/bangles+Different_Light+09-September_Gurls.wav',\n",
       " '/Users/dirceusilva/Documentos/BaseDados/covers32k_slices_ref/I_Can_t_Get_No_Satisfaction/britney_spears+Oops_I_Did_It_Again+04-_I_Can_t_Get_No_Satisfaction.wav',\n",
       " '/Users/dirceusilva/Documentos/BaseDados/covers32k_slices_ref/Faith/george_michael+Faith+01-Faith.wav',\n",
       " '/Users/dirceusilva/Documentos/BaseDados/covers32k_slices_ref/The_Boxer/paul_simon+Concert_in_the_Park_Disc_2+10-The_Boxer.wav',\n",
       " '/Users/dirceusilva/Documentos/BaseDados/covers32k_slices_ref/No_Woman_No_Cry/bob_marley+Live_+05-No_Woman_No_Cry.wav',\n",
       " '/Users/dirceusilva/Documentos/BaseDados/covers32k_slices_ref/Cecilia/paul_simon+Concert_in_the_Park_Disc_2+11-Cecilia.wav',\n",
       " '/Users/dirceusilva/Documentos/BaseDados/covers32k_slices_ref/It_s_Tricky/bloodhound_gang+One_Fierce_Beer_Coaster+06-It_s_Tricky.wav',\n",
       " '/Users/dirceusilva/Documentos/BaseDados/covers32k_slices_ref/More_Than_Words/extreme+The_Best_Of_Extreme+08-More_Than_Words.wav',\n",
       " '/Users/dirceusilva/Documentos/BaseDados/covers32k_slices_ref/I_Can_t_Get_Next_To_You/annie_lennox+Medusa+06-I_Can_t_Get_Next_To_You.wav',\n",
       " '/Users/dirceusilva/Documentos/BaseDados/covers32k_slices_ref/Downtown_Lights/annie_lennox+Medusa+07-Downtown_Lights.wav',\n",
       " '/Users/dirceusilva/Documentos/BaseDados/covers32k_slices_ref/Proud_Mary/creedence_clearwater_revival+Live_in_Europe+10-Proud_Mary.wav',\n",
       " '/Users/dirceusilva/Documentos/BaseDados/covers32k_slices_ref/Enjoy_The_Silence/depeche_mode+Violator+06-Enjoy_The_Silence.wav',\n",
       " '/Users/dirceusilva/Documentos/BaseDados/covers32k_slices_ref/Something_So_Right/annie_lennox+Medusa+10-Something_So_Right.wav',\n",
       " '/Users/dirceusilva/Documentos/BaseDados/covers32k_slices_ref/Day_Tripper/beatles+1+12-Day_Tripper.wav',\n",
       " '/Users/dirceusilva/Documentos/BaseDados/covers32k_slices_ref/Little_Wing/corrs+Talk_on_Corners_Special_Edition+12-Little_Wing.wav']"
      ]
     },
     "execution_count": 11,
     "metadata": {},
     "output_type": "execute_result"
    },
    {
     "data": {
      "application/javascript": [
       "\n",
       "            setTimeout(function() {\n",
       "                var nbb_cell_id = 11;\n",
       "                var nbb_unformatted_code = \"slices = glob.glob(os.path.join(slices_dir, \\\"**/*.wav\\\"))\\nslices\";\n",
       "                var nbb_formatted_code = \"slices = glob.glob(os.path.join(slices_dir, \\\"**/*.wav\\\"))\\nslices\";\n",
       "                var nbb_cells = Jupyter.notebook.get_cells();\n",
       "                for (var i = 0; i < nbb_cells.length; ++i) {\n",
       "                    if (nbb_cells[i].input_prompt_number == nbb_cell_id) {\n",
       "                        if (nbb_cells[i].get_text() == nbb_unformatted_code) {\n",
       "                             nbb_cells[i].set_text(nbb_formatted_code);\n",
       "                        }\n",
       "                        break;\n",
       "                    }\n",
       "                }\n",
       "            }, 500);\n",
       "            "
      ],
      "text/plain": [
       "<IPython.core.display.Javascript object>"
      ]
     },
     "metadata": {},
     "output_type": "display_data"
    }
   ],
   "source": [
    "slices = glob.glob(os.path.join(slices_dir, \"**/*.wav\"))\n",
    "slices"
   ]
  },
  {
   "cell_type": "code",
   "execution_count": 12,
   "metadata": {
    "scrolled": false
   },
   "outputs": [
    {
     "data": {
      "application/javascript": [
       "\n",
       "            setTimeout(function() {\n",
       "                var nbb_cell_id = 12;\n",
       "                var nbb_unformatted_code = \"collector.load(\\\"\\\")\";\n",
       "                var nbb_formatted_code = \"collector.load(\\\"\\\")\";\n",
       "                var nbb_cells = Jupyter.notebook.get_cells();\n",
       "                for (var i = 0; i < nbb_cells.length; ++i) {\n",
       "                    if (nbb_cells[i].input_prompt_number == nbb_cell_id) {\n",
       "                        if (nbb_cells[i].get_text() == nbb_unformatted_code) {\n",
       "                             nbb_cells[i].set_text(nbb_formatted_code);\n",
       "                        }\n",
       "                        break;\n",
       "                    }\n",
       "                }\n",
       "            }, 500);\n",
       "            "
      ],
      "text/plain": [
       "<IPython.core.display.Javascript object>"
      ]
     },
     "metadata": {},
     "output_type": "display_data"
    }
   ],
   "source": [
    "collector.load(\"\")"
   ]
  },
  {
   "cell_type": "code",
   "execution_count": 13,
   "metadata": {},
   "outputs": [
    {
     "data": {
      "application/javascript": [
       "\n",
       "            setTimeout(function() {\n",
       "                var nbb_cell_id = 13;\n",
       "                var nbb_unformatted_code = \"from collections import defaultdict\\n\\ndef search(label):\\n    global collector\\n    queryFeatures = collector.calc_hashprint(label)\\n    if len(queryFeatures) == 0:\\n        return (\\\"INVALID QUERY\\\", -1, -1)\\n\\n    top = []\\n    print(\\\"Finding \\\", label)\\n    global hashprints\\n    k = len(queryFeatures)\\n\\n    for f in hashprints:\\n        refFeatures = f[0]\\n        refLabel = f[1]\\n        bestDistance = match_to_ref(queryFeatures, refFeatures)\\n        top.append((bestDistance, refLabel))\\n\\n    top = sorted(top)\\n    return (label, top[:10])\";\n",
       "                var nbb_formatted_code = \"from collections import defaultdict\\n\\n\\ndef search(label):\\n    global collector\\n    queryFeatures = collector.calc_hashprint(label)\\n    if len(queryFeatures) == 0:\\n        return (\\\"INVALID QUERY\\\", -1, -1)\\n\\n    top = []\\n    print(\\\"Finding \\\", label)\\n    global hashprints\\n    k = len(queryFeatures)\\n\\n    for f in hashprints:\\n        refFeatures = f[0]\\n        refLabel = f[1]\\n        bestDistance = match_to_ref(queryFeatures, refFeatures)\\n        top.append((bestDistance, refLabel))\\n\\n    top = sorted(top)\\n    return (label, top[:10])\";\n",
       "                var nbb_cells = Jupyter.notebook.get_cells();\n",
       "                for (var i = 0; i < nbb_cells.length; ++i) {\n",
       "                    if (nbb_cells[i].input_prompt_number == nbb_cell_id) {\n",
       "                        if (nbb_cells[i].get_text() == nbb_unformatted_code) {\n",
       "                             nbb_cells[i].set_text(nbb_formatted_code);\n",
       "                        }\n",
       "                        break;\n",
       "                    }\n",
       "                }\n",
       "            }, 500);\n",
       "            "
      ],
      "text/plain": [
       "<IPython.core.display.Javascript object>"
      ]
     },
     "metadata": {},
     "output_type": "display_data"
    }
   ],
   "source": [
    "from collections import defaultdict\n",
    "\n",
    "def search(label):\n",
    "    global collector\n",
    "    queryFeatures = collector.calc_hashprint(label)\n",
    "    if len(queryFeatures) == 0:\n",
    "        return (\"INVALID QUERY\", -1, -1)\n",
    "\n",
    "    top = []\n",
    "    print(\"Finding \", label)\n",
    "    global hashprints\n",
    "    k = len(queryFeatures)\n",
    "\n",
    "    for f in hashprints:\n",
    "        refFeatures = f[0]\n",
    "        refLabel = f[1]\n",
    "        bestDistance = match_to_ref(queryFeatures, refFeatures)\n",
    "        top.append((bestDistance, refLabel))\n",
    "\n",
    "    top = sorted(top)\n",
    "    return (label, top[:10])\n"
   ]
  },
  {
   "cell_type": "code",
   "execution_count": 11,
   "metadata": {},
   "outputs": [
    {
     "ename": "ModuleNotFoundError",
     "evalue": "No module named 'multiprocess'",
     "output_type": "error",
     "traceback": [
      "\u001b[0;31m---------------------------------------------------------------------------\u001b[0m",
      "\u001b[0;31mModuleNotFoundError\u001b[0m                       Traceback (most recent call last)",
      "\u001b[0;32m<timed exec>\u001b[0m in \u001b[0;36m<module>\u001b[0;34m\u001b[0m\n",
      "\u001b[0;31mModuleNotFoundError\u001b[0m: No module named 'multiprocess'"
     ]
    },
    {
     "data": {
      "application/javascript": [
       "\n",
       "            setTimeout(function() {\n",
       "                var nbb_cell_id = 11;\n",
       "                var nbb_unformatted_code = \"%%time\\n\\nfrom collections import defaultdict\\n#import multiprocessing\\nimport multiprocess as mp\\n\\n\\ndef search(label):\\n    global collector\\n    queryFeatures = collector.calc_hashprint(label)\\n    if len(queryFeatures) == 0:\\n        return (\\\"INVALID QUERY\\\", -1, -1)\\n\\n    top = []\\n    print(\\\"Finding \\\", label)\\n    global hashprints\\n    k = len(queryFeatures)\\n\\n    for f in hashprints:\\n        refFeatures = f[0]\\n        refLabel = f[1]\\n        bestDistance = match_to_ref(queryFeatures, refFeatures)\\n        top.append((bestDistance, refLabel))\\n\\n    top = sorted(top)\\n    return (label, top[:10])\\n\\n\\npool = mp.Pool()\\nans = pool.map(search, slices)\\npool.close()\\npool.join()\";\n",
       "                var nbb_formatted_code = \"%%time\\n\\nfrom collections import defaultdict\\n#import multiprocessing\\nimport multiprocess as mp\\n\\n\\ndef search(label):\\n    global collector\\n    queryFeatures = collector.calc_hashprint(label)\\n    if len(queryFeatures) == 0:\\n        return (\\\"INVALID QUERY\\\", -1, -1)\\n\\n    top = []\\n    print(\\\"Finding \\\", label)\\n    global hashprints\\n    k = len(queryFeatures)\\n\\n    for f in hashprints:\\n        refFeatures = f[0]\\n        refLabel = f[1]\\n        bestDistance = match_to_ref(queryFeatures, refFeatures)\\n        top.append((bestDistance, refLabel))\\n\\n    top = sorted(top)\\n    return (label, top[:10])\\n\\n\\npool = mp.Pool()\\nans = pool.map(search, slices)\\npool.close()\\npool.join()\";\n",
       "                var nbb_cells = Jupyter.notebook.get_cells();\n",
       "                for (var i = 0; i < nbb_cells.length; ++i) {\n",
       "                    if (nbb_cells[i].input_prompt_number == nbb_cell_id) {\n",
       "                        if (nbb_cells[i].get_text() == nbb_unformatted_code) {\n",
       "                             nbb_cells[i].set_text(nbb_formatted_code);\n",
       "                        }\n",
       "                        break;\n",
       "                    }\n",
       "                }\n",
       "            }, 500);\n",
       "            "
      ],
      "text/plain": [
       "<IPython.core.display.Javascript object>"
      ]
     },
     "metadata": {},
     "output_type": "display_data"
    }
   ],
   "source": [
    "%%time\n",
    "\n",
    "#import multiprocessing as mp\n",
    "import multiprocess as mp\n",
    "\n",
    "pool = mp.Pool()\n",
    "ans = pool.map(search, slices)\n",
    "pool.close()\n",
    "pool.join()"
   ]
  },
  {
   "cell_type": "code",
   "execution_count": 14,
   "metadata": {},
   "outputs": [
    {
     "name": "stdout",
     "output_type": "stream",
     "text": [
      "Finding  /Users/dirceusilva/Documentos/BaseDados/covers32k_slices_ref/Claudette/everly_brothers+The_Fabulous_Style_of+01-Claudette.wav\n",
      "Finding  /Users/dirceusilva/Documentos/BaseDados/covers32k_slices_ref/I_Don_t_Want_To_Miss_A_Thing/aerosmith+Armageddon_Original_Soundtrack_+01-I_Don_t_Want_To_Miss_A_Thing.wav\n",
      "Finding  /Users/dirceusilva/Documentos/BaseDados/covers32k_slices_ref/Happiness_is_a_Warm_Gun/beatles+White_Album_Disc_1+08-Happiness_is_a_Warm_Gun.wav\n",
      "Finding  /Users/dirceusilva/Documentos/BaseDados/covers32k_slices_ref/Lady/reo_speedwagon+Arch_Allies_Disc_1+04-Lady.wav\n",
      "Finding  /Users/dirceusilva/Documentos/BaseDados/covers32k_slices_ref/Tomorrow_Never_Knows/beatles+Revolver+14-Tomorrow_Never_Knows.wav\n",
      "Finding  /Users/dirceusilva/Documentos/BaseDados/covers32k_slices_ref/Night_Time_Is_The_Right_Time/aretha_franklin+Aretha_Now+04-Night_Time_Is_The_Right_Time.wav\n",
      "Finding  /Users/dirceusilva/Documentos/BaseDados/covers32k_slices_ref/Ooby_Dooby/creedence_clearwater_revival+Cosmo_s_Factory+04-Ooby_Dooby.wav\n",
      "Finding  /Users/dirceusilva/Documentos/BaseDados/covers32k_slices_ref/Maggie_s_Farm/bob_dylan+Live_at_Budokan_Disc_1+06-Maggie_s_Farm.wav\n",
      "Finding  /Users/dirceusilva/Documentos/BaseDados/covers32k_slices_ref/We_Can_Work_It_Out/beatles+1+13-We_Can_Work_It_Out.wav\n",
      "Finding  /Users/dirceusilva/Documentos/BaseDados/covers32k_slices_ref/Stone_Cold_Crazy/metallica+Live_Shit_Binge_And_Purge_Disc_3_+09-Stone_Cold_Crazy.wav\n"
     ]
    },
    {
     "data": {
      "application/javascript": [
       "\n",
       "            setTimeout(function() {\n",
       "                var nbb_cell_id = 14;\n",
       "                var nbb_unformatted_code = \"ans = []\\nfor file in slices[:10]:\\n    ans.append(search(file))\";\n",
       "                var nbb_formatted_code = \"ans = []\\nfor file in slices[:10]:\\n    ans.append(search(file))\";\n",
       "                var nbb_cells = Jupyter.notebook.get_cells();\n",
       "                for (var i = 0; i < nbb_cells.length; ++i) {\n",
       "                    if (nbb_cells[i].input_prompt_number == nbb_cell_id) {\n",
       "                        if (nbb_cells[i].get_text() == nbb_unformatted_code) {\n",
       "                             nbb_cells[i].set_text(nbb_formatted_code);\n",
       "                        }\n",
       "                        break;\n",
       "                    }\n",
       "                }\n",
       "            }, 500);\n",
       "            "
      ],
      "text/plain": [
       "<IPython.core.display.Javascript object>"
      ]
     },
     "metadata": {},
     "output_type": "display_data"
    }
   ],
   "source": [
    "ans = []\n",
    "for file in slices[:10]:\n",
    "    ans.append(search(file))"
   ]
  },
  {
   "cell_type": "code",
   "execution_count": 19,
   "metadata": {
    "scrolled": true
   },
   "outputs": [
    {
     "data": {
      "text/plain": [
       "('/Users/dirceusilva/Documentos/BaseDados/covers32k_slices_ref/We_Can_Work_It_Out/beatles+1+13-We_Can_Work_It_Out.wav',\n",
       " [(4803, 'beatles+1+13-We_Can_Work_It_Out'),\n",
       "  (20310, 'neil_diamond+Hot_August_Night_Disc_1+10-Red_Red_Wine'),\n",
       "  (20427, 'robert_palmer+Riptide+03-Addicted_To_Love'),\n",
       "  (20528, 'deep_purple+Nobody_s_Perfect_Disc_2_2_+07-Hush'),\n",
       "  (20600, 'aretha_franklin+Aretha_Now+04-Night_Time_Is_The_Right_Time'),\n",
       "  (20635, 'al_green+Anthology+39-Take_Me_To_The_River'),\n",
       "  (20649, 'fleetwood_mac+Rumours+11-Gold_Dust_Woman'),\n",
       "  (20659, 'leann_rimes+Sittin_On_Top_Of_The_World+15-Purple_Rain'),\n",
       "  (20687, 'elliott_smith+Either_Or+04-Between_The_Bars'),\n",
       "  (20709, 'creedence_clearwater_revival+Live_in_Europe+08-Lodi')])"
      ]
     },
     "execution_count": 19,
     "metadata": {},
     "output_type": "execute_result"
    },
    {
     "data": {
      "application/javascript": [
       "\n",
       "            setTimeout(function() {\n",
       "                var nbb_cell_id = 19;\n",
       "                var nbb_unformatted_code = \"ans[8]\";\n",
       "                var nbb_formatted_code = \"ans[8]\";\n",
       "                var nbb_cells = Jupyter.notebook.get_cells();\n",
       "                for (var i = 0; i < nbb_cells.length; ++i) {\n",
       "                    if (nbb_cells[i].input_prompt_number == nbb_cell_id) {\n",
       "                        if (nbb_cells[i].get_text() == nbb_unformatted_code) {\n",
       "                             nbb_cells[i].set_text(nbb_formatted_code);\n",
       "                        }\n",
       "                        break;\n",
       "                    }\n",
       "                }\n",
       "            }, 500);\n",
       "            "
      ],
      "text/plain": [
       "<IPython.core.display.Javascript object>"
      ]
     },
     "metadata": {},
     "output_type": "display_data"
    }
   ],
   "source": [
    "ans[8]"
   ]
  },
  {
   "cell_type": "code",
   "execution_count": 20,
   "metadata": {
    "scrolled": true
   },
   "outputs": [
    {
     "data": {
      "application/javascript": [
       "\n",
       "            setTimeout(function() {\n",
       "                var nbb_cell_id = 20;\n",
       "                var nbb_unformatted_code = \"from collections import Counter\\n\\ncounter = Counter([a[0].find(a[1][0][1]) != -1 for a in ans])\";\n",
       "                var nbb_formatted_code = \"from collections import Counter\\n\\ncounter = Counter([a[0].find(a[1][0][1]) != -1 for a in ans])\";\n",
       "                var nbb_cells = Jupyter.notebook.get_cells();\n",
       "                for (var i = 0; i < nbb_cells.length; ++i) {\n",
       "                    if (nbb_cells[i].input_prompt_number == nbb_cell_id) {\n",
       "                        if (nbb_cells[i].get_text() == nbb_unformatted_code) {\n",
       "                             nbb_cells[i].set_text(nbb_formatted_code);\n",
       "                        }\n",
       "                        break;\n",
       "                    }\n",
       "                }\n",
       "            }, 500);\n",
       "            "
      ],
      "text/plain": [
       "<IPython.core.display.Javascript object>"
      ]
     },
     "metadata": {},
     "output_type": "display_data"
    }
   ],
   "source": [
    "from collections import Counter\n",
    "\n",
    "counter = Counter([a[0].find(a[1][0][1]) != -1 for a in ans])"
   ]
  },
  {
   "cell_type": "code",
   "execution_count": 21,
   "metadata": {},
   "outputs": [
    {
     "data": {
      "text/plain": [
       "1.0"
      ]
     },
     "execution_count": 21,
     "metadata": {},
     "output_type": "execute_result"
    },
    {
     "data": {
      "application/javascript": [
       "\n",
       "            setTimeout(function() {\n",
       "                var nbb_cell_id = 21;\n",
       "                var nbb_unformatted_code = \"1 - counter[False] / counter[True]\";\n",
       "                var nbb_formatted_code = \"1 - counter[False] / counter[True]\";\n",
       "                var nbb_cells = Jupyter.notebook.get_cells();\n",
       "                for (var i = 0; i < nbb_cells.length; ++i) {\n",
       "                    if (nbb_cells[i].input_prompt_number == nbb_cell_id) {\n",
       "                        if (nbb_cells[i].get_text() == nbb_unformatted_code) {\n",
       "                             nbb_cells[i].set_text(nbb_formatted_code);\n",
       "                        }\n",
       "                        break;\n",
       "                    }\n",
       "                }\n",
       "            }, 500);\n",
       "            "
      ],
      "text/plain": [
       "<IPython.core.display.Javascript object>"
      ]
     },
     "metadata": {},
     "output_type": "display_data"
    }
   ],
   "source": [
    "1 - counter[False] / counter[True]"
   ]
  },
  {
   "cell_type": "code",
   "execution_count": 23,
   "metadata": {},
   "outputs": [
    {
     "data": {
      "application/javascript": [
       "\n",
       "            setTimeout(function() {\n",
       "                var nbb_cell_id = 23;\n",
       "                var nbb_unformatted_code = \"import librosa\\n\\nx = np.random.rand(1000, 5)\\n\\ny = librosa.util.frame(x, frame_length=10, hop_length=5, axis=0)\";\n",
       "                var nbb_formatted_code = \"import librosa\\n\\nx = np.random.rand(1000, 5)\\n\\ny = librosa.util.frame(x, frame_length=10, hop_length=5, axis=0)\";\n",
       "                var nbb_cells = Jupyter.notebook.get_cells();\n",
       "                for (var i = 0; i < nbb_cells.length; ++i) {\n",
       "                    if (nbb_cells[i].input_prompt_number == nbb_cell_id) {\n",
       "                        if (nbb_cells[i].get_text() == nbb_unformatted_code) {\n",
       "                             nbb_cells[i].set_text(nbb_formatted_code);\n",
       "                        }\n",
       "                        break;\n",
       "                    }\n",
       "                }\n",
       "            }, 500);\n",
       "            "
      ],
      "text/plain": [
       "<IPython.core.display.Javascript object>"
      ]
     },
     "metadata": {},
     "output_type": "display_data"
    }
   ],
   "source": [
    "import librosa\n",
    "\n",
    "x = np.random.rand(1000, 5)\n",
    "\n",
    "y = librosa.util.frame(x, frame_length=10, hop_length=5, axis=0)"
   ]
  },
  {
   "cell_type": "code",
   "execution_count": 24,
   "metadata": {},
   "outputs": [
    {
     "name": "stdout",
     "output_type": "stream",
     "text": [
      "(199, 10, 5)\n"
     ]
    },
    {
     "data": {
      "application/javascript": [
       "\n",
       "            setTimeout(function() {\n",
       "                var nbb_cell_id = 24;\n",
       "                var nbb_unformatted_code = \"print(y.shape)\";\n",
       "                var nbb_formatted_code = \"print(y.shape)\";\n",
       "                var nbb_cells = Jupyter.notebook.get_cells();\n",
       "                for (var i = 0; i < nbb_cells.length; ++i) {\n",
       "                    if (nbb_cells[i].input_prompt_number == nbb_cell_id) {\n",
       "                        if (nbb_cells[i].get_text() == nbb_unformatted_code) {\n",
       "                             nbb_cells[i].set_text(nbb_formatted_code);\n",
       "                        }\n",
       "                        break;\n",
       "                    }\n",
       "                }\n",
       "            }, 500);\n",
       "            "
      ],
      "text/plain": [
       "<IPython.core.display.Javascript object>"
      ]
     },
     "metadata": {},
     "output_type": "display_data"
    }
   ],
   "source": [
    "print(y.shape)"
   ]
  },
  {
   "cell_type": "code",
   "execution_count": 25,
   "metadata": {},
   "outputs": [
    {
     "name": "stdout",
     "output_type": "stream",
     "text": [
      "[[0.47232994 0.42151262 0.10902632 0.55928467 0.81992219]\n",
      " [0.03373441 0.26218802 0.66235769 0.31518655 0.02571327]\n",
      " [0.40397618 0.52122604 0.9929573  0.23798788 0.40833402]\n",
      " [0.27766876 0.4412011  0.05083741 0.45152137 0.11092971]\n",
      " [0.19508237 0.38034507 0.20492677 0.87199822 0.22602431]\n",
      " [0.23583441 0.21945859 0.01420484 0.28175229 0.23511873]\n",
      " [0.80265665 0.23178462 0.71104553 0.17198997 0.44430012]\n",
      " [0.56886534 0.34502748 0.47664881 0.33845634 0.19438857]\n",
      " [0.43440421 0.10163655 0.91687568 0.46123346 0.35794896]\n",
      " [0.91895267 0.04768644 0.31453359 0.56907759 0.6363371 ]]\n"
     ]
    },
    {
     "data": {
      "application/javascript": [
       "\n",
       "            setTimeout(function() {\n",
       "                var nbb_cell_id = 25;\n",
       "                var nbb_unformatted_code = \"print(x[:10,:])\";\n",
       "                var nbb_formatted_code = \"print(x[:10, :])\";\n",
       "                var nbb_cells = Jupyter.notebook.get_cells();\n",
       "                for (var i = 0; i < nbb_cells.length; ++i) {\n",
       "                    if (nbb_cells[i].input_prompt_number == nbb_cell_id) {\n",
       "                        if (nbb_cells[i].get_text() == nbb_unformatted_code) {\n",
       "                             nbb_cells[i].set_text(nbb_formatted_code);\n",
       "                        }\n",
       "                        break;\n",
       "                    }\n",
       "                }\n",
       "            }, 500);\n",
       "            "
      ],
      "text/plain": [
       "<IPython.core.display.Javascript object>"
      ]
     },
     "metadata": {},
     "output_type": "display_data"
    }
   ],
   "source": [
    "print(x[:10, :])"
   ]
  },
  {
   "cell_type": "code",
   "execution_count": 27,
   "metadata": {},
   "outputs": [
    {
     "data": {
      "text/plain": [
       "array([[0.47232994, 0.42151262, 0.10902632, 0.55928467, 0.81992219],\n",
       "       [0.03373441, 0.26218802, 0.66235769, 0.31518655, 0.02571327],\n",
       "       [0.40397618, 0.52122604, 0.9929573 , 0.23798788, 0.40833402],\n",
       "       [0.27766876, 0.4412011 , 0.05083741, 0.45152137, 0.11092971],\n",
       "       [0.19508237, 0.38034507, 0.20492677, 0.87199822, 0.22602431],\n",
       "       [0.23583441, 0.21945859, 0.01420484, 0.28175229, 0.23511873],\n",
       "       [0.80265665, 0.23178462, 0.71104553, 0.17198997, 0.44430012],\n",
       "       [0.56886534, 0.34502748, 0.47664881, 0.33845634, 0.19438857],\n",
       "       [0.43440421, 0.10163655, 0.91687568, 0.46123346, 0.35794896],\n",
       "       [0.91895267, 0.04768644, 0.31453359, 0.56907759, 0.6363371 ]])"
      ]
     },
     "execution_count": 27,
     "metadata": {},
     "output_type": "execute_result"
    },
    {
     "data": {
      "application/javascript": [
       "\n",
       "            setTimeout(function() {\n",
       "                var nbb_cell_id = 27;\n",
       "                var nbb_unformatted_code = \"y[0, :]\";\n",
       "                var nbb_formatted_code = \"y[0, :]\";\n",
       "                var nbb_cells = Jupyter.notebook.get_cells();\n",
       "                for (var i = 0; i < nbb_cells.length; ++i) {\n",
       "                    if (nbb_cells[i].input_prompt_number == nbb_cell_id) {\n",
       "                        if (nbb_cells[i].get_text() == nbb_unformatted_code) {\n",
       "                             nbb_cells[i].set_text(nbb_formatted_code);\n",
       "                        }\n",
       "                        break;\n",
       "                    }\n",
       "                }\n",
       "            }, 500);\n",
       "            "
      ],
      "text/plain": [
       "<IPython.core.display.Javascript object>"
      ]
     },
     "metadata": {},
     "output_type": "display_data"
    }
   ],
   "source": [
    "y[0, :]"
   ]
  },
  {
   "cell_type": "code",
   "execution_count": 46,
   "metadata": {},
   "outputs": [
    {
     "data": {
      "application/javascript": [
       "\n",
       "            setTimeout(function() {\n",
       "                var nbb_cell_id = 46;\n",
       "                var nbb_unformatted_code = \"import torch\\n\\n\\ndef pytorch_frame(input, frame_length, hop_length, axis=-1):\\n\\n    x = input.numpy()\\n    x_new = librosa.util.frame(x, frame_length, hop_length, axis=axis)\\n\\n    return torch.from_numpy(x_new.copy())\";\n",
       "                var nbb_formatted_code = \"import torch\\n\\n\\ndef pytorch_frame(input, frame_length, hop_length, axis=-1):\\n\\n    x = input.numpy()\\n    x_new = librosa.util.frame(x, frame_length, hop_length, axis=axis)\\n\\n    return torch.from_numpy(x_new.copy())\";\n",
       "                var nbb_cells = Jupyter.notebook.get_cells();\n",
       "                for (var i = 0; i < nbb_cells.length; ++i) {\n",
       "                    if (nbb_cells[i].input_prompt_number == nbb_cell_id) {\n",
       "                        if (nbb_cells[i].get_text() == nbb_unformatted_code) {\n",
       "                             nbb_cells[i].set_text(nbb_formatted_code);\n",
       "                        }\n",
       "                        break;\n",
       "                    }\n",
       "                }\n",
       "            }, 500);\n",
       "            "
      ],
      "text/plain": [
       "<IPython.core.display.Javascript object>"
      ]
     },
     "metadata": {},
     "output_type": "display_data"
    }
   ],
   "source": [
    "import torch\n",
    "\n",
    "\n",
    "def pytorch_frame(input, frame_length, hop_length, axis=-1):\n",
    "\n",
    "    x = input.numpy()\n",
    "    x_new = librosa.util.frame(x, frame_length, hop_length, axis=axis)\n",
    "\n",
    "    return torch.from_numpy(x_new.copy())"
   ]
  },
  {
   "cell_type": "code",
   "execution_count": 47,
   "metadata": {},
   "outputs": [
    {
     "name": "stdout",
     "output_type": "stream",
     "text": [
      "(5, 1)\n"
     ]
    },
    {
     "data": {
      "application/javascript": [
       "\n",
       "            setTimeout(function() {\n",
       "                var nbb_cell_id = 47;\n",
       "                var nbb_unformatted_code = \"x = torch.randn(1000, 5)\\nprint(x.stride())\\ny = pytorch_frame(x, frame_length=10, hop_length=5, axis=0)\";\n",
       "                var nbb_formatted_code = \"x = torch.randn(1000, 5)\\nprint(x.stride())\\ny = pytorch_frame(x, frame_length=10, hop_length=5, axis=0)\";\n",
       "                var nbb_cells = Jupyter.notebook.get_cells();\n",
       "                for (var i = 0; i < nbb_cells.length; ++i) {\n",
       "                    if (nbb_cells[i].input_prompt_number == nbb_cell_id) {\n",
       "                        if (nbb_cells[i].get_text() == nbb_unformatted_code) {\n",
       "                             nbb_cells[i].set_text(nbb_formatted_code);\n",
       "                        }\n",
       "                        break;\n",
       "                    }\n",
       "                }\n",
       "            }, 500);\n",
       "            "
      ],
      "text/plain": [
       "<IPython.core.display.Javascript object>"
      ]
     },
     "metadata": {},
     "output_type": "display_data"
    }
   ],
   "source": [
    "x = torch.randn(1000, 5)\n",
    "print(x.stride())\n",
    "y = pytorch_frame(x, frame_length=10, hop_length=5, axis=0)"
   ]
  },
  {
   "cell_type": "code",
   "execution_count": 50,
   "metadata": {},
   "outputs": [
    {
     "name": "stdout",
     "output_type": "stream",
     "text": [
      "torch.Size([199, 10, 5])\n"
     ]
    },
    {
     "data": {
      "application/javascript": [
       "\n",
       "            setTimeout(function() {\n",
       "                var nbb_cell_id = 50;\n",
       "                var nbb_unformatted_code = \"print(y.size())\";\n",
       "                var nbb_formatted_code = \"print(y.size())\";\n",
       "                var nbb_cells = Jupyter.notebook.get_cells();\n",
       "                for (var i = 0; i < nbb_cells.length; ++i) {\n",
       "                    if (nbb_cells[i].input_prompt_number == nbb_cell_id) {\n",
       "                        if (nbb_cells[i].get_text() == nbb_unformatted_code) {\n",
       "                             nbb_cells[i].set_text(nbb_formatted_code);\n",
       "                        }\n",
       "                        break;\n",
       "                    }\n",
       "                }\n",
       "            }, 500);\n",
       "            "
      ],
      "text/plain": [
       "<IPython.core.display.Javascript object>"
      ]
     },
     "metadata": {},
     "output_type": "display_data"
    }
   ],
   "source": [
    "print(y.size())"
   ]
  },
  {
   "cell_type": "code",
   "execution_count": 54,
   "metadata": {},
   "outputs": [
    {
     "name": "stdout",
     "output_type": "stream",
     "text": [
      "[[0.07274211 0.24927793 0.20696887 0.48743938]\n",
      " [0.02681303 0.82081648 0.81260615 0.01980993]\n",
      " [0.52373932 0.1624667  0.08829304 0.99925747]\n",
      " [0.04166507 0.46588077 0.27789486 0.58503413]\n",
      " [0.44572805 0.2432424  0.89033617 0.1785444 ]\n",
      " [0.06742982 0.9515661  0.10781026 0.3609887 ]\n",
      " [0.29184264 0.8202929  0.29665615 0.29603725]\n",
      " [0.22691615 0.5909555  0.46399433 0.54055895]\n",
      " [0.6374273  0.33687573 0.1398456  0.46480026]\n",
      " [0.32050642 0.44543203 0.21093994 0.97701301]\n",
      " [0.30617086 0.48122391 0.81249487 0.27670322]\n",
      " [0.49412329 0.90367902 0.60471536 0.87175465]\n",
      " [0.63116557 0.24138998 0.68012792 0.2886952 ]\n",
      " [0.89875889 0.36710645 0.67106025 0.41076081]\n",
      " [0.04340389 0.99839803 0.9053558  0.32410142]\n",
      " [0.89399143 0.22278337 0.63229684 0.86154252]\n",
      " [0.13776351 0.81836139 0.59182075 0.17924797]\n",
      " [0.87084809 0.01596337 0.60583551 0.48269519]\n",
      " [0.85364144 0.84849645 0.73926594 0.9300396 ]\n",
      " [0.66553214 0.04913827 0.07752172 0.29267447]]\n",
      "[[0.22213752 0.38833685 0.45521982 0.45401706]\n",
      " [0.30882447 0.62902445 0.24384926 0.52787963]\n",
      " [0.4747245  0.59835948 0.73475084 0.43440306]\n",
      " [0.68435532 0.39094857 0.52934815 0.54923995]]\n"
     ]
    },
    {
     "data": {
      "application/javascript": [
       "\n",
       "            setTimeout(function() {\n",
       "                var nbb_cell_id = 54;\n",
       "                var nbb_unformatted_code = \"from skimage.measure import block_reduce\\n\\nx = np.random.rand(20, 4)\\nx_1 = block_reduce(x, block_size=(5, 1), func=np.mean)\\nprint(x)\\nprint(x_1)\";\n",
       "                var nbb_formatted_code = \"from skimage.measure import block_reduce\\n\\nx = np.random.rand(20, 4)\\nx_1 = block_reduce(x, block_size=(5, 1), func=np.mean)\\nprint(x)\\nprint(x_1)\";\n",
       "                var nbb_cells = Jupyter.notebook.get_cells();\n",
       "                for (var i = 0; i < nbb_cells.length; ++i) {\n",
       "                    if (nbb_cells[i].input_prompt_number == nbb_cell_id) {\n",
       "                        if (nbb_cells[i].get_text() == nbb_unformatted_code) {\n",
       "                             nbb_cells[i].set_text(nbb_formatted_code);\n",
       "                        }\n",
       "                        break;\n",
       "                    }\n",
       "                }\n",
       "            }, 500);\n",
       "            "
      ],
      "text/plain": [
       "<IPython.core.display.Javascript object>"
      ]
     },
     "metadata": {},
     "output_type": "display_data"
    }
   ],
   "source": [
    "from skimage.measure import block_reduce\n",
    "\n",
    "x = np.random.rand(20, 4)\n",
    "x_1 = block_reduce(x, block_size=(5, 1), func=np.mean)\n",
    "print(x)\n",
    "print(x_1)"
   ]
  },
  {
   "cell_type": "code",
   "execution_count": 53,
   "metadata": {
    "scrolled": true
   },
   "outputs": [
    {
     "name": "stdout",
     "output_type": "stream",
     "text": [
      "Collecting scikit-image\n",
      "  Downloading scikit_image-0.19.1-cp38-cp38-macosx_10_13_x86_64.whl (13.1 MB)\n",
      "     |████████████████████████████████| 13.1 MB 1.8 MB/s            \n",
      "\u001b[?25hRequirement already satisfied: imageio>=2.4.1 in /Users/dirceusilva/.pyenv/versions/3.8.9/envs/audio/lib/python3.8/site-packages (from scikit-image) (2.9.0)\n",
      "Requirement already satisfied: scipy>=1.4.1 in /Users/dirceusilva/.pyenv/versions/3.8.9/envs/audio/lib/python3.8/site-packages (from scikit-image) (1.6.2)\n",
      "Requirement already satisfied: pillow!=7.1.0,!=7.1.1,!=8.3.0,>=6.1.0 in /Users/dirceusilva/.pyenv/versions/3.8.9/envs/audio/lib/python3.8/site-packages (from scikit-image) (8.2.0)\n",
      "Requirement already satisfied: packaging>=20.0 in /Users/dirceusilva/.pyenv/versions/3.8.9/envs/audio/lib/python3.8/site-packages (from scikit-image) (20.9)\n",
      "Collecting networkx>=2.2\n",
      "  Downloading networkx-2.6.3-py3-none-any.whl (1.9 MB)\n",
      "     |████████████████████████████████| 1.9 MB 1.6 MB/s            \n",
      "\u001b[?25hCollecting tifffile>=2019.7.26\n",
      "  Downloading tifffile-2021.11.2-py3-none-any.whl (178 kB)\n",
      "     |████████████████████████████████| 178 kB 1.6 MB/s            \n",
      "\u001b[?25hCollecting PyWavelets>=1.1.1\n",
      "  Downloading PyWavelets-1.2.0-cp38-cp38-macosx_10_13_x86_64.whl (4.3 MB)\n",
      "     |████████████████████████████████| 4.3 MB 1.9 MB/s            \n",
      "\u001b[?25hRequirement already satisfied: numpy>=1.17.0 in /Users/dirceusilva/.pyenv/versions/3.8.9/envs/audio/lib/python3.8/site-packages (from scikit-image) (1.21.3)\n",
      "Requirement already satisfied: pyparsing>=2.0.2 in /Users/dirceusilva/.pyenv/versions/3.8.9/envs/audio/lib/python3.8/site-packages (from packaging>=20.0->scikit-image) (2.4.7)\n",
      "Installing collected packages: tifffile, PyWavelets, networkx, scikit-image\n",
      "Successfully installed PyWavelets-1.2.0 networkx-2.6.3 scikit-image-0.19.1 tifffile-2021.11.2\n"
     ]
    },
    {
     "data": {
      "application/javascript": [
       "\n",
       "            setTimeout(function() {\n",
       "                var nbb_cell_id = 53;\n",
       "                var nbb_unformatted_code = \"!pip install scikit-image\";\n",
       "                var nbb_formatted_code = \"!pip install scikit-image\";\n",
       "                var nbb_cells = Jupyter.notebook.get_cells();\n",
       "                for (var i = 0; i < nbb_cells.length; ++i) {\n",
       "                    if (nbb_cells[i].input_prompt_number == nbb_cell_id) {\n",
       "                        if (nbb_cells[i].get_text() == nbb_unformatted_code) {\n",
       "                             nbb_cells[i].set_text(nbb_formatted_code);\n",
       "                        }\n",
       "                        break;\n",
       "                    }\n",
       "                }\n",
       "            }, 500);\n",
       "            "
      ],
      "text/plain": [
       "<IPython.core.display.Javascript object>"
      ]
     },
     "metadata": {},
     "output_type": "display_data"
    }
   ],
   "source": [
    "!pip install scikit-image"
   ]
  },
  {
   "cell_type": "code",
   "execution_count": 55,
   "metadata": {},
   "outputs": [
    {
     "data": {
      "application/javascript": [
       "\n",
       "            setTimeout(function() {\n",
       "                var nbb_cell_id = 55;\n",
       "                var nbb_unformatted_code = \"x = np.random.rand(20,1,4,5)\";\n",
       "                var nbb_formatted_code = \"x = np.random.rand(20, 1, 4, 5)\";\n",
       "                var nbb_cells = Jupyter.notebook.get_cells();\n",
       "                for (var i = 0; i < nbb_cells.length; ++i) {\n",
       "                    if (nbb_cells[i].input_prompt_number == nbb_cell_id) {\n",
       "                        if (nbb_cells[i].get_text() == nbb_unformatted_code) {\n",
       "                             nbb_cells[i].set_text(nbb_formatted_code);\n",
       "                        }\n",
       "                        break;\n",
       "                    }\n",
       "                }\n",
       "            }, 500);\n",
       "            "
      ],
      "text/plain": [
       "<IPython.core.display.Javascript object>"
      ]
     },
     "metadata": {},
     "output_type": "display_data"
    }
   ],
   "source": [
    "x = np.random.rand(20, 1, 4, 5)"
   ]
  },
  {
   "cell_type": "code",
   "execution_count": 58,
   "metadata": {},
   "outputs": [
    {
     "data": {
      "application/javascript": [
       "\n",
       "            setTimeout(function() {\n",
       "                var nbb_cell_id = 58;\n",
       "                var nbb_unformatted_code = \"y = np.reshape(x, (4, 5, 1, 4, 5))\";\n",
       "                var nbb_formatted_code = \"y = np.reshape(x, (4, 5, 1, 4, 5))\";\n",
       "                var nbb_cells = Jupyter.notebook.get_cells();\n",
       "                for (var i = 0; i < nbb_cells.length; ++i) {\n",
       "                    if (nbb_cells[i].input_prompt_number == nbb_cell_id) {\n",
       "                        if (nbb_cells[i].get_text() == nbb_unformatted_code) {\n",
       "                             nbb_cells[i].set_text(nbb_formatted_code);\n",
       "                        }\n",
       "                        break;\n",
       "                    }\n",
       "                }\n",
       "            }, 500);\n",
       "            "
      ],
      "text/plain": [
       "<IPython.core.display.Javascript object>"
      ]
     },
     "metadata": {},
     "output_type": "display_data"
    }
   ],
   "source": [
    "y = np.reshape(x, (4, 5, 1, 4, 5))"
   ]
  },
  {
   "cell_type": "code",
   "execution_count": 59,
   "metadata": {},
   "outputs": [
    {
     "data": {
      "text/plain": [
       "(4, 5, 1, 4, 5)"
      ]
     },
     "execution_count": 59,
     "metadata": {},
     "output_type": "execute_result"
    },
    {
     "data": {
      "application/javascript": [
       "\n",
       "            setTimeout(function() {\n",
       "                var nbb_cell_id = 59;\n",
       "                var nbb_unformatted_code = \"y.shape\";\n",
       "                var nbb_formatted_code = \"y.shape\";\n",
       "                var nbb_cells = Jupyter.notebook.get_cells();\n",
       "                for (var i = 0; i < nbb_cells.length; ++i) {\n",
       "                    if (nbb_cells[i].input_prompt_number == nbb_cell_id) {\n",
       "                        if (nbb_cells[i].get_text() == nbb_unformatted_code) {\n",
       "                             nbb_cells[i].set_text(nbb_formatted_code);\n",
       "                        }\n",
       "                        break;\n",
       "                    }\n",
       "                }\n",
       "            }, 500);\n",
       "            "
      ],
      "text/plain": [
       "<IPython.core.display.Javascript object>"
      ]
     },
     "metadata": {},
     "output_type": "display_data"
    }
   ],
   "source": [
    "y.shape"
   ]
  },
  {
   "cell_type": "code",
   "execution_count": 63,
   "metadata": {},
   "outputs": [
    {
     "name": "stdout",
     "output_type": "stream",
     "text": [
      "4 1\n"
     ]
    },
    {
     "data": {
      "application/javascript": [
       "\n",
       "            setTimeout(function() {\n",
       "                var nbb_cell_id = 63;\n",
       "                var nbb_unformatted_code = \"q, mod = divmod(21, 5)\\nprint(q, mod)\";\n",
       "                var nbb_formatted_code = \"q, mod = divmod(21, 5)\\nprint(q, mod)\";\n",
       "                var nbb_cells = Jupyter.notebook.get_cells();\n",
       "                for (var i = 0; i < nbb_cells.length; ++i) {\n",
       "                    if (nbb_cells[i].input_prompt_number == nbb_cell_id) {\n",
       "                        if (nbb_cells[i].get_text() == nbb_unformatted_code) {\n",
       "                             nbb_cells[i].set_text(nbb_formatted_code);\n",
       "                        }\n",
       "                        break;\n",
       "                    }\n",
       "                }\n",
       "            }, 500);\n",
       "            "
      ],
      "text/plain": [
       "<IPython.core.display.Javascript object>"
      ]
     },
     "metadata": {},
     "output_type": "display_data"
    }
   ],
   "source": [
    "q, mod = divmod(21, 5)\n",
    "print(q, mod)"
   ]
  },
  {
   "cell_type": "code",
   "execution_count": null,
   "metadata": {},
   "outputs": [],
   "source": []
  }
 ],
 "metadata": {
  "kernelspec": {
   "display_name": "Python 3",
   "language": "python",
   "name": "python3"
  },
  "language_info": {
   "codemirror_mode": {
    "name": "ipython",
    "version": 3
   },
   "file_extension": ".py",
   "mimetype": "text/x-python",
   "name": "python",
   "nbconvert_exporter": "python",
   "pygments_lexer": "ipython3",
   "version": "3.8.9"
  }
 },
 "nbformat": 4,
 "nbformat_minor": 4
}
