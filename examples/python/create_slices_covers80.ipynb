{
 "cells": [
  {
   "cell_type": "code",
   "execution_count": 4,
   "id": "82cf6c03",
   "metadata": {},
   "outputs": [],
   "source": [
    "import librosa\n",
    "import numpy as np\n",
    "import glob\n"
   ]
  },
  {
   "cell_type": "code",
   "execution_count": 6,
   "id": "57f6f1d2",
   "metadata": {},
   "outputs": [],
   "source": [
    "# Covers 80\n",
    "# http://labrosa.ee.columbia.edu/projects/coversongs/covers80/\n",
    "\n",
    "list1_files = \"/Users/dirceusilva/Documentos/BaseDados/covers32k/list1.list\"\n",
    "list2_files = \"/Users/dirceusilva/Documentos/BaseDados/covers32k/list2.list\"\n",
    "\n",
    "with open(list1_files) as f:\n",
    "    list1 = f.read()\n",
    "    #print(list1)\n",
    "\n",
    "with open(list2_files) as f:\n",
    "    list2 = f.read()\n",
    "    #print(list2)\n",
    "    "
   ]
  },
  {
   "cell_type": "code",
   "execution_count": null,
   "id": "81a271c9",
   "metadata": {},
   "outputs": [],
   "source": [
    "diraudios = \"/Users/dirceusilva/Documentos/BaseDados/covers32k\"\n",
    "dirout = \"/Users/dirceusilva/Documentos/BaseDados/covers32k_slices\"\n",
    "slice_time = 6.0 # 6 seconds"
   ]
  },
  {
   "cell_type": "code",
   "execution_count": null,
   "id": "873aeef5",
   "metadata": {},
   "outputs": [],
   "source": []
  }
 ],
 "metadata": {
  "kernelspec": {
   "display_name": "Python 3",
   "language": "python",
   "name": "python3"
  },
  "language_info": {
   "codemirror_mode": {
    "name": "ipython",
    "version": 3
   },
   "file_extension": ".py",
   "mimetype": "text/x-python",
   "name": "python",
   "nbconvert_exporter": "python",
   "pygments_lexer": "ipython3",
   "version": "3.8.9"
  }
 },
 "nbformat": 4,
 "nbformat_minor": 5
}
