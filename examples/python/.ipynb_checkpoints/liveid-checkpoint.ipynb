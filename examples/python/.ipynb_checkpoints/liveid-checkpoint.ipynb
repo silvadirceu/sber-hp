{
 "cells": [
  {
   "cell_type": "code",
   "execution_count": 1,
   "metadata": {
    "scrolled": true
   },
   "outputs": [
    {
     "data": {
      "application/javascript": [
       "\n",
       "            setTimeout(function() {\n",
       "                var nbb_cell_id = 1;\n",
       "                var nbb_unformatted_code = \"%load_ext nb_black\\n%load_ext Cython\";\n",
       "                var nbb_formatted_code = \"%load_ext nb_black\\n%load_ext Cython\";\n",
       "                var nbb_cells = Jupyter.notebook.get_cells();\n",
       "                for (var i = 0; i < nbb_cells.length; ++i) {\n",
       "                    if (nbb_cells[i].input_prompt_number == nbb_cell_id) {\n",
       "                        if (nbb_cells[i].get_text() == nbb_unformatted_code) {\n",
       "                             nbb_cells[i].set_text(nbb_formatted_code);\n",
       "                        }\n",
       "                        break;\n",
       "                    }\n",
       "                }\n",
       "            }, 500);\n",
       "            "
      ],
      "text/plain": [
       "<IPython.core.display.Javascript object>"
      ]
     },
     "metadata": {},
     "output_type": "display_data"
    }
   ],
   "source": [
    "%load_ext nb_black\n",
    "%load_ext Cython"
   ]
  },
  {
   "cell_type": "code",
   "execution_count": 2,
   "metadata": {},
   "outputs": [
    {
     "data": {
      "application/javascript": [
       "\n",
       "            setTimeout(function() {\n",
       "                var nbb_cell_id = 2;\n",
       "                var nbb_unformatted_code = \"%%cython\\n\\nfrom pyhpfw import ParallelCollector\\nimport glob\\nimport pickle\\nimport numpy as np\\ncimport numpy as np\\ncimport cython\\nfrom libc.stdint cimport uint64_t\\n\\ncdef extern int __builtin_popcountll(unsigned long long) nogil\\n        \\n@cython.boundscheck(False)\\n@cython.wraparound(False)\\ncdef unsigned long long _xor(uint64_t[:] array1, uint64_t[:] array2) nogil:\\n    cdef int i\\n    cdef unsigned long long cnt = 0\\n    for i in xrange(len(array1)):\\n        cnt += __builtin_popcountll(array1[i] ^ array2[i])\\n    return cnt\\n\\n@cython.boundscheck(False)\\n@cython.wraparound(False)\\ncdef unsigned long long _match_to_ref(uint64_t[:] query, uint64_t[:] ref) nogil:\\n    cdef unsigned long long bestDistance = 4294967294\\n    cdef int bestIndex = 0\\n    cdef int k = len(query)\\n    cdef int n = len(ref)\\n    \\n    cdef int startCol\\n    cdef int endCol\\n    cdef unsigned long long distance\\n    for i in range(n - k + 1):\\n        startCol = i\\n        endCol = startCol + k - 1\\n        distance = _xor(query, ref[startCol : endCol + 1])\\n\\n        if distance < bestDistance:\\n            bestDistance = distance\\n            bestIndex = i\\n\\n    return bestDistance\\n\\ndef match_to_ref(query, ref):\\n    return _match_to_ref(query, ref)\\n\\ndef fast_xor(array1, array2):\\n    return _xor(array1, array2)\";\n",
       "                var nbb_formatted_code = \"%%cython\\n\\nfrom pyhpfw import ParallelCollector\\nimport glob\\nimport pickle\\nimport numpy as np\\ncimport numpy as np\\ncimport cython\\nfrom libc.stdint cimport uint64_t\\n\\ncdef extern int __builtin_popcountll(unsigned long long) nogil\\n        \\n@cython.boundscheck(False)\\n@cython.wraparound(False)\\ncdef unsigned long long _xor(uint64_t[:] array1, uint64_t[:] array2) nogil:\\n    cdef int i\\n    cdef unsigned long long cnt = 0\\n    for i in xrange(len(array1)):\\n        cnt += __builtin_popcountll(array1[i] ^ array2[i])\\n    return cnt\\n\\n@cython.boundscheck(False)\\n@cython.wraparound(False)\\ncdef unsigned long long _match_to_ref(uint64_t[:] query, uint64_t[:] ref) nogil:\\n    cdef unsigned long long bestDistance = 4294967294\\n    cdef int bestIndex = 0\\n    cdef int k = len(query)\\n    cdef int n = len(ref)\\n    \\n    cdef int startCol\\n    cdef int endCol\\n    cdef unsigned long long distance\\n    for i in range(n - k + 1):\\n        startCol = i\\n        endCol = startCol + k - 1\\n        distance = _xor(query, ref[startCol : endCol + 1])\\n\\n        if distance < bestDistance:\\n            bestDistance = distance\\n            bestIndex = i\\n\\n    return bestDistance\\n\\ndef match_to_ref(query, ref):\\n    return _match_to_ref(query, ref)\\n\\ndef fast_xor(array1, array2):\\n    return _xor(array1, array2)\";\n",
       "                var nbb_cells = Jupyter.notebook.get_cells();\n",
       "                for (var i = 0; i < nbb_cells.length; ++i) {\n",
       "                    if (nbb_cells[i].input_prompt_number == nbb_cell_id) {\n",
       "                        if (nbb_cells[i].get_text() == nbb_unformatted_code) {\n",
       "                             nbb_cells[i].set_text(nbb_formatted_code);\n",
       "                        }\n",
       "                        break;\n",
       "                    }\n",
       "                }\n",
       "            }, 500);\n",
       "            "
      ],
      "text/plain": [
       "<IPython.core.display.Javascript object>"
      ]
     },
     "metadata": {},
     "output_type": "display_data"
    }
   ],
   "source": [
    "%%cython\n",
    "\n",
    "from pyhpfw import ParallelCollector\n",
    "import glob\n",
    "import pickle\n",
    "import numpy as np\n",
    "cimport numpy as np\n",
    "cimport cython\n",
    "from libc.stdint cimport uint64_t\n",
    "\n",
    "cdef extern int __builtin_popcountll(unsigned long long) nogil\n",
    "        \n",
    "@cython.boundscheck(False)\n",
    "@cython.wraparound(False)\n",
    "cdef unsigned long long _xor(uint64_t[:] array1, uint64_t[:] array2) nogil:\n",
    "    cdef int i\n",
    "    cdef unsigned long long cnt = 0\n",
    "    for i in xrange(len(array1)):\n",
    "        cnt += __builtin_popcountll(array1[i] ^ array2[i])\n",
    "    return cnt\n",
    "\n",
    "@cython.boundscheck(False)\n",
    "@cython.wraparound(False)\n",
    "cdef unsigned long long _match_to_ref(uint64_t[:] query, uint64_t[:] ref) nogil:\n",
    "    cdef unsigned long long bestDistance = 4294967294\n",
    "    cdef int bestIndex = 0\n",
    "    cdef int k = len(query)\n",
    "    cdef int n = len(ref)\n",
    "    \n",
    "    cdef int startCol\n",
    "    cdef int endCol\n",
    "    cdef unsigned long long distance\n",
    "    for i in range(n - k + 1):\n",
    "        startCol = i\n",
    "        endCol = startCol + k - 1\n",
    "        distance = _xor(query, ref[startCol : endCol + 1])\n",
    "\n",
    "        if distance < bestDistance:\n",
    "            bestDistance = distance\n",
    "            bestIndex = i\n",
    "\n",
    "    return bestDistance\n",
    "\n",
    "def match_to_ref(query, ref):\n",
    "    return _match_to_ref(query, ref)\n",
    "\n",
    "def fast_xor(array1, array2):\n",
    "    return _xor(array1, array2)"
   ]
  },
  {
   "cell_type": "code",
   "execution_count": 3,
   "metadata": {},
   "outputs": [
    {
     "data": {
      "application/javascript": [
       "\n",
       "            setTimeout(function() {\n",
       "                var nbb_cell_id = 3;\n",
       "                var nbb_unformatted_code = \"collector = ParallelCollector()\";\n",
       "                var nbb_formatted_code = \"collector = ParallelCollector()\";\n",
       "                var nbb_cells = Jupyter.notebook.get_cells();\n",
       "                for (var i = 0; i < nbb_cells.length; ++i) {\n",
       "                    if (nbb_cells[i].input_prompt_number == nbb_cell_id) {\n",
       "                        if (nbb_cells[i].get_text() == nbb_unformatted_code) {\n",
       "                             nbb_cells[i].set_text(nbb_formatted_code);\n",
       "                        }\n",
       "                        break;\n",
       "                    }\n",
       "                }\n",
       "            }, 500);\n",
       "            "
      ],
      "text/plain": [
       "<IPython.core.display.Javascript object>"
      ]
     },
     "metadata": {},
     "output_type": "display_data"
    }
   ],
   "source": [
    "collector = ParallelCollector()"
   ]
  },
  {
   "cell_type": "code",
   "execution_count": 53,
   "metadata": {},
   "outputs": [
    {
     "data": {
      "application/javascript": [
       "\n",
       "            setTimeout(function() {\n",
       "                var nbb_cell_id = 53;\n",
       "                var nbb_unformatted_code = \"filenames = glob.glob(\\\"/Users/chingachgook/dev/QtProjects/hpfw/original/*\\\")\";\n",
       "                var nbb_formatted_code = \"filenames = glob.glob(\\\"/Users/chingachgook/dev/QtProjects/hpfw/original/*\\\")\";\n",
       "                var nbb_cells = Jupyter.notebook.get_cells();\n",
       "                for (var i = 0; i < nbb_cells.length; ++i) {\n",
       "                    if (nbb_cells[i].input_prompt_number == nbb_cell_id) {\n",
       "                        if (nbb_cells[i].get_text() == nbb_unformatted_code) {\n",
       "                             nbb_cells[i].set_text(nbb_formatted_code);\n",
       "                        }\n",
       "                        break;\n",
       "                    }\n",
       "                }\n",
       "            }, 500);\n",
       "            "
      ],
      "text/plain": [
       "<IPython.core.display.Javascript object>"
      ]
     },
     "metadata": {},
     "output_type": "display_data"
    }
   ],
   "source": [
    "filenames = glob.glob(\"/Users/chingachgook/dev/QtProjects/hpfw/original/*\")"
   ]
  },
  {
   "cell_type": "code",
   "execution_count": 5,
   "metadata": {},
   "outputs": [
    {
     "data": {
      "application/javascript": [
       "\n",
       "            setTimeout(function() {\n",
       "                var nbb_cell_id = 5;\n",
       "                var nbb_unformatted_code = \"# %%time\\n\\n# hashprints = collector.prepare(filenames)\";\n",
       "                var nbb_formatted_code = \"# %%time\\n\\n# hashprints = collector.prepare(filenames)\";\n",
       "                var nbb_cells = Jupyter.notebook.get_cells();\n",
       "                for (var i = 0; i < nbb_cells.length; ++i) {\n",
       "                    if (nbb_cells[i].input_prompt_number == nbb_cell_id) {\n",
       "                        if (nbb_cells[i].get_text() == nbb_unformatted_code) {\n",
       "                             nbb_cells[i].set_text(nbb_formatted_code);\n",
       "                        }\n",
       "                        break;\n",
       "                    }\n",
       "                }\n",
       "            }, 500);\n",
       "            "
      ],
      "text/plain": [
       "<IPython.core.display.Javascript object>"
      ]
     },
     "metadata": {},
     "output_type": "display_data"
    }
   ],
   "source": [
    "# %%time\n",
    "\n",
    "# hashprints = collector.prepare(filenames)"
   ]
  },
  {
   "cell_type": "code",
   "execution_count": 6,
   "metadata": {},
   "outputs": [
    {
     "data": {
      "application/javascript": [
       "\n",
       "            setTimeout(function() {\n",
       "                var nbb_cell_id = 6;\n",
       "                var nbb_unformatted_code = \"# with open('dump', 'wb') as fp:\\n#     pickle.dump(hashprints, fp)\";\n",
       "                var nbb_formatted_code = \"# with open('dump', 'wb') as fp:\\n#     pickle.dump(hashprints, fp)\";\n",
       "                var nbb_cells = Jupyter.notebook.get_cells();\n",
       "                for (var i = 0; i < nbb_cells.length; ++i) {\n",
       "                    if (nbb_cells[i].input_prompt_number == nbb_cell_id) {\n",
       "                        if (nbb_cells[i].get_text() == nbb_unformatted_code) {\n",
       "                             nbb_cells[i].set_text(nbb_formatted_code);\n",
       "                        }\n",
       "                        break;\n",
       "                    }\n",
       "                }\n",
       "            }, 500);\n",
       "            "
      ],
      "text/plain": [
       "<IPython.core.display.Javascript object>"
      ]
     },
     "metadata": {},
     "output_type": "display_data"
    }
   ],
   "source": [
    "# with open('dump', 'wb') as fp:\n",
    "#     pickle.dump(hashprints, fp)"
   ]
  },
  {
   "cell_type": "code",
   "execution_count": 7,
   "metadata": {},
   "outputs": [
    {
     "data": {
      "application/javascript": [
       "\n",
       "            setTimeout(function() {\n",
       "                var nbb_cell_id = 7;\n",
       "                var nbb_unformatted_code = \"hashprints = []\\nwith open(\\\"dump\\\", \\\"rb\\\") as fp:\\n    hashprints = pickle.load(fp)\";\n",
       "                var nbb_formatted_code = \"hashprints = []\\nwith open(\\\"dump\\\", \\\"rb\\\") as fp:\\n    hashprints = pickle.load(fp)\";\n",
       "                var nbb_cells = Jupyter.notebook.get_cells();\n",
       "                for (var i = 0; i < nbb_cells.length; ++i) {\n",
       "                    if (nbb_cells[i].input_prompt_number == nbb_cell_id) {\n",
       "                        if (nbb_cells[i].get_text() == nbb_unformatted_code) {\n",
       "                             nbb_cells[i].set_text(nbb_formatted_code);\n",
       "                        }\n",
       "                        break;\n",
       "                    }\n",
       "                }\n",
       "            }, 500);\n",
       "            "
      ],
      "text/plain": [
       "<IPython.core.display.Javascript object>"
      ]
     },
     "metadata": {},
     "output_type": "display_data"
    }
   ],
   "source": [
    "hashprints = []\n",
    "with open(\"dump\", \"rb\") as fp:\n",
    "    hashprints = pickle.load(fp)"
   ]
  },
  {
   "cell_type": "code",
   "execution_count": 8,
   "metadata": {},
   "outputs": [
    {
     "data": {
      "text/plain": [
       "['/Users/chingachgook/dev/QtProjects/hpfw/slices/slice008_The Killers - Mr.mp3',\n",
       " '/Users/chingachgook/dev/QtProjects/hpfw/slices/slice007_Буерак - На старых сидениях кинотеатра live.mp3',\n",
       " '/Users/chingachgook/dev/QtProjects/hpfw/slices/slice023_Joy Division - New Dawn Fades live.mp3',\n",
       " '/Users/chingachgook/dev/QtProjects/hpfw/slices/slice007_The Smiths - The Boy with the Thorn in His Side live.mp3',\n",
       " '/Users/chingachgook/dev/QtProjects/hpfw/slices/slice015_пасош - каждый день live.mp3',\n",
       " '/Users/chingachgook/dev/QtProjects/hpfw/slices/slice003_Буерак - На старых сидениях кинотеатра live.mp3',\n",
       " '/Users/chingachgook/dev/QtProjects/hpfw/slices/slice016_Joy Division - New Dawn Fades live.mp3',\n",
       " '/Users/chingachgook/dev/QtProjects/hpfw/slices/slice002_Joy Division - Day Of The Lords live.mp3',\n",
       " '/Users/chingachgook/dev/QtProjects/hpfw/slices/slice008_The Smiths - Cemetry Gates live.mp3',\n",
       " '/Users/chingachgook/dev/QtProjects/hpfw/slices/slice005_Joy Division - New Dawn Fades live.mp3',\n",
       " '/Users/chingachgook/dev/QtProjects/hpfw/slices/slice002_Neil Young - Old Man live.mp3',\n",
       " '/Users/chingachgook/dev/QtProjects/hpfw/slices/slice016_Joy Division - Day Of The Lords live.mp3',\n",
       " '/Users/chingachgook/dev/QtProjects/hpfw/slices/slice001_The Doors - People Are Strange live.mp3',\n",
       " '/Users/chingachgook/dev/QtProjects/hpfw/slices/slice000_The Doors - People Are Strange live.mp3',\n",
       " '/Users/chingachgook/dev/QtProjects/hpfw/slices/slice007_The Smiths - Cemetry Gates live.mp3',\n",
       " '/Users/chingachgook/dev/QtProjects/hpfw/slices/slice012_Joy Division - Day Of The Lords live.mp3',\n",
       " '/Users/chingachgook/dev/QtProjects/hpfw/slices/slice015_Joy Division - New Dawn Fades live.mp3',\n",
       " '/Users/chingachgook/dev/QtProjects/hpfw/slices/slice021_пасош - каждый день live.mp3',\n",
       " '/Users/chingachgook/dev/QtProjects/hpfw/slices/slice006_Joy Division - Day Of The Lords live.mp3',\n",
       " '/Users/chingachgook/dev/QtProjects/hpfw/slices/slice006_Joy Division - New Dawn Fades live.mp3',\n",
       " '/Users/chingachgook/dev/QtProjects/hpfw/slices/slice002_The Killers - Mr.mp3',\n",
       " '/Users/chingachgook/dev/QtProjects/hpfw/slices/slice010_The Smiths - The Boy with the Thorn in His Side live.mp3',\n",
       " '/Users/chingachgook/dev/QtProjects/hpfw/slices/slice014_The Smiths - Cemetry Gates live.mp3',\n",
       " '/Users/chingachgook/dev/QtProjects/hpfw/slices/slice013_Neil Young - Old Man live.mp3',\n",
       " '/Users/chingachgook/dev/QtProjects/hpfw/slices/slice007_The Killers - Mr.mp3',\n",
       " '/Users/chingachgook/dev/QtProjects/hpfw/slices/slice023_Буерак - На старых сидениях кинотеатра live.mp3',\n",
       " '/Users/chingachgook/dev/QtProjects/hpfw/slices/slice004_пасош - каждый день live.mp3',\n",
       " '/Users/chingachgook/dev/QtProjects/hpfw/slices/slice020_Joy Division - New Dawn Fades live.mp3',\n",
       " '/Users/chingachgook/dev/QtProjects/hpfw/slices/slice000_The Smiths - The Boy with the Thorn in His Side live.mp3',\n",
       " '/Users/chingachgook/dev/QtProjects/hpfw/slices/slice020_Neil Young - Old Man live.mp3',\n",
       " '/Users/chingachgook/dev/QtProjects/hpfw/slices/slice000_Joy Division - New Dawn Fades live.mp3',\n",
       " '/Users/chingachgook/dev/QtProjects/hpfw/slices/slice027_Joy Division - Day Of The Lords live.mp3',\n",
       " '/Users/chingachgook/dev/QtProjects/hpfw/slices/slice002_Буерак - На старых сидениях кинотеатра live.mp3',\n",
       " '/Users/chingachgook/dev/QtProjects/hpfw/slices/slice013_Joy Division - New Dawn Fades live.mp3',\n",
       " '/Users/chingachgook/dev/QtProjects/hpfw/slices/slice015_The Killers - Mr.mp3',\n",
       " '/Users/chingachgook/dev/QtProjects/hpfw/slices/slice005_Neil Young - Old Man live.mp3',\n",
       " '/Users/chingachgook/dev/QtProjects/hpfw/slices/slice006_Буерак - На старых сидениях кинотеатра live.mp3',\n",
       " '/Users/chingachgook/dev/QtProjects/hpfw/slices/slice012_пасош - каждый день live.mp3',\n",
       " '/Users/chingachgook/dev/QtProjects/hpfw/slices/slice002_The Doors - People Are Strange live.mp3',\n",
       " '/Users/chingachgook/dev/QtProjects/hpfw/slices/slice010_The Killers - Mr.mp3',\n",
       " '/Users/chingachgook/dev/QtProjects/hpfw/slices/slice021_The Smiths - The Boy with the Thorn in His Side live.mp3',\n",
       " '/Users/chingachgook/dev/QtProjects/hpfw/slices/slice017_The Smiths - The Boy with the Thorn in His Side live.mp3',\n",
       " '/Users/chingachgook/dev/QtProjects/hpfw/slices/slice022_Буерак - На старых сидениях кинотеатра live.mp3',\n",
       " '/Users/chingachgook/dev/QtProjects/hpfw/slices/slice003_The Doors - People Are Strange live.mp3',\n",
       " '/Users/chingachgook/dev/QtProjects/hpfw/slices/slice004_The Smiths - Cemetry Gates live.mp3',\n",
       " '/Users/chingachgook/dev/QtProjects/hpfw/slices/slice023_Joy Division - Day Of The Lords live.mp3',\n",
       " '/Users/chingachgook/dev/QtProjects/hpfw/slices/slice003_Joy Division - New Dawn Fades live.mp3',\n",
       " '/Users/chingachgook/dev/QtProjects/hpfw/slices/slice003_пасош - каждый день live.mp3',\n",
       " '/Users/chingachgook/dev/QtProjects/hpfw/slices/slice010_Joy Division - New Dawn Fades live.mp3',\n",
       " '/Users/chingachgook/dev/QtProjects/hpfw/slices/slice022_The Killers - Mr.mp3',\n",
       " '/Users/chingachgook/dev/QtProjects/hpfw/slices/slice014_Neil Young - Old Man live.mp3',\n",
       " '/Users/chingachgook/dev/QtProjects/hpfw/slices/slice003_The Killers - Mr.mp3',\n",
       " '/Users/chingachgook/dev/QtProjects/hpfw/slices/slice001_The Smiths - The Boy with the Thorn in His Side live.mp3',\n",
       " '/Users/chingachgook/dev/QtProjects/hpfw/slices/slice024_Joy Division - Day Of The Lords live.mp3',\n",
       " '/Users/chingachgook/dev/QtProjects/hpfw/slices/slice005_пасош - каждый день live.mp3',\n",
       " '/Users/chingachgook/dev/QtProjects/hpfw/slices/slice021_Буерак - На старых сидениях кинотеатра live.mp3',\n",
       " '/Users/chingachgook/dev/QtProjects/hpfw/slices/slice012_Neil Young - Old Man live.mp3',\n",
       " '/Users/chingachgook/dev/QtProjects/hpfw/slices/slice009_The Doors - People Are Strange live.mp3',\n",
       " '/Users/chingachgook/dev/QtProjects/hpfw/slices/slice007_The Doors - People Are Strange live.mp3',\n",
       " '/Users/chingachgook/dev/QtProjects/hpfw/slices/slice020_пасош - каждый день live.mp3',\n",
       " '/Users/chingachgook/dev/QtProjects/hpfw/slices/slice006_The Killers - Mr.mp3',\n",
       " '/Users/chingachgook/dev/QtProjects/hpfw/slices/slice020_The Smiths - The Boy with the Thorn in His Side live.mp3',\n",
       " '/Users/chingachgook/dev/QtProjects/hpfw/slices/slice019_Joy Division - Day Of The Lords live.mp3',\n",
       " '/Users/chingachgook/dev/QtProjects/hpfw/slices/slice003_Neil Young - Old Man live.mp3',\n",
       " '/Users/chingachgook/dev/QtProjects/hpfw/slices/slice016_The Smiths - The Boy with the Thorn in His Side live.mp3',\n",
       " '/Users/chingachgook/dev/QtProjects/hpfw/slices/slice014_пасош - каждый день live.mp3',\n",
       " '/Users/chingachgook/dev/QtProjects/hpfw/slices/slice001_Буерак - На старых сидениях кинотеатра live.mp3',\n",
       " '/Users/chingachgook/dev/QtProjects/hpfw/slices/slice001_The Smiths - Cemetry Gates live.mp3',\n",
       " '/Users/chingachgook/dev/QtProjects/hpfw/slices/slice018_Буерак - На старых сидениях кинотеатра live.mp3',\n",
       " '/Users/chingachgook/dev/QtProjects/hpfw/slices/slice008_The Doors - People Are Strange live.mp3',\n",
       " '/Users/chingachgook/dev/QtProjects/hpfw/slices/slice009_Joy Division - Day Of The Lords live.mp3',\n",
       " '/Users/chingachgook/dev/QtProjects/hpfw/slices/slice006_The Doors - People Are Strange live.mp3',\n",
       " '/Users/chingachgook/dev/QtProjects/hpfw/slices/slice009_The Killers - Mr.mp3',\n",
       " '/Users/chingachgook/dev/QtProjects/hpfw/slices/slice020_Joy Division - Day Of The Lords live.mp3',\n",
       " '/Users/chingachgook/dev/QtProjects/hpfw/slices/slice012_The Smiths - Cemetry Gates live.mp3',\n",
       " '/Users/chingachgook/dev/QtProjects/hpfw/slices/slice005_Буерак - На старых сидениях кинотеатра live.mp3',\n",
       " '/Users/chingachgook/dev/QtProjects/hpfw/slices/slice015_Neil Young - Old Man live.mp3',\n",
       " '/Users/chingachgook/dev/QtProjects/hpfw/slices/slice009_Joy Division - New Dawn Fades live.mp3',\n",
       " '/Users/chingachgook/dev/QtProjects/hpfw/slices/slice028_Joy Division - Day Of The Lords live.mp3',\n",
       " '/Users/chingachgook/dev/QtProjects/hpfw/slices/slice006_The Smiths - The Boy with the Thorn in His Side live.mp3',\n",
       " '/Users/chingachgook/dev/QtProjects/hpfw/slices/slice002_пасош - каждый день live.mp3',\n",
       " '/Users/chingachgook/dev/QtProjects/hpfw/slices/slice024_Буерак - На старых сидениях кинотеатра live.mp3',\n",
       " '/Users/chingachgook/dev/QtProjects/hpfw/slices/slice023_The Killers - Mr.mp3',\n",
       " '/Users/chingachgook/dev/QtProjects/hpfw/slices/slice004_The Doors - People Are Strange live.mp3',\n",
       " '/Users/chingachgook/dev/QtProjects/hpfw/slices/slice015_Joy Division - Day Of The Lords live.mp3',\n",
       " '/Users/chingachgook/dev/QtProjects/hpfw/slices/slice020_Буерак - На старых сидениях кинотеатра live.mp3',\n",
       " '/Users/chingachgook/dev/QtProjects/hpfw/slices/slice001_Joy Division - Day Of The Lords live.mp3',\n",
       " '/Users/chingachgook/dev/QtProjects/hpfw/slices/slice013_пасош - каждый день live.mp3',\n",
       " '/Users/chingachgook/dev/QtProjects/hpfw/slices/slice014_The Killers - Mr.mp3',\n",
       " '/Users/chingachgook/dev/QtProjects/hpfw/slices/slice004_Буерак - На старых сидениях кинотеатра live.mp3',\n",
       " '/Users/chingachgook/dev/QtProjects/hpfw/slices/slice005_Joy Division - Day Of The Lords live.mp3',\n",
       " '/Users/chingachgook/dev/QtProjects/hpfw/slices/slice005_The Doors - People Are Strange live.mp3',\n",
       " '/Users/chingachgook/dev/QtProjects/hpfw/slices/slice004_Neil Young - Old Man live.mp3',\n",
       " '/Users/chingachgook/dev/QtProjects/hpfw/slices/slice011_The Smiths - The Boy with the Thorn in His Side live.mp3',\n",
       " '/Users/chingachgook/dev/QtProjects/hpfw/slices/slice011_Joy Division - Day Of The Lords live.mp3',\n",
       " '/Users/chingachgook/dev/QtProjects/hpfw/slices/slice002_The Smiths - Cemetry Gates live.mp3',\n",
       " '/Users/chingachgook/dev/QtProjects/hpfw/slices/slice011_The Killers - Mr.mp3',\n",
       " '/Users/chingachgook/dev/QtProjects/hpfw/slices/slice019_Буерак - На старых сидениях кинотеатра live.mp3',\n",
       " '/Users/chingachgook/dev/QtProjects/hpfw/slices/slice019_Joy Division - New Dawn Fades live.mp3',\n",
       " '/Users/chingachgook/dev/QtProjects/hpfw/slices/slice011_The Smiths - Cemetry Gates live.mp3',\n",
       " '/Users/chingachgook/dev/QtProjects/hpfw/slices/slice018_The Smiths - There Is a Light That Never Goes Out live.mp3',\n",
       " '/Users/chingachgook/dev/QtProjects/hpfw/slices/slice013_The Doors - People Are Strange live.mp3',\n",
       " '/Users/chingachgook/dev/QtProjects/hpfw/slices/slice003_The Smiths - The Boy with the Thorn in His Side live.mp3',\n",
       " '/Users/chingachgook/dev/QtProjects/hpfw/slices/slice012_The Killers - Mr.mp3',\n",
       " '/Users/chingachgook/dev/QtProjects/hpfw/slices/slice013_Буерак - На старых сидениях кинотеатра live.mp3',\n",
       " '/Users/chingachgook/dev/QtProjects/hpfw/slices/slice001_пасош - каждый день live.mp3',\n",
       " '/Users/chingachgook/dev/QtProjects/hpfw/slices/slice009_The Smiths - Cemetry Gates live.mp3',\n",
       " '/Users/chingachgook/dev/QtProjects/hpfw/slices/slice008_Neil Young - Old Man live.mp3',\n",
       " '/Users/chingachgook/dev/QtProjects/hpfw/slices/slice004_The Smiths - There Is a Light That Never Goes Out live.mp3',\n",
       " '/Users/chingachgook/dev/QtProjects/hpfw/slices/slice016_Neil Young - Old Man live.mp3',\n",
       " '/Users/chingachgook/dev/QtProjects/hpfw/slices/slice017_The Killers - Mr.mp3',\n",
       " '/Users/chingachgook/dev/QtProjects/hpfw/slices/slice017_Буерак - На старых сидениях кинотеатра live.mp3',\n",
       " '/Users/chingachgook/dev/QtProjects/hpfw/slices/Céline Dion - My Heart Will Go On kisikpisik.mp3',\n",
       " '/Users/chingachgook/dev/QtProjects/hpfw/slices/slice022_Joy Division - Day Of The Lords live.mp3',\n",
       " '/Users/chingachgook/dev/QtProjects/hpfw/slices/slice022_The Smiths - There Is a Light That Never Goes Out live.mp3',\n",
       " '/Users/chingachgook/dev/QtProjects/hpfw/slices/slice013_The Smiths - There Is a Light That Never Goes Out live.mp3',\n",
       " '/Users/chingachgook/dev/QtProjects/hpfw/slices/slice018_Joy Division - New Dawn Fades live.mp3',\n",
       " '/Users/chingachgook/dev/QtProjects/hpfw/slices/slice020_The Killers - Mr.mp3',\n",
       " '/Users/chingachgook/dev/QtProjects/hpfw/slices/slice007_Neil Young - Old Man live.mp3',\n",
       " '/Users/chingachgook/dev/QtProjects/hpfw/slices/slice008_Joy Division - New Dawn Fades live.mp3',\n",
       " '/Users/chingachgook/dev/QtProjects/hpfw/slices/slice019_Neil Young - Old Man live.mp3',\n",
       " '/Users/chingachgook/dev/QtProjects/hpfw/slices/slice014_The Smiths - The Boy with the Thorn in His Side live.mp3',\n",
       " '/Users/chingachgook/dev/QtProjects/hpfw/slices/slice018_The Killers - Mr.mp3',\n",
       " '/Users/chingachgook/dev/QtProjects/hpfw/slices/slice010_пасош - каждый день live.mp3',\n",
       " '/Users/chingachgook/dev/QtProjects/hpfw/slices/slice007_The Smiths - There Is a Light That Never Goes Out live.mp3',\n",
       " '/Users/chingachgook/dev/QtProjects/hpfw/slices/slice026_Joy Division - Day Of The Lords live.mp3',\n",
       " '/Users/chingachgook/dev/QtProjects/hpfw/slices/slice008_The Smiths - The Boy with the Thorn in His Side live.mp3',\n",
       " '/Users/chingachgook/dev/QtProjects/hpfw/slices/slice021_The Smiths - There Is a Light That Never Goes Out live.mp3',\n",
       " '/Users/chingachgook/dev/QtProjects/hpfw/slices/slice010_The Smiths - There Is a Light That Never Goes Out live.mp3',\n",
       " '/Users/chingachgook/dev/QtProjects/hpfw/slices/slice006_The Smiths - Cemetry Gates live.mp3',\n",
       " '/Users/chingachgook/dev/QtProjects/hpfw/slices/slice012_The Doors - People Are Strange live.mp3',\n",
       " '/Users/chingachgook/dev/QtProjects/hpfw/slices/slice013_Joy Division - Day Of The Lords live.mp3',\n",
       " '/Users/chingachgook/dev/QtProjects/hpfw/slices/slice002_The Smiths - There Is a Light That Never Goes Out live.mp3',\n",
       " '/Users/chingachgook/dev/QtProjects/hpfw/slices/slice010_The Doors - People Are Strange live.mp3',\n",
       " '/Users/chingachgook/dev/QtProjects/hpfw/slices/slice011_Neil Young - Old Man live.mp3',\n",
       " '/Users/chingachgook/dev/QtProjects/hpfw/slices/slice004_The Smiths - The Boy with the Thorn in His Side live.mp3',\n",
       " '/Users/chingachgook/dev/QtProjects/hpfw/slices/slice018_пасош - каждый день live.mp3',\n",
       " '/Users/chingachgook/dev/QtProjects/hpfw/slices/slice007_Joy Division - Day Of The Lords live.mp3',\n",
       " '/Users/chingachgook/dev/QtProjects/hpfw/slices/slice016_Буерак - На старых сидениях кинотеатра live.mp3',\n",
       " '/Users/chingachgook/dev/QtProjects/hpfw/slices/Neil Young - Old Man kisikpisik.mp3',\n",
       " '/Users/chingachgook/dev/QtProjects/hpfw/slices/slice006_пасош - каждый день live.mp3',\n",
       " '/Users/chingachgook/dev/QtProjects/hpfw/slices/slice015_The Smiths - There Is a Light That Never Goes Out live.mp3',\n",
       " '/Users/chingachgook/dev/QtProjects/hpfw/slices/slice009_The Smiths - There Is a Light That Never Goes Out live.mp3',\n",
       " '/Users/chingachgook/dev/QtProjects/hpfw/slices/slice012_Буерак - На старых сидениях кинотеатра live.mp3',\n",
       " '/Users/chingachgook/dev/QtProjects/hpfw/slices/slice018_The Smiths - The Boy with the Thorn in His Side live.mp3',\n",
       " '/Users/chingachgook/dev/QtProjects/hpfw/slices/slice024_The Smiths - There Is a Light That Never Goes Out live.mp3',\n",
       " '/Users/chingachgook/dev/QtProjects/hpfw/slices/slice017_пасош - каждый день live.mp3',\n",
       " '/Users/chingachgook/dev/QtProjects/hpfw/slices/slice005_The Killers - Mr.mp3',\n",
       " '/Users/chingachgook/dev/QtProjects/hpfw/slices/slice009_пасош - каждый день live.mp3',\n",
       " '/Users/chingachgook/dev/QtProjects/hpfw/slices/slice001_The Smiths - There Is a Light That Never Goes Out live.mp3',\n",
       " '/Users/chingachgook/dev/QtProjects/hpfw/slices/slice013_The Smiths - The Boy with the Thorn in His Side live.mp3',\n",
       " '/Users/chingachgook/dev/QtProjects/hpfw/slices/slice000_Neil Young - Old Man live.mp3',\n",
       " '/Users/chingachgook/dev/QtProjects/hpfw/slices/slice000_The Killers - Mr.mp3',\n",
       " '/Users/chingachgook/dev/QtProjects/hpfw/slices/slice003_Joy Division - Day Of The Lords live.mp3',\n",
       " '/Users/chingachgook/dev/QtProjects/hpfw/slices/slice016_The Smiths - There Is a Light That Never Goes Out live.mp3',\n",
       " '/Users/chingachgook/dev/QtProjects/hpfw/slices/slice011_The Doors - People Are Strange live.mp3',\n",
       " '/Users/chingachgook/dev/QtProjects/hpfw/slices/slice005_The Smiths - Cemetry Gates live.mp3',\n",
       " '/Users/chingachgook/dev/QtProjects/hpfw/slices/slice017_Joy Division - Day Of The Lords live.mp3',\n",
       " '/Users/chingachgook/dev/QtProjects/hpfw/slices/slice004_Joy Division - Day Of The Lords live.mp3',\n",
       " '/Users/chingachgook/dev/QtProjects/hpfw/slices/slice003_The Smiths - There Is a Light That Never Goes Out live.mp3',\n",
       " '/Users/chingachgook/dev/QtProjects/hpfw/slices/slice019_The Killers - Mr.mp3',\n",
       " '/Users/chingachgook/dev/QtProjects/hpfw/slices/slice010_Joy Division - Day Of The Lords live.mp3',\n",
       " '/Users/chingachgook/dev/QtProjects/hpfw/slices/slice005_The Smiths - The Boy with the Thorn in His Side live.mp3',\n",
       " '/Users/chingachgook/dev/QtProjects/hpfw/slices/slice024_Joy Division - New Dawn Fades live.mp3',\n",
       " '/Users/chingachgook/dev/QtProjects/hpfw/slices/slice021_The Killers - Mr.mp3',\n",
       " '/Users/chingachgook/dev/QtProjects/hpfw/slices/slice014_The Smiths - There Is a Light That Never Goes Out live.mp3',\n",
       " '/Users/chingachgook/dev/QtProjects/hpfw/slices/slice011_пасош - каждый день live.mp3',\n",
       " '/Users/chingachgook/dev/QtProjects/hpfw/slices/slice011_Joy Division - New Dawn Fades live.mp3',\n",
       " '/Users/chingachgook/dev/QtProjects/hpfw/slices/slice006_Neil Young - Old Man live.mp3',\n",
       " '/Users/chingachgook/dev/QtProjects/hpfw/slices/slice008_The Smiths - There Is a Light That Never Goes Out live.mp3',\n",
       " '/Users/chingachgook/dev/QtProjects/hpfw/slices/slice002_Joy Division - New Dawn Fades live.mp3',\n",
       " '/Users/chingachgook/dev/QtProjects/hpfw/slices/slice019_The Smiths - The Boy with the Thorn in His Side live.mp3',\n",
       " '/Users/chingachgook/dev/QtProjects/hpfw/slices/slice018_Neil Young - Old Man live.mp3',\n",
       " '/Users/chingachgook/dev/QtProjects/hpfw/slices/slice012_Joy Division - New Dawn Fades live.mp3',\n",
       " '/Users/chingachgook/dev/QtProjects/hpfw/slices/slice000_The Smiths - There Is a Light That Never Goes Out live.mp3',\n",
       " '/Users/chingachgook/dev/QtProjects/hpfw/slices/slice013_The Smiths - Cemetry Gates live.mp3',\n",
       " '/Users/chingachgook/dev/QtProjects/hpfw/slices/slice015_Буерак - На старых сидениях кинотеатра live.mp3',\n",
       " '/Users/chingachgook/dev/QtProjects/hpfw/slices/slice001_Joy Division - New Dawn Fades live.mp3',\n",
       " '/Users/chingachgook/dev/QtProjects/hpfw/slices/slice013_The Killers - Mr.mp3',\n",
       " '/Users/chingachgook/dev/QtProjects/hpfw/slices/slice012_The Smiths - The Boy with the Thorn in His Side live.mp3',\n",
       " '/Users/chingachgook/dev/QtProjects/hpfw/slices/slice029_Joy Division - Day Of The Lords live.mp3',\n",
       " '/Users/chingachgook/dev/QtProjects/hpfw/slices/slice009_Neil Young - Old Man live.mp3',\n",
       " '/Users/chingachgook/dev/QtProjects/hpfw/slices/slice014_Joy Division - Day Of The Lords live.mp3',\n",
       " '/Users/chingachgook/dev/QtProjects/hpfw/slices/slice014_The Doors - People Are Strange live.mp3',\n",
       " '/Users/chingachgook/dev/QtProjects/hpfw/slices/slice017_The Smiths - There Is a Light That Never Goes Out live.mp3',\n",
       " '/Users/chingachgook/dev/QtProjects/hpfw/slices/slice000_The Smiths - Cemetry Gates live.mp3',\n",
       " '/Users/chingachgook/dev/QtProjects/hpfw/slices/slice017_Neil Young - Old Man live.mp3',\n",
       " '/Users/chingachgook/dev/QtProjects/hpfw/slices/slice000_Joy Division - Day Of The Lords live.mp3',\n",
       " '/Users/chingachgook/dev/QtProjects/hpfw/slices/slice011_Буерак - На старых сидениях кинотеатра live.mp3',\n",
       " '/Users/chingachgook/dev/QtProjects/hpfw/slices/slice008_Буерак - На старых сидениях кинотеатра live.mp3',\n",
       " '/Users/chingachgook/dev/QtProjects/hpfw/slices/slice016_The Killers - Mr.mp3',\n",
       " '/Users/chingachgook/dev/QtProjects/hpfw/slices/slice000_пасош - каждый день live.mp3',\n",
       " '/Users/chingachgook/dev/QtProjects/hpfw/slices/slice007_Joy Division - New Dawn Fades live.mp3',\n",
       " '/Users/chingachgook/dev/QtProjects/hpfw/slices/slice019_The Smiths - There Is a Light That Never Goes Out live.mp3',\n",
       " '/Users/chingachgook/dev/QtProjects/hpfw/slices/slice002_The Smiths - The Boy with the Thorn in His Side live.mp3',\n",
       " '/Users/chingachgook/dev/QtProjects/hpfw/slices/slice014_Joy Division - New Dawn Fades live.mp3',\n",
       " '/Users/chingachgook/dev/QtProjects/hpfw/slices/slice005_The Smiths - There Is a Light That Never Goes Out live.mp3',\n",
       " '/Users/chingachgook/dev/QtProjects/hpfw/slices/slice008_Joy Division - Day Of The Lords live.mp3',\n",
       " '/Users/chingachgook/dev/QtProjects/hpfw/slices/slice004_The Killers - Mr.mp3',\n",
       " '/Users/chingachgook/dev/QtProjects/hpfw/slices/slice001_Neil Young - Old Man live.mp3',\n",
       " '/Users/chingachgook/dev/QtProjects/hpfw/slices/slice021_Joy Division - New Dawn Fades live.mp3',\n",
       " '/Users/chingachgook/dev/QtProjects/hpfw/slices/slice023_The Smiths - There Is a Light That Never Goes Out live.mp3',\n",
       " '/Users/chingachgook/dev/QtProjects/hpfw/slices/slice012_The Smiths - There Is a Light That Never Goes Out live.mp3',\n",
       " '/Users/chingachgook/dev/QtProjects/hpfw/slices/slice016_пасош - каждый день live.mp3',\n",
       " '/Users/chingachgook/dev/QtProjects/hpfw/slices/slice001_The Killers - Mr.mp3',\n",
       " '/Users/chingachgook/dev/QtProjects/hpfw/slices/slice021_Joy Division - Day Of The Lords live.mp3',\n",
       " '/Users/chingachgook/dev/QtProjects/hpfw/slices/slice008_пасош - каждый день live.mp3',\n",
       " '/Users/chingachgook/dev/QtProjects/hpfw/slices/slice009_Буерак - На старых сидениях кинотеатра live.mp3',\n",
       " '/Users/chingachgook/dev/QtProjects/hpfw/slices/slice010_Буерак - На старых сидениях кинотеатра live.mp3',\n",
       " '/Users/chingachgook/dev/QtProjects/hpfw/slices/slice010_The Smiths - Cemetry Gates live.mp3',\n",
       " '/Users/chingachgook/dev/QtProjects/hpfw/slices/slice015_The Smiths - The Boy with the Thorn in His Side live.mp3',\n",
       " '/Users/chingachgook/dev/QtProjects/hpfw/slices/slice025_Joy Division - Day Of The Lords live.mp3',\n",
       " '/Users/chingachgook/dev/QtProjects/hpfw/slices/slice022_Joy Division - New Dawn Fades live.mp3',\n",
       " '/Users/chingachgook/dev/QtProjects/hpfw/slices/slice006_The Smiths - There Is a Light That Never Goes Out live.mp3',\n",
       " '/Users/chingachgook/dev/QtProjects/hpfw/slices/slice009_The Smiths - The Boy with the Thorn in His Side live.mp3',\n",
       " '/Users/chingachgook/dev/QtProjects/hpfw/slices/slice019_пасош - каждый день live.mp3',\n",
       " '/Users/chingachgook/dev/QtProjects/hpfw/slices/slice020_The Smiths - There Is a Light That Never Goes Out live.mp3',\n",
       " '/Users/chingachgook/dev/QtProjects/hpfw/slices/slice003_The Smiths - Cemetry Gates live.mp3',\n",
       " '/Users/chingachgook/dev/QtProjects/hpfw/slices/slice004_Joy Division - New Dawn Fades live.mp3',\n",
       " '/Users/chingachgook/dev/QtProjects/hpfw/slices/slice014_Буерак - На старых сидениях кинотеатра live.mp3',\n",
       " '/Users/chingachgook/dev/QtProjects/hpfw/slices/slice007_пасош - каждый день live.mp3',\n",
       " '/Users/chingachgook/dev/QtProjects/hpfw/slices/slice018_Joy Division - Day Of The Lords live.mp3',\n",
       " '/Users/chingachgook/dev/QtProjects/hpfw/slices/slice011_The Smiths - There Is a Light That Never Goes Out live.mp3',\n",
       " '/Users/chingachgook/dev/QtProjects/hpfw/slices/slice017_Joy Division - New Dawn Fades live.mp3',\n",
       " '/Users/chingachgook/dev/QtProjects/hpfw/slices/slice010_Neil Young - Old Man live.mp3']"
      ]
     },
     "execution_count": 8,
     "metadata": {},
     "output_type": "execute_result"
    },
    {
     "data": {
      "application/javascript": [
       "\n",
       "            setTimeout(function() {\n",
       "                var nbb_cell_id = 8;\n",
       "                var nbb_unformatted_code = \"slices = glob.glob(\\\"/Users/chingachgook/dev/QtProjects/hpfw/slices/*\\\")\\nslices\";\n",
       "                var nbb_formatted_code = \"slices = glob.glob(\\\"/Users/chingachgook/dev/QtProjects/hpfw/slices/*\\\")\\nslices\";\n",
       "                var nbb_cells = Jupyter.notebook.get_cells();\n",
       "                for (var i = 0; i < nbb_cells.length; ++i) {\n",
       "                    if (nbb_cells[i].input_prompt_number == nbb_cell_id) {\n",
       "                        if (nbb_cells[i].get_text() == nbb_unformatted_code) {\n",
       "                             nbb_cells[i].set_text(nbb_formatted_code);\n",
       "                        }\n",
       "                        break;\n",
       "                    }\n",
       "                }\n",
       "            }, 500);\n",
       "            "
      ],
      "text/plain": [
       "<IPython.core.display.Javascript object>"
      ]
     },
     "metadata": {},
     "output_type": "display_data"
    }
   ],
   "source": [
    "slices = glob.glob(\"/Users/chingachgook/dev/QtProjects/hpfw/slices/*\")\n",
    "slices"
   ]
  },
  {
   "cell_type": "code",
   "execution_count": 9,
   "metadata": {},
   "outputs": [
    {
     "data": {
      "application/javascript": [
       "\n",
       "            setTimeout(function() {\n",
       "                var nbb_cell_id = 9;\n",
       "                var nbb_unformatted_code = \"collector.load(\\\"\\\")\";\n",
       "                var nbb_formatted_code = \"collector.load(\\\"\\\")\";\n",
       "                var nbb_cells = Jupyter.notebook.get_cells();\n",
       "                for (var i = 0; i < nbb_cells.length; ++i) {\n",
       "                    if (nbb_cells[i].input_prompt_number == nbb_cell_id) {\n",
       "                        if (nbb_cells[i].get_text() == nbb_unformatted_code) {\n",
       "                             nbb_cells[i].set_text(nbb_formatted_code);\n",
       "                        }\n",
       "                        break;\n",
       "                    }\n",
       "                }\n",
       "            }, 500);\n",
       "            "
      ],
      "text/plain": [
       "<IPython.core.display.Javascript object>"
      ]
     },
     "metadata": {},
     "output_type": "display_data"
    }
   ],
   "source": [
    "collector.load(\"\")"
   ]
  },
  {
   "cell_type": "code",
   "execution_count": 54,
   "metadata": {},
   "outputs": [
    {
     "name": "stdout",
     "output_type": "stream",
     "text": [
      "Finding  /Users/chingachgook/dev/QtProjects/hpfw/slices/slice012_Joy Division - Day Of The Lords live.mp3\n",
      "Finding  /Users/chingachgook/dev/QtProjects/hpfw/slices/slice008_The Killers - Mr.mp3\n",
      "Finding  /Users/chingachgook/dev/QtProjects/hpfw/slices/slice023_Joy Division - Day Of The Lords live.mp3\n",
      "Finding  /Users/chingachgook/dev/QtProjects/hpfw/slices/slice000_Joy Division - New Dawn Fades live.mp3\n",
      "Finding  /Users/chingachgook/dev/QtProjects/hpfw/slices/slice027_Joy Division - Day Of The Lords live.mp3\n",
      "Finding  /Users/chingachgook/dev/QtProjects/hpfw/slices/slice003_Joy Division - New Dawn Fades live.mp3\n",
      "Finding  /Users/chingachgook/dev/QtProjects/hpfw/slices/slice015_Joy Division - New Dawn Fades live.mp3\n",
      "Finding  /Users/chingachgook/dev/QtProjects/hpfw/slices/slice007_Буерак - На старых сидениях кинотеатра live.mp3\n",
      "Finding  /Users/chingachgook/dev/QtProjects/hpfw/slices/slice002_Буерак - На старых сидениях кинотеатра live.mp3\n",
      "Finding  /Users/chingachgook/dev/QtProjects/hpfw/slices/slice023_Joy Division - New Dawn Fades live.mp3\n",
      "Finding  /Users/chingachgook/dev/QtProjects/hpfw/slices/slice021_пасош - каждый день live.mp3\n",
      "Finding  /Users/chingachgook/dev/QtProjects/hpfw/slices/slice003_пасош - каждый день live.mp3\n",
      "Finding  /Users/chingachgook/dev/QtProjects/hpfw/slices/slice006_Joy Division - Day Of The Lords live.mp3\n",
      "Finding  /Users/chingachgook/dev/QtProjects/hpfw/slices/slice013_Joy Division - New Dawn Fades live.mp3\n",
      "Finding  /Users/chingachgook/dev/QtProjects/hpfw/slices/slice007_The Smiths - The Boy with the Thorn in His Side live.mp3\n",
      "Finding  /Users/chingachgook/dev/QtProjects/hpfw/slices/slice010_Joy Division - New Dawn Fades live.mp3\n",
      "Finding  /Users/chingachgook/dev/QtProjects/hpfw/slices/slice006_Joy Division - New Dawn Fades live.mp3\n",
      "Finding  /Users/chingachgook/dev/QtProjects/hpfw/slices/slice015_The Killers - Mr.mp3\n",
      "Finding  /Users/chingachgook/dev/QtProjects/hpfw/slices/slice022_The Killers - Mr.mp3\n",
      "Finding  /Users/chingachgook/dev/QtProjects/hpfw/slices/slice015_пасош - каждый день live.mp3\n",
      "Finding  /Users/chingachgook/dev/QtProjects/hpfw/slices/slice002_The Killers - Mr.mp3\n",
      "Finding  /Users/chingachgook/dev/QtProjects/hpfw/slices/slice005_Neil Young - Old Man live.mp3\n",
      "Finding  /Users/chingachgook/dev/QtProjects/hpfw/slices/slice014_Neil Young - Old Man live.mp3\n",
      "Finding  /Users/chingachgook/dev/QtProjects/hpfw/slices/slice003_Буерак - На старых сидениях кинотеатра live.mp3\n",
      "Finding  /Users/chingachgook/dev/QtProjects/hpfw/slices/slice010_The Smiths - The Boy with the Thorn in His Side live.mp3\n",
      "Finding  /Users/chingachgook/dev/QtProjects/hpfw/slices/slice006_Буерак - На старых сидениях кинотеатра live.mp3\n",
      "Finding  /Users/chingachgook/dev/QtProjects/hpfw/slices/slice003_The Killers - Mr.mp3\n",
      "Finding  /Users/chingachgook/dev/QtProjects/hpfw/slices/slice016_Joy Division - New Dawn Fades live.mp3\n",
      "Finding  /Users/chingachgook/dev/QtProjects/hpfw/slices/slice014_The Smiths - Cemetry Gates live.mp3\n",
      "Finding  /Users/chingachgook/dev/QtProjects/hpfw/slices/slice012_пасош - каждый день live.mp3\n",
      "Finding  /Users/chingachgook/dev/QtProjects/hpfw/slices/slice002_Joy Division - Day Of The Lords live.mp3\n",
      "Finding  /Users/chingachgook/dev/QtProjects/hpfw/slices/slice001_The Smiths - The Boy with the Thorn in His Side live.mp3\n",
      "Finding  /Users/chingachgook/dev/QtProjects/hpfw/slices/slice013_Neil Young - Old Man live.mp3\n",
      "Finding  /Users/chingachgook/dev/QtProjects/hpfw/slices/slice002_The Doors - People Are Strange live.mp3\n",
      "Finding  /Users/chingachgook/dev/QtProjects/hpfw/slices/slice008_The Smiths - Cemetry Gates live.mp3\n",
      "Finding  /Users/chingachgook/dev/QtProjects/hpfw/slices/slice024_Joy Division - Day Of The Lords live.mp3\n",
      "Finding  /Users/chingachgook/dev/QtProjects/hpfw/slices/slice007_The Killers - Mr.mp3\n",
      "Finding  /Users/chingachgook/dev/QtProjects/hpfw/slices/slice010_The Killers - Mr.mp3\n",
      "Finding  /Users/chingachgook/dev/QtProjects/hpfw/slices/slice005_Joy Division - New Dawn Fades live.mp3\n",
      "Finding  /Users/chingachgook/dev/QtProjects/hpfw/slices/slice005_пасош - каждый день live.mp3\n",
      "Finding  /Users/chingachgook/dev/QtProjects/hpfw/slices/slice023_Буерак - На старых сидениях кинотеатра live.mp3\n",
      "Finding  /Users/chingachgook/dev/QtProjects/hpfw/slices/slice021_The Smiths - The Boy with the Thorn in His Side live.mp3\n",
      "Finding  /Users/chingachgook/dev/QtProjects/hpfw/slices/slice002_Neil Young - Old Man live.mp3\n",
      "Finding  /Users/chingachgook/dev/QtProjects/hpfw/slices/slice021_Буерак - На старых сидениях кинотеатра live.mp3\n",
      "Finding  /Users/chingachgook/dev/QtProjects/hpfw/slices/slice004_пасош - каждый день live.mp3\n",
      "Finding  /Users/chingachgook/dev/QtProjects/hpfw/slices/slice017_The Smiths - The Boy with the Thorn in His Side live.mp3\n",
      "Finding  /Users/chingachgook/dev/QtProjects/hpfw/slices/slice016_Joy Division - Day Of The Lords live.mp3\n",
      "Finding  /Users/chingachgook/dev/QtProjects/hpfw/slices/slice012_Neil Young - Old Man live.mp3\n",
      "Finding  /Users/chingachgook/dev/QtProjects/hpfw/slices/slice020_Joy Division - New Dawn Fades live.mp3\n",
      "Finding  /Users/chingachgook/dev/QtProjects/hpfw/slices/slice022_Буерак - На старых сидениях кинотеатра live.mp3\n",
      "Finding  /Users/chingachgook/dev/QtProjects/hpfw/slices/slice001_The Doors - People Are Strange live.mp3\n",
      "Finding  /Users/chingachgook/dev/QtProjects/hpfw/slices/slice009_The Doors - People Are Strange live.mp3\n",
      "Finding  /Users/chingachgook/dev/QtProjects/hpfw/slices/slice000_The Smiths - The Boy with the Thorn in His Side live.mp3\n",
      "Finding  /Users/chingachgook/dev/QtProjects/hpfw/slices/slice003_The Doors - People Are Strange live.mp3\n",
      "Finding  /Users/chingachgook/dev/QtProjects/hpfw/slices/slice000_The Doors - People Are Strange live.mp3\n",
      "Finding  /Users/chingachgook/dev/QtProjects/hpfw/slices/slice007_The Doors - People Are Strange live.mp3\n",
      "Finding  /Users/chingachgook/dev/QtProjects/hpfw/slices/slice020_Neil Young - Old Man live.mp3\n",
      "Finding  /Users/chingachgook/dev/QtProjects/hpfw/slices/slice004_The Smiths - Cemetry Gates live.mp3\n",
      "Finding  /Users/chingachgook/dev/QtProjects/hpfw/slices/slice007_The Smiths - Cemetry Gates live.mp3\n",
      "Finding  /Users/chingachgook/dev/QtProjects/hpfw/slices/slice020_пасош - каждый день live.mp3\n",
      "Finding  /Users/chingachgook/dev/QtProjects/hpfw/slices/slice006_The Killers - Mr.mp3\n",
      "Finding  /Users/chingachgook/dev/QtProjects/hpfw/slices/slice005_Буерак - На старых сидениях кинотеатра live.mp3\n",
      "Finding  /Users/chingachgook/dev/QtProjects/hpfw/slices/slice005_Joy Division - Day Of The Lords live.mp3\n",
      "Finding  /Users/chingachgook/dev/QtProjects/hpfw/slices/slice001_пасош - каждый день live.mp3\n",
      "Finding  /Users/chingachgook/dev/QtProjects/hpfw/slices/slice020_The Smiths - The Boy with the Thorn in His Side live.mp3\n",
      "Finding  /Users/chingachgook/dev/QtProjects/hpfw/slices/slice015_Neil Young - Old Man live.mp3\n",
      "Finding  /Users/chingachgook/dev/QtProjects/hpfw/slices/slice005_The Doors - People Are Strange live.mp3\n",
      "Finding  /Users/chingachgook/dev/QtProjects/hpfw/slices/slice009_The Smiths - Cemetry Gates live.mp3\n",
      "Finding  /Users/chingachgook/dev/QtProjects/hpfw/slices/slice019_Joy Division - Day Of The Lords live.mp3\n",
      "Finding  /Users/chingachgook/dev/QtProjects/hpfw/slices/slice009_Joy Division - New Dawn Fades live.mp3\n",
      "Finding  /Users/chingachgook/dev/QtProjects/hpfw/slices/slice004_Neil Young - Old Man live.mp3\n",
      "Finding  /Users/chingachgook/dev/QtProjects/hpfw/slices/slice008_Neil Young - Old Man live.mp3\n",
      "Finding  /Users/chingachgook/dev/QtProjects/hpfw/slices/slice003_Neil Young - Old Man live.mp3\n",
      "Finding  /Users/chingachgook/dev/QtProjects/hpfw/slices/slice028_Joy Division - Day Of The Lords live.mp3\n",
      "Finding  /Users/chingachgook/dev/QtProjects/hpfw/slices/slice011_The Smiths - The Boy with the Thorn in His Side live.mp3\n",
      "Finding  /Users/chingachgook/dev/QtProjects/hpfw/slices/slice004_The Smiths - There Is a Light That Never Goes Out live.mp3\n",
      "Finding  /Users/chingachgook/dev/QtProjects/hpfw/slices/slice016_The Smiths - The Boy with the Thorn in His Side live.mp3\n",
      "Finding  /Users/chingachgook/dev/QtProjects/hpfw/slices/slice006_The Smiths - The Boy with the Thorn in His Side live.mp3\n",
      "Finding  /Users/chingachgook/dev/QtProjects/hpfw/slices/slice011_Joy Division - Day Of The Lords live.mp3\n",
      "Finding  /Users/chingachgook/dev/QtProjects/hpfw/slices/slice016_Neil Young - Old Man live.mp3\n"
     ]
    },
    {
     "name": "stdout",
     "output_type": "stream",
     "text": [
      "Finding  /Users/chingachgook/dev/QtProjects/hpfw/slices/slice014_пасош - каждый день live.mp3\n",
      "Finding  /Users/chingachgook/dev/QtProjects/hpfw/slices/slice002_The Smiths - Cemetry Gates live.mp3\n",
      "Finding  /Users/chingachgook/dev/QtProjects/hpfw/slices/slice002_пасош - каждый день live.mp3\n",
      "Finding  /Users/chingachgook/dev/QtProjects/hpfw/slices/slice017_The Killers - Mr.mp3\n",
      "Finding  /Users/chingachgook/dev/QtProjects/hpfw/slices/slice001_Буерак - На старых сидениях кинотеатра live.mp3\n",
      "Finding  /Users/chingachgook/dev/QtProjects/hpfw/slices/slice011_The Killers - Mr.mp3\n",
      "Finding  /Users/chingachgook/dev/QtProjects/hpfw/slices/slice024_Буерак - На старых сидениях кинотеатра live.mp3\n",
      "Finding  /Users/chingachgook/dev/QtProjects/hpfw/slices/slice017_Буерак - На старых сидениях кинотеатра live.mp3\n",
      "Finding  /Users/chingachgook/dev/QtProjects/hpfw/slices/slice001_The Smiths - Cemetry Gates live.mp3\n",
      "Finding  /Users/chingachgook/dev/QtProjects/hpfw/slices/slice019_Буерак - На старых сидениях кинотеатра live.mp3\n",
      "Finding  /Users/chingachgook/dev/QtProjects/hpfw/slices/slice023_The Killers - Mr.mp3\n",
      "Finding  /Users/chingachgook/dev/QtProjects/hpfw/slices/Céline Dion - My Heart Will Go On kisikpisik.mp3\n",
      "Finding  /Users/chingachgook/dev/QtProjects/hpfw/slices/slice018_Буерак - На старых сидениях кинотеатра live.mp3\n",
      "Finding  /Users/chingachgook/dev/QtProjects/hpfw/slices/slice019_Joy Division - New Dawn Fades live.mp3\n",
      "Finding  /Users/chingachgook/dev/QtProjects/hpfw/slices/slice004_The Doors - People Are Strange live.mp3\n",
      "Finding  /Users/chingachgook/dev/QtProjects/hpfw/slices/slice008_The Doors - People Are Strange live.mp3\n",
      "Finding  /Users/chingachgook/dev/QtProjects/hpfw/slices/slice022_Joy Division - Day Of The Lords live.mp3\n",
      "Finding  /Users/chingachgook/dev/QtProjects/hpfw/slices/slice011_The Smiths - Cemetry Gates live.mp3\n",
      "Finding  /Users/chingachgook/dev/QtProjects/hpfw/slices/slice015_Joy Division - Day Of The Lords live.mp3\n",
      "Finding  /Users/chingachgook/dev/QtProjects/hpfw/slices/slice009_Joy Division - Day Of The Lords live.mp3\n",
      "Finding  /Users/chingachgook/dev/QtProjects/hpfw/slices/slice022_The Smiths - There Is a Light That Never Goes Out live.mp3\n",
      "Finding  /Users/chingachgook/dev/QtProjects/hpfw/slices/slice020_Буерак - На старых сидениях кинотеатра live.mp3\n",
      "Finding  /Users/chingachgook/dev/QtProjects/hpfw/slices/slice018_The Smiths - There Is a Light That Never Goes Out live.mp3\n",
      "Finding  /Users/chingachgook/dev/QtProjects/hpfw/slices/slice006_The Doors - People Are Strange live.mp3\n",
      "Finding  /Users/chingachgook/dev/QtProjects/hpfw/slices/slice013_The Smiths - There Is a Light That Never Goes Out live.mp3\n",
      "Finding  /Users/chingachgook/dev/QtProjects/hpfw/slices/slice001_Joy Division - Day Of The Lords live.mp3\n",
      "Finding  /Users/chingachgook/dev/QtProjects/hpfw/slices/slice013_The Doors - People Are Strange live.mp3\n",
      "Finding  /Users/chingachgook/dev/QtProjects/hpfw/slices/slice009_The Killers - Mr.mp3\n",
      "Finding  /Users/chingachgook/dev/QtProjects/hpfw/slices/slice018_Joy Division - New Dawn Fades live.mp3\n",
      "Finding  /Users/chingachgook/dev/QtProjects/hpfw/slices/slice003_The Smiths - The Boy with the Thorn in His Side live.mp3\n",
      "Finding  /Users/chingachgook/dev/QtProjects/hpfw/slices/slice013_пасош - каждый день live.mp3\n",
      "Finding  /Users/chingachgook/dev/QtProjects/hpfw/slices/slice020_Joy Division - Day Of The Lords live.mp3\n",
      "Finding  /Users/chingachgook/dev/QtProjects/hpfw/slices/slice020_The Killers - Mr.mp3\n",
      "Finding  /Users/chingachgook/dev/QtProjects/hpfw/slices/slice012_The Killers - Mr.mp3\n",
      "Finding  /Users/chingachgook/dev/QtProjects/hpfw/slices/slice014_The Killers - Mr.mp3\n",
      "Finding  /Users/chingachgook/dev/QtProjects/hpfw/slices/slice012_The Smiths - Cemetry Gates live.mp3\n",
      "Finding  /Users/chingachgook/dev/QtProjects/hpfw/slices/slice007_Neil Young - Old Man live.mp3\n",
      "Finding  /Users/chingachgook/dev/QtProjects/hpfw/slices/slice004_Буерак - На старых сидениях кинотеатра live.mp3\n",
      "Finding  /Users/chingachgook/dev/QtProjects/hpfw/slices/slice013_Буерак - На старых сидениях кинотеатра live.mp3\n",
      "Finding  /Users/chingachgook/dev/QtProjects/hpfw/slices/slice019_Neil Young - Old Man live.mp3\n",
      "Finding  /Users/chingachgook/dev/QtProjects/hpfw/slices/slice008_Joy Division - New Dawn Fades live.mp3\n",
      "Finding  /Users/chingachgook/dev/QtProjects/hpfw/slices/slice004_The Smiths - The Boy with the Thorn in His Side live.mp3\n",
      "Finding  /Users/chingachgook/dev/QtProjects/hpfw/slices/slice013_The Smiths - The Boy with the Thorn in His Side live.mp3\n",
      "Finding  /Users/chingachgook/dev/QtProjects/hpfw/slices/slice014_The Smiths - The Boy with the Thorn in His Side live.mp3\n",
      "Finding  /Users/chingachgook/dev/QtProjects/hpfw/slices/slice014_The Smiths - There Is a Light That Never Goes Out live.mp3\n",
      "Finding  /Users/chingachgook/dev/QtProjects/hpfw/slices/slice000_Neil Young - Old Man live.mp3\n",
      "Finding  /Users/chingachgook/dev/QtProjects/hpfw/slices/slice018_пасош - каждый день live.mp3\n",
      "Finding  /Users/chingachgook/dev/QtProjects/hpfw/slices/slice018_The Killers - Mr.mp3\n",
      "Finding  /Users/chingachgook/dev/QtProjects/hpfw/slices/slice011_пасош - каждый день live.mp3\n",
      "Finding  /Users/chingachgook/dev/QtProjects/hpfw/slices/slice000_The Killers - Mr.mp3\n",
      "Finding  /Users/chingachgook/dev/QtProjects/hpfw/slices/slice007_Joy Division - Day Of The Lords live.mp3\n",
      "Finding  /Users/chingachgook/dev/QtProjects/hpfw/slices/slice010_пасош - каждый день live.mp3\n",
      "Finding  /Users/chingachgook/dev/QtProjects/hpfw/slices/slice011_Joy Division - New Dawn Fades live.mp3\n",
      "Finding  /Users/chingachgook/dev/QtProjects/hpfw/slices/slice003_Joy Division - Day Of The Lords live.mp3\n",
      "Finding  /Users/chingachgook/dev/QtProjects/hpfw/slices/slice016_Буерак - На старых сидениях кинотеатра live.mp3\n",
      "Finding  /Users/chingachgook/dev/QtProjects/hpfw/slices/slice007_The Smiths - There Is a Light That Never Goes Out live.mp3\n",
      "Finding  /Users/chingachgook/dev/QtProjects/hpfw/slices/slice006_Neil Young - Old Man live.mp3\n",
      "Finding  /Users/chingachgook/dev/QtProjects/hpfw/slices/slice016_The Smiths - There Is a Light That Never Goes Out live.mp3\n",
      "Finding  /Users/chingachgook/dev/QtProjects/hpfw/slices/Neil Young - Old Man kisikpisik.mp3\n",
      "Finding  /Users/chingachgook/dev/QtProjects/hpfw/slices/slice026_Joy Division - Day Of The Lords live.mp3\n",
      "Finding  /Users/chingachgook/dev/QtProjects/hpfw/slices/slice008_The Smiths - There Is a Light That Never Goes Out live.mp3\n",
      "Finding  /Users/chingachgook/dev/QtProjects/hpfw/slices/slice011_The Doors - People Are Strange live.mp3\n",
      "Finding  /Users/chingachgook/dev/QtProjects/hpfw/slices/slice006_пасош - каждый день live.mp3\n",
      "Finding  /Users/chingachgook/dev/QtProjects/hpfw/slices/slice008_The Smiths - The Boy with the Thorn in His Side live.mp3\n",
      "Finding  /Users/chingachgook/dev/QtProjects/hpfw/slices/slice002_Joy Division - New Dawn Fades live.mp3\n",
      "Finding  /Users/chingachgook/dev/QtProjects/hpfw/slices/slice005_The Smiths - Cemetry Gates live.mp3\n",
      "Finding  /Users/chingachgook/dev/QtProjects/hpfw/slices/slice015_The Smiths - There Is a Light That Never Goes Out live.mp3\n",
      "Finding  /Users/chingachgook/dev/QtProjects/hpfw/slices/slice021_The Smiths - There Is a Light That Never Goes Out live.mp3\n",
      "Finding  /Users/chingachgook/dev/QtProjects/hpfw/slices/slice019_The Smiths - The Boy with the Thorn in His Side live.mp3\n",
      "Finding  /Users/chingachgook/dev/QtProjects/hpfw/slices/slice017_Joy Division - Day Of The Lords live.mp3\n",
      "Finding  /Users/chingachgook/dev/QtProjects/hpfw/slices/slice009_The Smiths - There Is a Light That Never Goes Out live.mp3\n",
      "Finding  /Users/chingachgook/dev/QtProjects/hpfw/slices/slice010_The Smiths - There Is a Light That Never Goes Out live.mp3\n",
      "Finding  /Users/chingachgook/dev/QtProjects/hpfw/slices/slice018_Neil Young - Old Man live.mp3\n",
      "Finding  /Users/chingachgook/dev/QtProjects/hpfw/slices/slice004_Joy Division - Day Of The Lords live.mp3\n",
      "Finding  /Users/chingachgook/dev/QtProjects/hpfw/slices/slice012_Буерак - На старых сидениях кинотеатра live.mp3\n",
      "Finding  /Users/chingachgook/dev/QtProjects/hpfw/slices/slice006_The Smiths - Cemetry Gates live.mp3\n",
      "Finding  /Users/chingachgook/dev/QtProjects/hpfw/slices/slice012_Joy Division - New Dawn Fades live.mp3\n",
      "Finding  /Users/chingachgook/dev/QtProjects/hpfw/slices/slice003_The Smiths - There Is a Light That Never Goes Out live.mp3\n"
     ]
    },
    {
     "name": "stdout",
     "output_type": "stream",
     "text": [
      "Finding  /Users/chingachgook/dev/QtProjects/hpfw/slices/slice018_The Smiths - The Boy with the Thorn in His Side live.mp3\n",
      "Finding  /Users/chingachgook/dev/QtProjects/hpfw/slices/slice012_The Doors - People Are Strange live.mp3\n",
      "Finding  /Users/chingachgook/dev/QtProjects/hpfw/slices/slice000_The Smiths - There Is a Light That Never Goes Out live.mp3\n",
      "Finding  /Users/chingachgook/dev/QtProjects/hpfw/slices/slice019_The Killers - Mr.mp3\n",
      "Finding  /Users/chingachgook/dev/QtProjects/hpfw/slices/slice024_The Smiths - There Is a Light That Never Goes Out live.mp3\n",
      "Finding  /Users/chingachgook/dev/QtProjects/hpfw/slices/slice013_Joy Division - Day Of The Lords live.mp3\n",
      "Finding  /Users/chingachgook/dev/QtProjects/hpfw/slices/slice013_The Smiths - Cemetry Gates live.mp3\n",
      "Finding  /Users/chingachgook/dev/QtProjects/hpfw/slices/slice010_Joy Division - Day Of The Lords live.mp3\n",
      "Finding  /Users/chingachgook/dev/QtProjects/hpfw/slices/slice017_пасош - каждый день live.mp3\n",
      "Finding  /Users/chingachgook/dev/QtProjects/hpfw/slices/slice002_The Smiths - There Is a Light That Never Goes Out live.mp3\n",
      "Finding  /Users/chingachgook/dev/QtProjects/hpfw/slices/slice015_Буерак - На старых сидениях кинотеатра live.mp3\n",
      "Finding  /Users/chingachgook/dev/QtProjects/hpfw/slices/slice005_The Smiths - The Boy with the Thorn in His Side live.mp3\n",
      "Finding  /Users/chingachgook/dev/QtProjects/hpfw/slices/slice005_The Killers - Mr.mp3\n",
      "Finding  /Users/chingachgook/dev/QtProjects/hpfw/slices/slice010_The Doors - People Are Strange live.mp3\n",
      "Finding  /Users/chingachgook/dev/QtProjects/hpfw/slices/slice001_Joy Division - New Dawn Fades live.mp3\n",
      "Finding  /Users/chingachgook/dev/QtProjects/hpfw/slices/slice024_Joy Division - New Dawn Fades live.mp3\n",
      "Finding  /Users/chingachgook/dev/QtProjects/hpfw/slices/slice009_пасош - каждый день live.mp3\n",
      "Finding  /Users/chingachgook/dev/QtProjects/hpfw/slices/slice011_Neil Young - Old Man live.mp3\n",
      "Finding  /Users/chingachgook/dev/QtProjects/hpfw/slices/slice013_The Killers - Mr.mp3\n",
      "Finding  /Users/chingachgook/dev/QtProjects/hpfw/slices/slice021_The Killers - Mr.mp3\n",
      "Finding  /Users/chingachgook/dev/QtProjects/hpfw/slices/slice001_The Smiths - There Is a Light That Never Goes Out live.mp3\n",
      "Finding  /Users/chingachgook/dev/QtProjects/hpfw/slices/slice029_Joy Division - Day Of The Lords live.mp3\n",
      "Finding  /Users/chingachgook/dev/QtProjects/hpfw/slices/slice012_The Smiths - The Boy with the Thorn in His Side live.mp3\n",
      "Finding  /Users/chingachgook/dev/QtProjects/hpfw/slices/slice014_Joy Division - New Dawn Fades live.mp3\n",
      "Finding  /Users/chingachgook/dev/QtProjects/hpfw/slices/slice015_The Smiths - The Boy with the Thorn in His Side live.mp3\n",
      "Finding  /Users/chingachgook/dev/QtProjects/hpfw/slices/slice009_Neil Young - Old Man live.mp3\n",
      "Finding  /Users/chingachgook/dev/QtProjects/hpfw/slices/slice005_The Smiths - There Is a Light That Never Goes Out live.mp3\n",
      "Finding  /Users/chingachgook/dev/QtProjects/hpfw/slices/slice025_Joy Division - Day Of The Lords live.mp3\n",
      "Finding  /Users/chingachgook/dev/QtProjects/hpfw/slices/slice014_Joy Division - Day Of The Lords live.mp3\n",
      "Finding  /Users/chingachgook/dev/QtProjects/hpfw/slices/slice008_Joy Division - Day Of The Lords live.mp3\n",
      "Finding  /Users/chingachgook/dev/QtProjects/hpfw/slices/slice022_Joy Division - New Dawn Fades live.mp3\n",
      "Finding  /Users/chingachgook/dev/QtProjects/hpfw/slices/slice014_The Doors - People Are Strange live.mp3\n",
      "Finding  /Users/chingachgook/dev/QtProjects/hpfw/slices/slice004_The Killers - Mr.mp3\n",
      "Finding  /Users/chingachgook/dev/QtProjects/hpfw/slices/slice006_The Smiths - There Is a Light That Never Goes Out live.mp3\n",
      "Finding  /Users/chingachgook/dev/QtProjects/hpfw/slices/slice017_The Smiths - There Is a Light That Never Goes Out live.mp3\n",
      "Finding  /Users/chingachgook/dev/QtProjects/hpfw/slices/slice001_Neil Young - Old Man live.mp3\n",
      "Finding  /Users/chingachgook/dev/QtProjects/hpfw/slices/slice009_The Smiths - The Boy with the Thorn in His Side live.mp3\n",
      "Finding  /Users/chingachgook/dev/QtProjects/hpfw/slices/slice000_The Smiths - Cemetry Gates live.mp3\n",
      "Finding  /Users/chingachgook/dev/QtProjects/hpfw/slices/slice021_Joy Division - New Dawn Fades live.mp3\n",
      "Finding  /Users/chingachgook/dev/QtProjects/hpfw/slices/slice019_пасош - каждый день live.mp3\n",
      "Finding  /Users/chingachgook/dev/QtProjects/hpfw/slices/slice017_Neil Young - Old Man live.mp3\n",
      "Finding  /Users/chingachgook/dev/QtProjects/hpfw/slices/slice023_The Smiths - There Is a Light That Never Goes Out live.mp3\n",
      "Finding  /Users/chingachgook/dev/QtProjects/hpfw/slices/slice020_The Smiths - There Is a Light That Never Goes Out live.mp3\n",
      "Finding  /Users/chingachgook/dev/QtProjects/hpfw/slices/slice000_Joy Division - Day Of The Lords live.mp3\n",
      "Finding  /Users/chingachgook/dev/QtProjects/hpfw/slices/slice012_The Smiths - There Is a Light That Never Goes Out live.mp3\n",
      "Finding  /Users/chingachgook/dev/QtProjects/hpfw/slices/slice003_The Smiths - Cemetry Gates live.mp3\n",
      "Finding  /Users/chingachgook/dev/QtProjects/hpfw/slices/slice011_Буерак - На старых сидениях кинотеатра live.mp3\n",
      "Finding  /Users/chingachgook/dev/QtProjects/hpfw/slices/slice016_пасош - каждый день live.mp3\n",
      "Finding  /Users/chingachgook/dev/QtProjects/hpfw/slices/slice004_Joy Division - New Dawn Fades live.mp3\n",
      "Finding  /Users/chingachgook/dev/QtProjects/hpfw/slices/slice008_Буерак - На старых сидениях кинотеатра live.mp3\n",
      "Finding  /Users/chingachgook/dev/QtProjects/hpfw/slices/slice001_The Killers - Mr.mp3\n",
      "Finding  /Users/chingachgook/dev/QtProjects/hpfw/slices/slice014_Буерак - На старых сидениях кинотеатра live.mp3\n",
      "Finding  /Users/chingachgook/dev/QtProjects/hpfw/slices/slice016_The Killers - Mr.mp3\n",
      "Finding  /Users/chingachgook/dev/QtProjects/hpfw/slices/slice021_Joy Division - Day Of The Lords live.mp3\n",
      "Finding  /Users/chingachgook/dev/QtProjects/hpfw/slices/slice007_пасош - каждый день live.mp3\n",
      "Finding  /Users/chingachgook/dev/QtProjects/hpfw/slices/slice000_пасош - каждый день live.mp3\n",
      "Finding  /Users/chingachgook/dev/QtProjects/hpfw/slices/slice008_пасош - каждый день live.mp3\n",
      "Finding  /Users/chingachgook/dev/QtProjects/hpfw/slices/slice018_Joy Division - Day Of The Lords live.mp3\n",
      "Finding  /Users/chingachgook/dev/QtProjects/hpfw/slices/slice007_Joy Division - New Dawn Fades live.mp3\n",
      "Finding  /Users/chingachgook/dev/QtProjects/hpfw/slices/slice009_Буерак - На старых сидениях кинотеатра live.mp3\n",
      "Finding  /Users/chingachgook/dev/QtProjects/hpfw/slices/slice011_The Smiths - There Is a Light That Never Goes Out live.mp3\n",
      "Finding  /Users/chingachgook/dev/QtProjects/hpfw/slices/slice019_The Smiths - There Is a Light That Never Goes Out live.mp3\n",
      "Finding  /Users/chingachgook/dev/QtProjects/hpfw/slices/slice010_Буерак - На старых сидениях кинотеатра live.mp3\n",
      "Finding  /Users/chingachgook/dev/QtProjects/hpfw/slices/slice017_Joy Division - New Dawn Fades live.mp3\n",
      "Finding  /Users/chingachgook/dev/QtProjects/hpfw/slices/slice002_The Smiths - The Boy with the Thorn in His Side live.mp3\n",
      "Finding  /Users/chingachgook/dev/QtProjects/hpfw/slices/slice010_The Smiths - Cemetry Gates live.mp3\n",
      "Finding  /Users/chingachgook/dev/QtProjects/hpfw/slices/slice010_Neil Young - Old Man live.mp3\n",
      "CPU times: user 555 ms, sys: 574 ms, total: 1.13 s\n",
      "Wall time: 6min 24s\n"
     ]
    },
    {
     "data": {
      "application/javascript": [
       "\n",
       "            setTimeout(function() {\n",
       "                var nbb_cell_id = 54;\n",
       "                var nbb_unformatted_code = \"%%time\\n\\nfrom collections import defaultdict\\nimport multiprocessing\\n\\n\\ndef search(label):\\n    global collector\\n    queryFeatures = collector.calc_hashprint(label)\\n    if len(queryFeatures) == 0:\\n        return (\\\"INVALID QUERY\\\", -1, -1)\\n\\n    top = []\\n    print(\\\"Finding \\\", label)\\n    global hashprints\\n    k = len(queryFeatures)\\n\\n    for f in hashprints:\\n        refFeatures = f[0]\\n        refLabel = f[1]\\n        bestDistance = match_to_ref(queryFeatures, refFeatures)\\n        top.append((bestDistance, refLabel))\\n\\n    top = sorted(top)\\n    return (label, top[:10])\\n\\n\\npool = multiprocessing.Pool()\\nans = pool.map(search, slices)\\npool.close()\\npool.join()\";\n",
       "                var nbb_formatted_code = \"%%time\\n\\nfrom collections import defaultdict\\nimport multiprocessing\\n\\n\\ndef search(label):\\n    global collector\\n    queryFeatures = collector.calc_hashprint(label)\\n    if len(queryFeatures) == 0:\\n        return (\\\"INVALID QUERY\\\", -1, -1)\\n\\n    top = []\\n    print(\\\"Finding \\\", label)\\n    global hashprints\\n    k = len(queryFeatures)\\n\\n    for f in hashprints:\\n        refFeatures = f[0]\\n        refLabel = f[1]\\n        bestDistance = match_to_ref(queryFeatures, refFeatures)\\n        top.append((bestDistance, refLabel))\\n\\n    top = sorted(top)\\n    return (label, top[:10])\\n\\n\\npool = multiprocessing.Pool()\\nans = pool.map(search, slices)\\npool.close()\\npool.join()\";\n",
       "                var nbb_cells = Jupyter.notebook.get_cells();\n",
       "                for (var i = 0; i < nbb_cells.length; ++i) {\n",
       "                    if (nbb_cells[i].input_prompt_number == nbb_cell_id) {\n",
       "                        if (nbb_cells[i].get_text() == nbb_unformatted_code) {\n",
       "                             nbb_cells[i].set_text(nbb_formatted_code);\n",
       "                        }\n",
       "                        break;\n",
       "                    }\n",
       "                }\n",
       "            }, 500);\n",
       "            "
      ],
      "text/plain": [
       "<IPython.core.display.Javascript object>"
      ]
     },
     "metadata": {},
     "output_type": "display_data"
    }
   ],
   "source": [
    "%%time\n",
    "\n",
    "from collections import defaultdict\n",
    "import multiprocessing\n",
    "\n",
    "\n",
    "def search(label):\n",
    "    global collector\n",
    "    queryFeatures = collector.calc_hashprint(label)\n",
    "    if len(queryFeatures) == 0:\n",
    "        return (\"INVALID QUERY\", -1, -1)\n",
    "\n",
    "    top = []\n",
    "    print(\"Finding \", label)\n",
    "    global hashprints\n",
    "    k = len(queryFeatures)\n",
    "\n",
    "    for f in hashprints:\n",
    "        refFeatures = f[0]\n",
    "        refLabel = f[1]\n",
    "        bestDistance = match_to_ref(queryFeatures, refFeatures)\n",
    "        top.append((bestDistance, refLabel))\n",
    "\n",
    "    top = sorted(top)\n",
    "    return (label, top[:10])\n",
    "\n",
    "\n",
    "pool = multiprocessing.Pool()\n",
    "ans = pool.map(search, slices)\n",
    "pool.close()\n",
    "pool.join()"
   ]
  },
  {
   "cell_type": "code",
   "execution_count": 55,
   "metadata": {},
   "outputs": [
    {
     "data": {
      "text/plain": [
       "('/Users/chingachgook/dev/QtProjects/hpfw/slices/slice008_The Killers - Mr.mp3',\n",
       " [(15741, 'The Killers - Mr'),\n",
       "  (18050, 'Chernikovskaya Hata - Spektakl Okonchen'),\n",
       "  (18164, 'Neil Young - Old Man'),\n",
       "  (18183, 'Розенбаум Александр - Глухари'),\n",
       "  (18241, 'Céline Dion - My Heart Will Go On'),\n",
       "  (18273, 'Tom Waits - Martha'),\n",
       "  (18286, 'Nelly Furtado - Promiscious'),\n",
       "  (18303, 'Metallica - Master Of Puppets'),\n",
       "  (18320, 'Михаил Шуфутинский - 3-е сентября'),\n",
       "  (18321, 'Peter Gabriel - Games Without Frontiers')])"
      ]
     },
     "execution_count": 55,
     "metadata": {},
     "output_type": "execute_result"
    },
    {
     "data": {
      "application/javascript": [
       "\n",
       "            setTimeout(function() {\n",
       "                var nbb_cell_id = 55;\n",
       "                var nbb_unformatted_code = \"ans[0]\";\n",
       "                var nbb_formatted_code = \"ans[0]\";\n",
       "                var nbb_cells = Jupyter.notebook.get_cells();\n",
       "                for (var i = 0; i < nbb_cells.length; ++i) {\n",
       "                    if (nbb_cells[i].input_prompt_number == nbb_cell_id) {\n",
       "                        if (nbb_cells[i].get_text() == nbb_unformatted_code) {\n",
       "                             nbb_cells[i].set_text(nbb_formatted_code);\n",
       "                        }\n",
       "                        break;\n",
       "                    }\n",
       "                }\n",
       "            }, 500);\n",
       "            "
      ],
      "text/plain": [
       "<IPython.core.display.Javascript object>"
      ]
     },
     "metadata": {},
     "output_type": "display_data"
    }
   ],
   "source": [
    "ans[0]"
   ]
  },
  {
   "cell_type": "code",
   "execution_count": 56,
   "metadata": {},
   "outputs": [
    {
     "data": {
      "application/javascript": [
       "\n",
       "            setTimeout(function() {\n",
       "                var nbb_cell_id = 56;\n",
       "                var nbb_unformatted_code = \"from collections import Counter\\n\\ncounter = Counter([a[0].find(a[1][0][1]) != -1 for a in ans])\";\n",
       "                var nbb_formatted_code = \"from collections import Counter\\n\\ncounter = Counter([a[0].find(a[1][0][1]) != -1 for a in ans])\";\n",
       "                var nbb_cells = Jupyter.notebook.get_cells();\n",
       "                for (var i = 0; i < nbb_cells.length; ++i) {\n",
       "                    if (nbb_cells[i].input_prompt_number == nbb_cell_id) {\n",
       "                        if (nbb_cells[i].get_text() == nbb_unformatted_code) {\n",
       "                             nbb_cells[i].set_text(nbb_formatted_code);\n",
       "                        }\n",
       "                        break;\n",
       "                    }\n",
       "                }\n",
       "            }, 500);\n",
       "            "
      ],
      "text/plain": [
       "<IPython.core.display.Javascript object>"
      ]
     },
     "metadata": {},
     "output_type": "display_data"
    }
   ],
   "source": [
    "from collections import Counter\n",
    "\n",
    "counter = Counter([a[0].find(a[1][0][1]) != -1 for a in ans])"
   ]
  },
  {
   "cell_type": "code",
   "execution_count": 57,
   "metadata": {},
   "outputs": [
    {
     "data": {
      "text/plain": [
       "0.8520408163265306"
      ]
     },
     "execution_count": 57,
     "metadata": {},
     "output_type": "execute_result"
    },
    {
     "data": {
      "application/javascript": [
       "\n",
       "            setTimeout(function() {\n",
       "                var nbb_cell_id = 57;\n",
       "                var nbb_unformatted_code = \"1 - counter[False] / counter[True]\";\n",
       "                var nbb_formatted_code = \"1 - counter[False] / counter[True]\";\n",
       "                var nbb_cells = Jupyter.notebook.get_cells();\n",
       "                for (var i = 0; i < nbb_cells.length; ++i) {\n",
       "                    if (nbb_cells[i].input_prompt_number == nbb_cell_id) {\n",
       "                        if (nbb_cells[i].get_text() == nbb_unformatted_code) {\n",
       "                             nbb_cells[i].set_text(nbb_formatted_code);\n",
       "                        }\n",
       "                        break;\n",
       "                    }\n",
       "                }\n",
       "            }, 500);\n",
       "            "
      ],
      "text/plain": [
       "<IPython.core.display.Javascript object>"
      ]
     },
     "metadata": {},
     "output_type": "display_data"
    }
   ],
   "source": [
    "1 - counter[False] / counter[True]"
   ]
  }
 ],
 "metadata": {
  "kernelspec": {
   "display_name": "Python 3",
   "language": "python",
   "name": "python3"
  },
  "language_info": {
   "codemirror_mode": {
    "name": "ipython",
    "version": 3
   },
   "file_extension": ".py",
   "mimetype": "text/x-python",
   "name": "python",
   "nbconvert_exporter": "python",
   "pygments_lexer": "ipython3",
   "version": "3.8.9"
  }
 },
 "nbformat": 4,
 "nbformat_minor": 4
}
